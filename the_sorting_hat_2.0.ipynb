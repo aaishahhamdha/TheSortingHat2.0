{
  "nbformat": 4,
  "nbformat_minor": 0,
  "metadata": {
    "colab": {
      "provenance": []
    },
    "kernelspec": {
      "name": "python3",
      "display_name": "Python 3"
    },
    "language_info": {
      "name": "python"
    }
  },
  "cells": [
    {
      "cell_type": "markdown",
      "source": [
        "# **Hogwarts House Predictor**\n"
      ],
      "metadata": {
        "id": "E-R3fHQoGZyP"
      }
    },
    {
      "cell_type": "markdown",
      "source": [
        "## **Introduction**"
      ],
      "metadata": {
        "id": "_hChFc1WF2Hg"
      }
    },
    {
      "cell_type": "markdown",
      "source": [
        "Ever wondered which Hogwarts house you truly belong to? In this project, we'll build a machine learning model that acts like the Sorting Hat, predicting which house a student should be sorted into based on their magical abilities and personality traits.\n",
        "But here's the twist - we'll discover that not all datasets are created equal, and sometimes \"perfect\" results are actually a red flag! Join me as we explore overfitting, synthetic data generation, and building a more realistic predictor."
      ],
      "metadata": {
        "id": "3VZQ6ARiF4BV"
      }
    },
    {
      "cell_type": "markdown",
      "source": [
        "## **Setup and Installation**"
      ],
      "metadata": {
        "id": "nDMVmKUfF9SR"
      }
    },
    {
      "cell_type": "markdown",
      "source": [
        "First, let's install the required packages and import our libraries:"
      ],
      "metadata": {
        "id": "mqbJth_KGEXK"
      }
    },
    {
      "cell_type": "code",
      "source": [
        "# Install CatBoost - our gradient boosting algorithm of choice\n",
        "!pip install catboost"
      ],
      "metadata": {
        "colab": {
          "base_uri": "https://localhost:8080/"
        },
        "id": "uyl7nII6RJyn",
        "outputId": "f608b607-af68-41ce-e2bb-f9ee7c0d152a"
      },
      "execution_count": 1,
      "outputs": [
        {
          "output_type": "stream",
          "name": "stdout",
          "text": [
            "Requirement already satisfied: catboost in /usr/local/lib/python3.12/dist-packages (1.2.8)\n",
            "Requirement already satisfied: graphviz in /usr/local/lib/python3.12/dist-packages (from catboost) (0.21)\n",
            "Requirement already satisfied: matplotlib in /usr/local/lib/python3.12/dist-packages (from catboost) (3.10.0)\n",
            "Requirement already satisfied: numpy<3.0,>=1.16.0 in /usr/local/lib/python3.12/dist-packages (from catboost) (2.0.2)\n",
            "Requirement already satisfied: pandas>=0.24 in /usr/local/lib/python3.12/dist-packages (from catboost) (2.2.2)\n",
            "Requirement already satisfied: scipy in /usr/local/lib/python3.12/dist-packages (from catboost) (1.16.1)\n",
            "Requirement already satisfied: plotly in /usr/local/lib/python3.12/dist-packages (from catboost) (5.24.1)\n",
            "Requirement already satisfied: six in /usr/local/lib/python3.12/dist-packages (from catboost) (1.17.0)\n",
            "Requirement already satisfied: python-dateutil>=2.8.2 in /usr/local/lib/python3.12/dist-packages (from pandas>=0.24->catboost) (2.9.0.post0)\n",
            "Requirement already satisfied: pytz>=2020.1 in /usr/local/lib/python3.12/dist-packages (from pandas>=0.24->catboost) (2025.2)\n",
            "Requirement already satisfied: tzdata>=2022.7 in /usr/local/lib/python3.12/dist-packages (from pandas>=0.24->catboost) (2025.2)\n",
            "Requirement already satisfied: contourpy>=1.0.1 in /usr/local/lib/python3.12/dist-packages (from matplotlib->catboost) (1.3.3)\n",
            "Requirement already satisfied: cycler>=0.10 in /usr/local/lib/python3.12/dist-packages (from matplotlib->catboost) (0.12.1)\n",
            "Requirement already satisfied: fonttools>=4.22.0 in /usr/local/lib/python3.12/dist-packages (from matplotlib->catboost) (4.59.2)\n",
            "Requirement already satisfied: kiwisolver>=1.3.1 in /usr/local/lib/python3.12/dist-packages (from matplotlib->catboost) (1.4.9)\n",
            "Requirement already satisfied: packaging>=20.0 in /usr/local/lib/python3.12/dist-packages (from matplotlib->catboost) (25.0)\n",
            "Requirement already satisfied: pillow>=8 in /usr/local/lib/python3.12/dist-packages (from matplotlib->catboost) (11.3.0)\n",
            "Requirement already satisfied: pyparsing>=2.3.1 in /usr/local/lib/python3.12/dist-packages (from matplotlib->catboost) (3.2.3)\n",
            "Requirement already satisfied: tenacity>=6.2.0 in /usr/local/lib/python3.12/dist-packages (from plotly->catboost) (8.5.0)\n"
          ]
        }
      ]
    },
    {
      "cell_type": "code",
      "source": [
        "# Import necessary libraries\n",
        "import kagglehub\n",
        "from kagglehub import KaggleDatasetAdapter\n",
        "from sklearn.model_selection import train_test_split\n",
        "from catboost import CatBoostClassifier, Pool\n",
        "from sklearn.metrics import accuracy_score, classification_report, confusion_matrix\n",
        "import matplotlib.pyplot as plt\n",
        "import seaborn as sns\n",
        "import pandas as pd\n",
        "import numpy as np\n",
        "import random\n",
        "\n",
        "# Set style for better plots\n",
        "plt.style.use('default')\n",
        "sns.set_palette(\"husl\")"
      ],
      "metadata": {
        "id": "iofZlRKCF_26"
      },
      "execution_count": 2,
      "outputs": []
    },
    {
      "cell_type": "markdown",
      "source": [
        "## **Part 1: The Existing Dataset**"
      ],
      "metadata": {
        "id": "7Zdu5iRAGOjp"
      }
    },
    {
      "cell_type": "markdown",
      "source": [
        "Let's start by downloading the Harry Potter sorting dataset from Kaggle:"
      ],
      "metadata": {
        "id": "bdp5XWa3GVsv"
      }
    },
    {
      "cell_type": "code",
      "source": [
        "# Download dataset\n",
        "path = kagglehub.dataset_download(\"sahityapalacharla/harry-potter-sorting-dataset\")\n",
        "\n",
        "# Load CSV file into Pandas DataFrame\n",
        "df = kagglehub.load_dataset(\n",
        "    KaggleDatasetAdapter.PANDAS,\n",
        "    \"sahityapalacharla/harry-potter-sorting-dataset\",\n",
        "    \"harry_potter_1000_students.csv\"\n",
        ")"
      ],
      "metadata": {
        "colab": {
          "base_uri": "https://localhost:8080/"
        },
        "id": "02KYIkmKGyE4",
        "outputId": "388090d7-fc59-4659-81c5-cf6343401249"
      },
      "execution_count": 3,
      "outputs": [
        {
          "output_type": "stream",
          "name": "stdout",
          "text": [
            "Using Colab cache for faster access to the 'harry-potter-sorting-dataset' dataset.\n"
          ]
        },
        {
          "output_type": "stream",
          "name": "stderr",
          "text": [
            "/tmp/ipython-input-1049650714.py:5: DeprecationWarning: Use dataset_load() instead of load_dataset(). load_dataset() will be removed in a future version.\n",
            "  df = kagglehub.load_dataset(\n"
          ]
        },
        {
          "output_type": "stream",
          "name": "stdout",
          "text": [
            "Using Colab cache for faster access to the 'harry-potter-sorting-dataset' dataset.\n"
          ]
        }
      ]
    },
    {
      "cell_type": "code",
      "source": [
        "print(f\"Shape: {df.shape[0]} students, {df.shape[1]} features\")\n",
        "df.head()"
      ],
      "metadata": {
        "colab": {
          "base_uri": "https://localhost:8080/",
          "height": 311
        },
        "id": "W4VDrdavHSi-",
        "outputId": "f6ab9bcd-8f90-443b-da71-8387189e98b1"
      },
      "execution_count": 4,
      "outputs": [
        {
          "output_type": "stream",
          "name": "stdout",
          "text": [
            "Shape: 1000 students, 10 features\n"
          ]
        },
        {
          "output_type": "execute_result",
          "data": {
            "text/plain": [
              "  Blood Status  Bravery  Intelligence  Loyalty  Ambition  Dark Arts Knowledge  \\\n",
              "0   Half-blood        9             4        7         5                    0   \n",
              "1  Muggle-born        6             8        5         7                    5   \n",
              "2   Pure-blood        1             4        7         7                    1   \n",
              "3   Pure-blood        9             1        3         4                    1   \n",
              "4  Muggle-born        5             9        7         3                    3   \n",
              "\n",
              "   Quidditch Skills  Dueling Skills  Creativity       House  \n",
              "0                 8               8           7  Gryffindor  \n",
              "1                 6               4           9   Ravenclaw  \n",
              "2                 4               4           6  Hufflepuff  \n",
              "3                 9              10           1  Gryffindor  \n",
              "4                 6               7           9   Ravenclaw  "
            ],
            "text/html": [
              "\n",
              "  <div id=\"df-1f534cd3-1590-4bb7-80b0-8f52ddcd0542\" class=\"colab-df-container\">\n",
              "    <div>\n",
              "<style scoped>\n",
              "    .dataframe tbody tr th:only-of-type {\n",
              "        vertical-align: middle;\n",
              "    }\n",
              "\n",
              "    .dataframe tbody tr th {\n",
              "        vertical-align: top;\n",
              "    }\n",
              "\n",
              "    .dataframe thead th {\n",
              "        text-align: right;\n",
              "    }\n",
              "</style>\n",
              "<table border=\"1\" class=\"dataframe\">\n",
              "  <thead>\n",
              "    <tr style=\"text-align: right;\">\n",
              "      <th></th>\n",
              "      <th>Blood Status</th>\n",
              "      <th>Bravery</th>\n",
              "      <th>Intelligence</th>\n",
              "      <th>Loyalty</th>\n",
              "      <th>Ambition</th>\n",
              "      <th>Dark Arts Knowledge</th>\n",
              "      <th>Quidditch Skills</th>\n",
              "      <th>Dueling Skills</th>\n",
              "      <th>Creativity</th>\n",
              "      <th>House</th>\n",
              "    </tr>\n",
              "  </thead>\n",
              "  <tbody>\n",
              "    <tr>\n",
              "      <th>0</th>\n",
              "      <td>Half-blood</td>\n",
              "      <td>9</td>\n",
              "      <td>4</td>\n",
              "      <td>7</td>\n",
              "      <td>5</td>\n",
              "      <td>0</td>\n",
              "      <td>8</td>\n",
              "      <td>8</td>\n",
              "      <td>7</td>\n",
              "      <td>Gryffindor</td>\n",
              "    </tr>\n",
              "    <tr>\n",
              "      <th>1</th>\n",
              "      <td>Muggle-born</td>\n",
              "      <td>6</td>\n",
              "      <td>8</td>\n",
              "      <td>5</td>\n",
              "      <td>7</td>\n",
              "      <td>5</td>\n",
              "      <td>6</td>\n",
              "      <td>4</td>\n",
              "      <td>9</td>\n",
              "      <td>Ravenclaw</td>\n",
              "    </tr>\n",
              "    <tr>\n",
              "      <th>2</th>\n",
              "      <td>Pure-blood</td>\n",
              "      <td>1</td>\n",
              "      <td>4</td>\n",
              "      <td>7</td>\n",
              "      <td>7</td>\n",
              "      <td>1</td>\n",
              "      <td>4</td>\n",
              "      <td>4</td>\n",
              "      <td>6</td>\n",
              "      <td>Hufflepuff</td>\n",
              "    </tr>\n",
              "    <tr>\n",
              "      <th>3</th>\n",
              "      <td>Pure-blood</td>\n",
              "      <td>9</td>\n",
              "      <td>1</td>\n",
              "      <td>3</td>\n",
              "      <td>4</td>\n",
              "      <td>1</td>\n",
              "      <td>9</td>\n",
              "      <td>10</td>\n",
              "      <td>1</td>\n",
              "      <td>Gryffindor</td>\n",
              "    </tr>\n",
              "    <tr>\n",
              "      <th>4</th>\n",
              "      <td>Muggle-born</td>\n",
              "      <td>5</td>\n",
              "      <td>9</td>\n",
              "      <td>7</td>\n",
              "      <td>3</td>\n",
              "      <td>3</td>\n",
              "      <td>6</td>\n",
              "      <td>7</td>\n",
              "      <td>9</td>\n",
              "      <td>Ravenclaw</td>\n",
              "    </tr>\n",
              "  </tbody>\n",
              "</table>\n",
              "</div>\n",
              "    <div class=\"colab-df-buttons\">\n",
              "\n",
              "  <div class=\"colab-df-container\">\n",
              "    <button class=\"colab-df-convert\" onclick=\"convertToInteractive('df-1f534cd3-1590-4bb7-80b0-8f52ddcd0542')\"\n",
              "            title=\"Convert this dataframe to an interactive table.\"\n",
              "            style=\"display:none;\">\n",
              "\n",
              "  <svg xmlns=\"http://www.w3.org/2000/svg\" height=\"24px\" viewBox=\"0 -960 960 960\">\n",
              "    <path d=\"M120-120v-720h720v720H120Zm60-500h600v-160H180v160Zm220 220h160v-160H400v160Zm0 220h160v-160H400v160ZM180-400h160v-160H180v160Zm440 0h160v-160H620v160ZM180-180h160v-160H180v160Zm440 0h160v-160H620v160Z\"/>\n",
              "  </svg>\n",
              "    </button>\n",
              "\n",
              "  <style>\n",
              "    .colab-df-container {\n",
              "      display:flex;\n",
              "      gap: 12px;\n",
              "    }\n",
              "\n",
              "    .colab-df-convert {\n",
              "      background-color: #E8F0FE;\n",
              "      border: none;\n",
              "      border-radius: 50%;\n",
              "      cursor: pointer;\n",
              "      display: none;\n",
              "      fill: #1967D2;\n",
              "      height: 32px;\n",
              "      padding: 0 0 0 0;\n",
              "      width: 32px;\n",
              "    }\n",
              "\n",
              "    .colab-df-convert:hover {\n",
              "      background-color: #E2EBFA;\n",
              "      box-shadow: 0px 1px 2px rgba(60, 64, 67, 0.3), 0px 1px 3px 1px rgba(60, 64, 67, 0.15);\n",
              "      fill: #174EA6;\n",
              "    }\n",
              "\n",
              "    .colab-df-buttons div {\n",
              "      margin-bottom: 4px;\n",
              "    }\n",
              "\n",
              "    [theme=dark] .colab-df-convert {\n",
              "      background-color: #3B4455;\n",
              "      fill: #D2E3FC;\n",
              "    }\n",
              "\n",
              "    [theme=dark] .colab-df-convert:hover {\n",
              "      background-color: #434B5C;\n",
              "      box-shadow: 0px 1px 3px 1px rgba(0, 0, 0, 0.15);\n",
              "      filter: drop-shadow(0px 1px 2px rgba(0, 0, 0, 0.3));\n",
              "      fill: #FFFFFF;\n",
              "    }\n",
              "  </style>\n",
              "\n",
              "    <script>\n",
              "      const buttonEl =\n",
              "        document.querySelector('#df-1f534cd3-1590-4bb7-80b0-8f52ddcd0542 button.colab-df-convert');\n",
              "      buttonEl.style.display =\n",
              "        google.colab.kernel.accessAllowed ? 'block' : 'none';\n",
              "\n",
              "      async function convertToInteractive(key) {\n",
              "        const element = document.querySelector('#df-1f534cd3-1590-4bb7-80b0-8f52ddcd0542');\n",
              "        const dataTable =\n",
              "          await google.colab.kernel.invokeFunction('convertToInteractive',\n",
              "                                                    [key], {});\n",
              "        if (!dataTable) return;\n",
              "\n",
              "        const docLinkHtml = 'Like what you see? Visit the ' +\n",
              "          '<a target=\"_blank\" href=https://colab.research.google.com/notebooks/data_table.ipynb>data table notebook</a>'\n",
              "          + ' to learn more about interactive tables.';\n",
              "        element.innerHTML = '';\n",
              "        dataTable['output_type'] = 'display_data';\n",
              "        await google.colab.output.renderOutput(dataTable, element);\n",
              "        const docLink = document.createElement('div');\n",
              "        docLink.innerHTML = docLinkHtml;\n",
              "        element.appendChild(docLink);\n",
              "      }\n",
              "    </script>\n",
              "  </div>\n",
              "\n",
              "\n",
              "    <div id=\"df-4d258cc3-d4cf-437f-b18f-a1aa55a32955\">\n",
              "      <button class=\"colab-df-quickchart\" onclick=\"quickchart('df-4d258cc3-d4cf-437f-b18f-a1aa55a32955')\"\n",
              "                title=\"Suggest charts\"\n",
              "                style=\"display:none;\">\n",
              "\n",
              "<svg xmlns=\"http://www.w3.org/2000/svg\" height=\"24px\"viewBox=\"0 0 24 24\"\n",
              "     width=\"24px\">\n",
              "    <g>\n",
              "        <path d=\"M19 3H5c-1.1 0-2 .9-2 2v14c0 1.1.9 2 2 2h14c1.1 0 2-.9 2-2V5c0-1.1-.9-2-2-2zM9 17H7v-7h2v7zm4 0h-2V7h2v10zm4 0h-2v-4h2v4z\"/>\n",
              "    </g>\n",
              "</svg>\n",
              "      </button>\n",
              "\n",
              "<style>\n",
              "  .colab-df-quickchart {\n",
              "      --bg-color: #E8F0FE;\n",
              "      --fill-color: #1967D2;\n",
              "      --hover-bg-color: #E2EBFA;\n",
              "      --hover-fill-color: #174EA6;\n",
              "      --disabled-fill-color: #AAA;\n",
              "      --disabled-bg-color: #DDD;\n",
              "  }\n",
              "\n",
              "  [theme=dark] .colab-df-quickchart {\n",
              "      --bg-color: #3B4455;\n",
              "      --fill-color: #D2E3FC;\n",
              "      --hover-bg-color: #434B5C;\n",
              "      --hover-fill-color: #FFFFFF;\n",
              "      --disabled-bg-color: #3B4455;\n",
              "      --disabled-fill-color: #666;\n",
              "  }\n",
              "\n",
              "  .colab-df-quickchart {\n",
              "    background-color: var(--bg-color);\n",
              "    border: none;\n",
              "    border-radius: 50%;\n",
              "    cursor: pointer;\n",
              "    display: none;\n",
              "    fill: var(--fill-color);\n",
              "    height: 32px;\n",
              "    padding: 0;\n",
              "    width: 32px;\n",
              "  }\n",
              "\n",
              "  .colab-df-quickchart:hover {\n",
              "    background-color: var(--hover-bg-color);\n",
              "    box-shadow: 0 1px 2px rgba(60, 64, 67, 0.3), 0 1px 3px 1px rgba(60, 64, 67, 0.15);\n",
              "    fill: var(--button-hover-fill-color);\n",
              "  }\n",
              "\n",
              "  .colab-df-quickchart-complete:disabled,\n",
              "  .colab-df-quickchart-complete:disabled:hover {\n",
              "    background-color: var(--disabled-bg-color);\n",
              "    fill: var(--disabled-fill-color);\n",
              "    box-shadow: none;\n",
              "  }\n",
              "\n",
              "  .colab-df-spinner {\n",
              "    border: 2px solid var(--fill-color);\n",
              "    border-color: transparent;\n",
              "    border-bottom-color: var(--fill-color);\n",
              "    animation:\n",
              "      spin 1s steps(1) infinite;\n",
              "  }\n",
              "\n",
              "  @keyframes spin {\n",
              "    0% {\n",
              "      border-color: transparent;\n",
              "      border-bottom-color: var(--fill-color);\n",
              "      border-left-color: var(--fill-color);\n",
              "    }\n",
              "    20% {\n",
              "      border-color: transparent;\n",
              "      border-left-color: var(--fill-color);\n",
              "      border-top-color: var(--fill-color);\n",
              "    }\n",
              "    30% {\n",
              "      border-color: transparent;\n",
              "      border-left-color: var(--fill-color);\n",
              "      border-top-color: var(--fill-color);\n",
              "      border-right-color: var(--fill-color);\n",
              "    }\n",
              "    40% {\n",
              "      border-color: transparent;\n",
              "      border-right-color: var(--fill-color);\n",
              "      border-top-color: var(--fill-color);\n",
              "    }\n",
              "    60% {\n",
              "      border-color: transparent;\n",
              "      border-right-color: var(--fill-color);\n",
              "    }\n",
              "    80% {\n",
              "      border-color: transparent;\n",
              "      border-right-color: var(--fill-color);\n",
              "      border-bottom-color: var(--fill-color);\n",
              "    }\n",
              "    90% {\n",
              "      border-color: transparent;\n",
              "      border-bottom-color: var(--fill-color);\n",
              "    }\n",
              "  }\n",
              "</style>\n",
              "\n",
              "      <script>\n",
              "        async function quickchart(key) {\n",
              "          const quickchartButtonEl =\n",
              "            document.querySelector('#' + key + ' button');\n",
              "          quickchartButtonEl.disabled = true;  // To prevent multiple clicks.\n",
              "          quickchartButtonEl.classList.add('colab-df-spinner');\n",
              "          try {\n",
              "            const charts = await google.colab.kernel.invokeFunction(\n",
              "                'suggestCharts', [key], {});\n",
              "          } catch (error) {\n",
              "            console.error('Error during call to suggestCharts:', error);\n",
              "          }\n",
              "          quickchartButtonEl.classList.remove('colab-df-spinner');\n",
              "          quickchartButtonEl.classList.add('colab-df-quickchart-complete');\n",
              "        }\n",
              "        (() => {\n",
              "          let quickchartButtonEl =\n",
              "            document.querySelector('#df-4d258cc3-d4cf-437f-b18f-a1aa55a32955 button');\n",
              "          quickchartButtonEl.style.display =\n",
              "            google.colab.kernel.accessAllowed ? 'block' : 'none';\n",
              "        })();\n",
              "      </script>\n",
              "    </div>\n",
              "\n",
              "    </div>\n",
              "  </div>\n"
            ],
            "application/vnd.google.colaboratory.intrinsic+json": {
              "type": "dataframe",
              "variable_name": "df",
              "summary": "{\n  \"name\": \"df\",\n  \"rows\": 1000,\n  \"fields\": [\n    {\n      \"column\": \"Blood Status\",\n      \"properties\": {\n        \"dtype\": \"category\",\n        \"num_unique_values\": 3,\n        \"samples\": [\n          \"Half-blood\",\n          \"Muggle-born\",\n          \"Pure-blood\"\n        ],\n        \"semantic_type\": \"\",\n        \"description\": \"\"\n      }\n    },\n    {\n      \"column\": \"Bravery\",\n      \"properties\": {\n        \"dtype\": \"number\",\n        \"std\": 2,\n        \"min\": 1,\n        \"max\": 10,\n        \"num_unique_values\": 10,\n        \"samples\": [\n          10,\n          6,\n          2\n        ],\n        \"semantic_type\": \"\",\n        \"description\": \"\"\n      }\n    },\n    {\n      \"column\": \"Intelligence\",\n      \"properties\": {\n        \"dtype\": \"number\",\n        \"std\": 2,\n        \"min\": 1,\n        \"max\": 10,\n        \"num_unique_values\": 10,\n        \"samples\": [\n          7,\n          8,\n          2\n        ],\n        \"semantic_type\": \"\",\n        \"description\": \"\"\n      }\n    },\n    {\n      \"column\": \"Loyalty\",\n      \"properties\": {\n        \"dtype\": \"number\",\n        \"std\": 2,\n        \"min\": 1,\n        \"max\": 10,\n        \"num_unique_values\": 10,\n        \"samples\": [\n          10,\n          5,\n          4\n        ],\n        \"semantic_type\": \"\",\n        \"description\": \"\"\n      }\n    },\n    {\n      \"column\": \"Ambition\",\n      \"properties\": {\n        \"dtype\": \"number\",\n        \"std\": 2,\n        \"min\": 1,\n        \"max\": 10,\n        \"num_unique_values\": 10,\n        \"samples\": [\n          6,\n          7,\n          2\n        ],\n        \"semantic_type\": \"\",\n        \"description\": \"\"\n      }\n    },\n    {\n      \"column\": \"Dark Arts Knowledge\",\n      \"properties\": {\n        \"dtype\": \"number\",\n        \"std\": 3,\n        \"min\": 0,\n        \"max\": 10,\n        \"num_unique_values\": 10,\n        \"samples\": [\n          7,\n          5,\n          2\n        ],\n        \"semantic_type\": \"\",\n        \"description\": \"\"\n      }\n    },\n    {\n      \"column\": \"Quidditch Skills\",\n      \"properties\": {\n        \"dtype\": \"number\",\n        \"std\": 2,\n        \"min\": 0,\n        \"max\": 10,\n        \"num_unique_values\": 11,\n        \"samples\": [\n          7,\n          8,\n          0\n        ],\n        \"semantic_type\": \"\",\n        \"description\": \"\"\n      }\n    },\n    {\n      \"column\": \"Dueling Skills\",\n      \"properties\": {\n        \"dtype\": \"number\",\n        \"std\": 2,\n        \"min\": 1,\n        \"max\": 10,\n        \"num_unique_values\": 10,\n        \"samples\": [\n          1,\n          4,\n          3\n        ],\n        \"semantic_type\": \"\",\n        \"description\": \"\"\n      }\n    },\n    {\n      \"column\": \"Creativity\",\n      \"properties\": {\n        \"dtype\": \"number\",\n        \"std\": 2,\n        \"min\": 1,\n        \"max\": 10,\n        \"num_unique_values\": 10,\n        \"samples\": [\n          10,\n          9,\n          2\n        ],\n        \"semantic_type\": \"\",\n        \"description\": \"\"\n      }\n    },\n    {\n      \"column\": \"House\",\n      \"properties\": {\n        \"dtype\": \"category\",\n        \"num_unique_values\": 4,\n        \"samples\": [\n          \"Ravenclaw\",\n          \"Slytherin\",\n          \"Gryffindor\"\n        ],\n        \"semantic_type\": \"\",\n        \"description\": \"\"\n      }\n    }\n  ]\n}"
            }
          },
          "metadata": {},
          "execution_count": 4
        }
      ]
    },
    {
      "cell_type": "markdown",
      "source": [
        "### **Preparing the Data**"
      ],
      "metadata": {
        "id": "SXEWMNsrGiTA"
      }
    },
    {
      "cell_type": "markdown",
      "source": [
        " Define Features/Target"
      ],
      "metadata": {
        "id": "qNxBBgfl3e7R"
      }
    },
    {
      "cell_type": "code",
      "source": [
        "X = df.drop(\"House\", axis=1)\n",
        "y = df[\"House\"]"
      ],
      "metadata": {
        "id": "CA3SFn1_2RXG"
      },
      "execution_count": 5,
      "outputs": []
    },
    {
      "cell_type": "markdown",
      "source": [
        "Categorical features (CatBoost handles these directly)"
      ],
      "metadata": {
        "id": "hZ_g3Asr3mAY"
      }
    },
    {
      "cell_type": "code",
      "source": [
        "categorical_features = [\"Blood Status\"]"
      ],
      "metadata": {
        "id": "YDXG4Apl3a55"
      },
      "execution_count": 6,
      "outputs": []
    },
    {
      "cell_type": "code",
      "source": [
        "print(\"Features:\", list(X.columns))\n",
        "print(\"Target classes:\", list(y.unique()))"
      ],
      "metadata": {
        "colab": {
          "base_uri": "https://localhost:8080/"
        },
        "id": "UuUkAKOXGpAt",
        "outputId": "94b05d92-fd81-46cf-dfc8-b8c6c9b86e25"
      },
      "execution_count": 7,
      "outputs": [
        {
          "output_type": "stream",
          "name": "stdout",
          "text": [
            "Features: ['Blood Status', 'Bravery', 'Intelligence', 'Loyalty', 'Ambition', 'Dark Arts Knowledge', 'Quidditch Skills', 'Dueling Skills', 'Creativity']\n",
            "Target classes: ['Gryffindor', 'Ravenclaw', 'Hufflepuff', 'Slytherin']\n"
          ]
        }
      ]
    },
    {
      "cell_type": "markdown",
      "source": [
        "### **Training the First Model**"
      ],
      "metadata": {
        "id": "6uz3dFLjGyE8"
      }
    },
    {
      "cell_type": "markdown",
      "source": [
        "Train-test split"
      ],
      "metadata": {
        "id": "XSzKfFqX3tRz"
      }
    },
    {
      "cell_type": "code",
      "source": [
        "X_train, X_test, y_train, y_test= train_test_split(\n",
        "    X,y, test_size=0.3,random_state=42,stratify=y)"
      ],
      "metadata": {
        "id": "Tp05YgtO3uBq"
      },
      "execution_count": 8,
      "outputs": []
    },
    {
      "cell_type": "markdown",
      "source": [
        "Train CatBoost Model"
      ],
      "metadata": {
        "id": "C6wLHnHR4v-I"
      }
    },
    {
      "cell_type": "code",
      "source": [
        "model = CatBoostClassifier(\n",
        "    iterations=500,\n",
        "    depth=6,\n",
        "    learning_rate=0.1,\n",
        "    loss_function=\"MultiClass\",\n",
        "    verbose=100,\n",
        "    random_seed=42\n",
        ")"
      ],
      "metadata": {
        "id": "bmYBJeFW5OEE"
      },
      "execution_count": 9,
      "outputs": []
    },
    {
      "cell_type": "markdown",
      "source": [
        "Fit the model"
      ],
      "metadata": {
        "id": "esIYcWq-7sAQ"
      }
    },
    {
      "cell_type": "code",
      "source": [
        "model.fit(X_train, y_train, cat_features=categorical_features)"
      ],
      "metadata": {
        "colab": {
          "base_uri": "https://localhost:8080/"
        },
        "id": "nyIXumOo7tsf",
        "outputId": "937a4f73-4b59-4da1-92be-38f4733691b3"
      },
      "execution_count": 10,
      "outputs": [
        {
          "output_type": "stream",
          "name": "stdout",
          "text": [
            "0:\tlearn: 1.1809873\ttotal: 51.3ms\tremaining: 25.6s\n",
            "100:\tlearn: 0.0152041\ttotal: 295ms\tremaining: 1.17s\n",
            "200:\tlearn: 0.0066131\ttotal: 532ms\tremaining: 792ms\n",
            "300:\tlearn: 0.0041338\ttotal: 798ms\tremaining: 527ms\n",
            "400:\tlearn: 0.0029836\ttotal: 1.03s\tremaining: 254ms\n",
            "499:\tlearn: 0.0023407\ttotal: 1.27s\tremaining: 0us\n"
          ]
        },
        {
          "output_type": "execute_result",
          "data": {
            "text/plain": [
              "<catboost.core.CatBoostClassifier at 0x7845e45e91f0>"
            ]
          },
          "metadata": {},
          "execution_count": 10
        }
      ]
    },
    {
      "cell_type": "markdown",
      "source": [
        "### **Evaluate The Model**"
      ],
      "metadata": {
        "id": "Sy7775zJ70_6"
      }
    },
    {
      "cell_type": "code",
      "source": [
        "y_pred = model.predict(X_test)"
      ],
      "metadata": {
        "id": "KF7SfFN4YqQa"
      },
      "execution_count": 11,
      "outputs": []
    },
    {
      "cell_type": "code",
      "source": [
        "print(\"\\n Accuracy:\", accuracy_score(y_test, y_pred))\n",
        "print(\"\\n Classification Report:\\n\", classification_report(y_test, y_pred))"
      ],
      "metadata": {
        "colab": {
          "base_uri": "https://localhost:8080/"
        },
        "id": "kY9c_pGeZHFd",
        "outputId": "93c87a74-6c0d-404e-88bf-407016c80092"
      },
      "execution_count": 12,
      "outputs": [
        {
          "output_type": "stream",
          "name": "stdout",
          "text": [
            "\n",
            " Accuracy: 1.0\n",
            "\n",
            " Classification Report:\n",
            "               precision    recall  f1-score   support\n",
            "\n",
            "  Gryffindor       1.00      1.00      1.00        68\n",
            "  Hufflepuff       1.00      1.00      1.00        75\n",
            "   Ravenclaw       1.00      1.00      1.00        77\n",
            "   Slytherin       1.00      1.00      1.00        80\n",
            "\n",
            "    accuracy                           1.00       300\n",
            "   macro avg       1.00      1.00      1.00       300\n",
            "weighted avg       1.00      1.00      1.00       300\n",
            "\n"
          ]
        }
      ]
    },
    {
      "cell_type": "markdown",
      "source": [
        "Confusion Matrix"
      ],
      "metadata": {
        "id": "e8fk3Ctm7tN_"
      }
    },
    {
      "cell_type": "code",
      "source": [
        "cm = confusion_matrix(y_test, y_pred, labels=model.classes_)\n",
        "cm_percent = cm.astype('float') / cm.sum(axis=1)[:, np.newaxis] * 100\n",
        "\n",
        "plt.figure(figsize=(6, 5))\n",
        "sns.heatmap(cm_percent, annot=True, fmt=\".1f\", cmap=\"Blues\",\n",
        "            xticklabels=model.classes_, yticklabels=model.classes_)\n",
        "plt.title(\"Confusion Matrix\")\n",
        "plt.xlabel(\"Predicted\")\n",
        "plt.ylabel(\"Actual\")\n",
        "plt.show()"
      ],
      "metadata": {
        "colab": {
          "base_uri": "https://localhost:8080/",
          "height": 487
        },
        "id": "KiTf4OYHZYqP",
        "outputId": "b405a339-51f8-456e-833b-2508d58b0596"
      },
      "execution_count": 13,
      "outputs": [
        {
          "output_type": "display_data",
          "data": {
            "text/plain": [
              "<Figure size 600x500 with 2 Axes>"
            ],
            "image/png": "[encoded data removed]"
          },
          "metadata": {}
        }
      ]
    },
    {
      "cell_type": "markdown",
      "source": [
        "Wait a minute... 100% accuracy?\n",
        "This looks suspicious! Let's investigate why our model performed too well:"
      ],
      "metadata": {
        "id": "LdEliIDUcWps"
      }
    },
    {
      "cell_type": "markdown",
      "source": [
        "**Analyze feature importance**"
      ],
      "metadata": {
        "id": "QkIPzTJVHWUR"
      }
    },
    {
      "cell_type": "code",
      "source": [
        "feature_importances = model.get_feature_importance()\n",
        "features = X.columns\n",
        "\n",
        "plt.figure(figsize=(8, 5))\n",
        "sns.barplot(\n",
        "    x=feature_importances,\n",
        "    y=features,\n",
        "    hue=features,\n",
        "    palette=\"viridis\",\n",
        "    legend=False\n",
        ")\n",
        "plt.title(\"Feature Importances from CatBoost\")\n",
        "plt.show()"
      ],
      "metadata": {
        "colab": {
          "base_uri": "https://localhost:8080/",
          "height": 468
        },
        "id": "1EnF70sQZugC",
        "outputId": "69584de0-8e1c-48f0-9bfc-fd9b4616f439"
      },
      "execution_count": 14,
      "outputs": [
        {
          "output_type": "display_data",
          "data": {
            "text/plain": [
              "<Figure size 800x500 with 1 Axes>"
            ],
            "image/png": "[encoded data removed]"
          },
          "metadata": {}
        }
      ]
    },
    {
      "cell_type": "markdown",
      "source": [
        "Check house-wise feature patterns"
      ],
      "metadata": {
        "id": "vcbJlKSiHebw"
      }
    },
    {
      "cell_type": "code",
      "source": [
        "df.groupby(\"House\")[df.select_dtypes(include=\"number\").columns].mean()"
      ],
      "metadata": {
        "colab": {
          "base_uri": "https://localhost:8080/",
          "height": 224
        },
        "id": "uuZrBj5XavGi",
        "outputId": "d5fd7134-6be7-4390-a969-3c91c76504a4"
      },
      "execution_count": 15,
      "outputs": [
        {
          "output_type": "execute_result",
          "data": {
            "text/plain": [
              "             Bravery  Intelligence   Loyalty  Ambition  Dark Arts Knowledge  \\\n",
              "House                                                                         \n",
              "Gryffindor  8.615044      4.318584  3.977876  3.880531             2.194690   \n",
              "Hufflepuff  3.844622      4.171315  8.509960  4.011952             2.470120   \n",
              "Ravenclaw   4.124031      8.546512  3.922481  3.844961             2.573643   \n",
              "Slytherin   3.962264      3.973585  4.083019  8.528302             8.528302   \n",
              "\n",
              "            Quidditch Skills  Dueling Skills  Creativity  \n",
              "House                                                     \n",
              "Gryffindor          7.460177        8.761062    4.084071  \n",
              "Hufflepuff          3.673307        3.860558    4.027888  \n",
              "Ravenclaw           3.604651        4.023256    8.635659  \n",
              "Slytherin           7.252830        8.437736    3.947170  "
            ],
            "text/html": [
              "\n",
              "  <div id=\"df-49ce3edb-ab9e-4eaf-a299-c666499aeb8a\" class=\"colab-df-container\">\n",
              "    <div>\n",
              "<style scoped>\n",
              "    .dataframe tbody tr th:only-of-type {\n",
              "        vertical-align: middle;\n",
              "    }\n",
              "\n",
              "    .dataframe tbody tr th {\n",
              "        vertical-align: top;\n",
              "    }\n",
              "\n",
              "    .dataframe thead th {\n",
              "        text-align: right;\n",
              "    }\n",
              "</style>\n",
              "<table border=\"1\" class=\"dataframe\">\n",
              "  <thead>\n",
              "    <tr style=\"text-align: right;\">\n",
              "      <th></th>\n",
              "      <th>Bravery</th>\n",
              "      <th>Intelligence</th>\n",
              "      <th>Loyalty</th>\n",
              "      <th>Ambition</th>\n",
              "      <th>Dark Arts Knowledge</th>\n",
              "      <th>Quidditch Skills</th>\n",
              "      <th>Dueling Skills</th>\n",
              "      <th>Creativity</th>\n",
              "    </tr>\n",
              "    <tr>\n",
              "      <th>House</th>\n",
              "      <th></th>\n",
              "      <th></th>\n",
              "      <th></th>\n",
              "      <th></th>\n",
              "      <th></th>\n",
              "      <th></th>\n",
              "      <th></th>\n",
              "      <th></th>\n",
              "    </tr>\n",
              "  </thead>\n",
              "  <tbody>\n",
              "    <tr>\n",
              "      <th>Gryffindor</th>\n",
              "      <td>8.615044</td>\n",
              "      <td>4.318584</td>\n",
              "      <td>3.977876</td>\n",
              "      <td>3.880531</td>\n",
              "      <td>2.194690</td>\n",
              "      <td>7.460177</td>\n",
              "      <td>8.761062</td>\n",
              "      <td>4.084071</td>\n",
              "    </tr>\n",
              "    <tr>\n",
              "      <th>Hufflepuff</th>\n",
              "      <td>3.844622</td>\n",
              "      <td>4.171315</td>\n",
              "      <td>8.509960</td>\n",
              "      <td>4.011952</td>\n",
              "      <td>2.470120</td>\n",
              "      <td>3.673307</td>\n",
              "      <td>3.860558</td>\n",
              "      <td>4.027888</td>\n",
              "    </tr>\n",
              "    <tr>\n",
              "      <th>Ravenclaw</th>\n",
              "      <td>4.124031</td>\n",
              "      <td>8.546512</td>\n",
              "      <td>3.922481</td>\n",
              "      <td>3.844961</td>\n",
              "      <td>2.573643</td>\n",
              "      <td>3.604651</td>\n",
              "      <td>4.023256</td>\n",
              "      <td>8.635659</td>\n",
              "    </tr>\n",
              "    <tr>\n",
              "      <th>Slytherin</th>\n",
              "      <td>3.962264</td>\n",
              "      <td>3.973585</td>\n",
              "      <td>4.083019</td>\n",
              "      <td>8.528302</td>\n",
              "      <td>8.528302</td>\n",
              "      <td>7.252830</td>\n",
              "      <td>8.437736</td>\n",
              "      <td>3.947170</td>\n",
              "    </tr>\n",
              "  </tbody>\n",
              "</table>\n",
              "</div>\n",
              "    <div class=\"colab-df-buttons\">\n",
              "\n",
              "  <div class=\"colab-df-container\">\n",
              "    <button class=\"colab-df-convert\" onclick=\"convertToInteractive('df-49ce3edb-ab9e-4eaf-a299-c666499aeb8a')\"\n",
              "            title=\"Convert this dataframe to an interactive table.\"\n",
              "            style=\"display:none;\">\n",
              "\n",
              "  <svg xmlns=\"http://www.w3.org/2000/svg\" height=\"24px\" viewBox=\"0 -960 960 960\">\n",
              "    <path d=\"M120-120v-720h720v720H120Zm60-500h600v-160H180v160Zm220 220h160v-160H400v160Zm0 220h160v-160H400v160ZM180-400h160v-160H180v160Zm440 0h160v-160H620v160ZM180-180h160v-160H180v160Zm440 0h160v-160H620v160Z\"/>\n",
              "  </svg>\n",
              "    </button>\n",
              "\n",
              "  <style>\n",
              "    .colab-df-container {\n",
              "      display:flex;\n",
              "      gap: 12px;\n",
              "    }\n",
              "\n",
              "    .colab-df-convert {\n",
              "      background-color: #E8F0FE;\n",
              "      border: none;\n",
              "      border-radius: 50%;\n",
              "      cursor: pointer;\n",
              "      display: none;\n",
              "      fill: #1967D2;\n",
              "      height: 32px;\n",
              "      padding: 0 0 0 0;\n",
              "      width: 32px;\n",
              "    }\n",
              "\n",
              "    .colab-df-convert:hover {\n",
              "      background-color: #E2EBFA;\n",
              "      box-shadow: 0px 1px 2px rgba(60, 64, 67, 0.3), 0px 1px 3px 1px rgba(60, 64, 67, 0.15);\n",
              "      fill: #174EA6;\n",
              "    }\n",
              "\n",
              "    .colab-df-buttons div {\n",
              "      margin-bottom: 4px;\n",
              "    }\n",
              "\n",
              "    [theme=dark] .colab-df-convert {\n",
              "      background-color: #3B4455;\n",
              "      fill: #D2E3FC;\n",
              "    }\n",
              "\n",
              "    [theme=dark] .colab-df-convert:hover {\n",
              "      background-color: #434B5C;\n",
              "      box-shadow: 0px 1px 3px 1px rgba(0, 0, 0, 0.15);\n",
              "      filter: drop-shadow(0px 1px 2px rgba(0, 0, 0, 0.3));\n",
              "      fill: #FFFFFF;\n",
              "    }\n",
              "  </style>\n",
              "\n",
              "    <script>\n",
              "      const buttonEl =\n",
              "        document.querySelector('#df-49ce3edb-ab9e-4eaf-a299-c666499aeb8a button.colab-df-convert');\n",
              "      buttonEl.style.display =\n",
              "        google.colab.kernel.accessAllowed ? 'block' : 'none';\n",
              "\n",
              "      async function convertToInteractive(key) {\n",
              "        const element = document.querySelector('#df-49ce3edb-ab9e-4eaf-a299-c666499aeb8a');\n",
              "        const dataTable =\n",
              "          await google.colab.kernel.invokeFunction('convertToInteractive',\n",
              "                                                    [key], {});\n",
              "        if (!dataTable) return;\n",
              "\n",
              "        const docLinkHtml = 'Like what you see? Visit the ' +\n",
              "          '<a target=\"_blank\" href=https://colab.research.google.com/notebooks/data_table.ipynb>data table notebook</a>'\n",
              "          + ' to learn more about interactive tables.';\n",
              "        element.innerHTML = '';\n",
              "        dataTable['output_type'] = 'display_data';\n",
              "        await google.colab.output.renderOutput(dataTable, element);\n",
              "        const docLink = document.createElement('div');\n",
              "        docLink.innerHTML = docLinkHtml;\n",
              "        element.appendChild(docLink);\n",
              "      }\n",
              "    </script>\n",
              "  </div>\n",
              "\n",
              "\n",
              "    <div id=\"df-1d312d57-53b4-4d1e-981d-de918e0e47ca\">\n",
              "      <button class=\"colab-df-quickchart\" onclick=\"quickchart('df-1d312d57-53b4-4d1e-981d-de918e0e47ca')\"\n",
              "                title=\"Suggest charts\"\n",
              "                style=\"display:none;\">\n",
              "\n",
              "<svg xmlns=\"http://www.w3.org/2000/svg\" height=\"24px\"viewBox=\"0 0 24 24\"\n",
              "     width=\"24px\">\n",
              "    <g>\n",
              "        <path d=\"M19 3H5c-1.1 0-2 .9-2 2v14c0 1.1.9 2 2 2h14c1.1 0 2-.9 2-2V5c0-1.1-.9-2-2-2zM9 17H7v-7h2v7zm4 0h-2V7h2v10zm4 0h-2v-4h2v4z\"/>\n",
              "    </g>\n",
              "</svg>\n",
              "      </button>\n",
              "\n",
              "<style>\n",
              "  .colab-df-quickchart {\n",
              "      --bg-color: #E8F0FE;\n",
              "      --fill-color: #1967D2;\n",
              "      --hover-bg-color: #E2EBFA;\n",
              "      --hover-fill-color: #174EA6;\n",
              "      --disabled-fill-color: #AAA;\n",
              "      --disabled-bg-color: #DDD;\n",
              "  }\n",
              "\n",
              "  [theme=dark] .colab-df-quickchart {\n",
              "      --bg-color: #3B4455;\n",
              "      --fill-color: #D2E3FC;\n",
              "      --hover-bg-color: #434B5C;\n",
              "      --hover-fill-color: #FFFFFF;\n",
              "      --disabled-bg-color: #3B4455;\n",
              "      --disabled-fill-color: #666;\n",
              "  }\n",
              "\n",
              "  .colab-df-quickchart {\n",
              "    background-color: var(--bg-color);\n",
              "    border: none;\n",
              "    border-radius: 50%;\n",
              "    cursor: pointer;\n",
              "    display: none;\n",
              "    fill: var(--fill-color);\n",
              "    height: 32px;\n",
              "    padding: 0;\n",
              "    width: 32px;\n",
              "  }\n",
              "\n",
              "  .colab-df-quickchart:hover {\n",
              "    background-color: var(--hover-bg-color);\n",
              "    box-shadow: 0 1px 2px rgba(60, 64, 67, 0.3), 0 1px 3px 1px rgba(60, 64, 67, 0.15);\n",
              "    fill: var(--button-hover-fill-color);\n",
              "  }\n",
              "\n",
              "  .colab-df-quickchart-complete:disabled,\n",
              "  .colab-df-quickchart-complete:disabled:hover {\n",
              "    background-color: var(--disabled-bg-color);\n",
              "    fill: var(--disabled-fill-color);\n",
              "    box-shadow: none;\n",
              "  }\n",
              "\n",
              "  .colab-df-spinner {\n",
              "    border: 2px solid var(--fill-color);\n",
              "    border-color: transparent;\n",
              "    border-bottom-color: var(--fill-color);\n",
              "    animation:\n",
              "      spin 1s steps(1) infinite;\n",
              "  }\n",
              "\n",
              "  @keyframes spin {\n",
              "    0% {\n",
              "      border-color: transparent;\n",
              "      border-bottom-color: var(--fill-color);\n",
              "      border-left-color: var(--fill-color);\n",
              "    }\n",
              "    20% {\n",
              "      border-color: transparent;\n",
              "      border-left-color: var(--fill-color);\n",
              "      border-top-color: var(--fill-color);\n",
              "    }\n",
              "    30% {\n",
              "      border-color: transparent;\n",
              "      border-left-color: var(--fill-color);\n",
              "      border-top-color: var(--fill-color);\n",
              "      border-right-color: var(--fill-color);\n",
              "    }\n",
              "    40% {\n",
              "      border-color: transparent;\n",
              "      border-right-color: var(--fill-color);\n",
              "      border-top-color: var(--fill-color);\n",
              "    }\n",
              "    60% {\n",
              "      border-color: transparent;\n",
              "      border-right-color: var(--fill-color);\n",
              "    }\n",
              "    80% {\n",
              "      border-color: transparent;\n",
              "      border-right-color: var(--fill-color);\n",
              "      border-bottom-color: var(--fill-color);\n",
              "    }\n",
              "    90% {\n",
              "      border-color: transparent;\n",
              "      border-bottom-color: var(--fill-color);\n",
              "    }\n",
              "  }\n",
              "</style>\n",
              "\n",
              "      <script>\n",
              "        async function quickchart(key) {\n",
              "          const quickchartButtonEl =\n",
              "            document.querySelector('#' + key + ' button');\n",
              "          quickchartButtonEl.disabled = true;  // To prevent multiple clicks.\n",
              "          quickchartButtonEl.classList.add('colab-df-spinner');\n",
              "          try {\n",
              "            const charts = await google.colab.kernel.invokeFunction(\n",
              "                'suggestCharts', [key], {});\n",
              "          } catch (error) {\n",
              "            console.error('Error during call to suggestCharts:', error);\n",
              "          }\n",
              "          quickchartButtonEl.classList.remove('colab-df-spinner');\n",
              "          quickchartButtonEl.classList.add('colab-df-quickchart-complete');\n",
              "        }\n",
              "        (() => {\n",
              "          let quickchartButtonEl =\n",
              "            document.querySelector('#df-1d312d57-53b4-4d1e-981d-de918e0e47ca button');\n",
              "          quickchartButtonEl.style.display =\n",
              "            google.colab.kernel.accessAllowed ? 'block' : 'none';\n",
              "        })();\n",
              "      </script>\n",
              "    </div>\n",
              "\n",
              "    </div>\n",
              "  </div>\n"
            ],
            "application/vnd.google.colaboratory.intrinsic+json": {
              "type": "dataframe",
              "summary": "{\n  \"name\": \"df\",\n  \"rows\": 4,\n  \"fields\": [\n    {\n      \"column\": \"House\",\n      \"properties\": {\n        \"dtype\": \"string\",\n        \"num_unique_values\": 4,\n        \"samples\": [\n          \"Hufflepuff\",\n          \"Slytherin\",\n          \"Gryffindor\"\n        ],\n        \"semantic_type\": \"\",\n        \"description\": \"\"\n      }\n    },\n    {\n      \"column\": \"Bravery\",\n      \"properties\": {\n        \"dtype\": \"number\",\n        \"std\": 2.321863001675,\n        \"min\": 3.8446215139442232,\n        \"max\": 8.61504424778761,\n        \"num_unique_values\": 4,\n        \"samples\": [\n          3.8446215139442232,\n          3.9622641509433962,\n          8.61504424778761\n        ],\n        \"semantic_type\": \"\",\n        \"description\": \"\"\n      }\n    },\n    {\n      \"column\": \"Intelligence\",\n      \"properties\": {\n        \"dtype\": \"number\",\n        \"std\": 2.2005527298334355,\n        \"min\": 3.973584905660377,\n        \"max\": 8.546511627906977,\n        \"num_unique_values\": 4,\n        \"samples\": [\n          4.171314741035856,\n          3.973584905660377,\n          4.31858407079646\n        ],\n        \"semantic_type\": \"\",\n        \"description\": \"\"\n      }\n    },\n    {\n      \"column\": \"Loyalty\",\n      \"properties\": {\n        \"dtype\": \"number\",\n        \"std\": 2.2587323099229715,\n        \"min\": 3.9224806201550386,\n        \"max\": 8.50996015936255,\n        \"num_unique_values\": 4,\n        \"samples\": [\n          8.50996015936255,\n          4.083018867924529,\n          3.97787610619469\n        ],\n        \"semantic_type\": \"\",\n        \"description\": \"\"\n      }\n    },\n    {\n      \"column\": \"Ambition\",\n      \"properties\": {\n        \"dtype\": \"number\",\n        \"std\": 2.309027417307726,\n        \"min\": 3.8449612403100777,\n        \"max\": 8.528301886792454,\n        \"num_unique_values\": 4,\n        \"samples\": [\n          4.01195219123506,\n          8.528301886792454,\n          3.8805309734513274\n        ],\n        \"semantic_type\": \"\",\n        \"description\": \"\"\n      }\n    },\n    {\n      \"column\": \"Dark Arts Knowledge\",\n      \"properties\": {\n        \"dtype\": \"number\",\n        \"std\": 3.061921391028074,\n        \"min\": 2.1946902654867255,\n        \"max\": 8.528301886792454,\n        \"num_unique_values\": 4,\n        \"samples\": [\n          2.4701195219123506,\n          8.528301886792454,\n          2.1946902654867255\n        ],\n        \"semantic_type\": \"\",\n        \"description\": \"\"\n      }\n    },\n    {\n      \"column\": \"Quidditch Skills\",\n      \"properties\": {\n        \"dtype\": \"number\",\n        \"std\": 2.148165299374458,\n        \"min\": 3.604651162790698,\n        \"max\": 7.460176991150442,\n        \"num_unique_values\": 4,\n        \"samples\": [\n          3.6733067729083664,\n          7.252830188679245,\n          7.460176991150442\n        ],\n        \"semantic_type\": \"\",\n        \"description\": \"\"\n      }\n    },\n    {\n      \"column\": \"Dueling Skills\",\n      \"properties\": {\n        \"dtype\": \"number\",\n        \"std\": 2.693061326953125,\n        \"min\": 3.860557768924303,\n        \"max\": 8.761061946902656,\n        \"num_unique_values\": 4,\n        \"samples\": [\n          3.860557768924303,\n          8.437735849056605,\n          8.761061946902656\n        ],\n        \"semantic_type\": \"\",\n        \"description\": \"\"\n      }\n    },\n    {\n      \"column\": \"Creativity\",\n      \"properties\": {\n        \"dtype\": \"number\",\n        \"std\": 2.3086584667990233,\n        \"min\": 3.9471698113207547,\n        \"max\": 8.635658914728682,\n        \"num_unique_values\": 4,\n        \"samples\": [\n          4.027888446215139,\n          3.9471698113207547,\n          4.084070796460177\n        ],\n        \"semantic_type\": \"\",\n        \"description\": \"\"\n      }\n    }\n  ]\n}"
            }
          },
          "metadata": {},
          "execution_count": 15
        }
      ]
    },
    {
      "cell_type": "markdown",
      "source": [
        "\n",
        "### **The Revelation: What the Model Really Learned**\n",
        "The feature importance analysis has uncovered the smoking gun! Here’s the truth behind the Sorting Hat predictions:\n",
        "\n",
        "**The “Lookup Table” Pattern**\n",
        "\n",
        "| Trait               | Importance | What it Means                     |\n",
        "| ------------------- | ---------- | --------------------------------- |\n",
        "| Dark Arts Knowledge | \\~28       | If high → must be **Slytherin**   |\n",
        "| Creativity          | \\~18       | If high → likely **Ravenclaw**    |\n",
        "| Loyalty             | \\~14       | If high → probably **Hufflepuff** |\n",
        "| Bravery             | \\~7        | If high → Gryffindor              |\n",
        "\n",
        "\n",
        "**House-wise Feature Patterns**\n",
        "\n",
        "| House      | Dominant Traits                           |\n",
        "| ---------- | ----------------------------------------- |\n",
        "| Gryffindor | Bravery (8.6), Dueling Skills (8.8)       |\n",
        "| Hufflepuff | Loyalty (8.5)                             |\n",
        "| Ravenclaw  | Intelligence (8.5), Creativity (8.6)      |\n",
        "| Slytherin  | Ambition (8.5), Dark Arts Knowledge (8.5) |\n",
        "\n",
        "\n",
        "**The Problem**\n",
        "The dataset is **too cleanly separated**. Each house has a single dominant “signature” trait with zero overlap. The model **didn’t learn complex patterns** , it memorized a simple lookup table:\n",
        "\n",
        "   \n",
        "    IF Dark Arts Knowledge > 7 → Slytherin\n",
        "    ELIF Creativity > 7 → Ravenclaw\n",
        "    ELIF Loyalty > 7 → Hufflepuff\n",
        "    ELSE → Gryffindor\n",
        "   \n",
        "\n",
        "\n",
        "Reality Check: This isn’t realistic! In the real world - or even in the Harry Potter universe - people have **complex, overlapping personalities**. A brave Ravenclaw or a creative Slytherin should be possible!\n"
      ],
      "metadata": {
        "id": "ZuHKkVVdcnWx"
      }
    },
    {
      "cell_type": "markdown",
      "source": [
        "## **Part 2: Creating a Realistic Dataset**"
      ],
      "metadata": {
        "id": "C0u67gM8-ECx"
      }
    },
    {
      "cell_type": "markdown",
      "source": [
        "Let’s create 1000 new students with random values, making them realistic but varied so the model doesn’t just memorize patterns"
      ],
      "metadata": {
        "id": "FKJDdWp_dpLV"
      }
    },
    {
      "cell_type": "code",
      "source": [
        "n_students = 1000\n",
        "houses = [\"Gryffindor\", \"Hufflepuff\", \"Ravenclaw\", \"Slytherin\"]\n",
        "students = []\n",
        "\n",
        "for house in houses:\n",
        "        for _ in range(n_students // 4):\n",
        "            if house == \"Gryffindor\":\n",
        "                # Gryffindors tend to be brave but can have other strong traits too\n",
        "                bravery = np.random.randint(6, 10)\n",
        "                intelligence = np.random.randint(4, 8)\n",
        "                loyalty = np.random.randint(3, 7)\n",
        "                ambition = np.random.randint(3, 7)\n",
        "                dark_arts = np.random.randint(1, 5)\n",
        "            elif house == \"Hufflepuff\":\n",
        "                # Hufflepuffs are loyal but not exclusively so\n",
        "                bravery = np.random.randint(3, 7)\n",
        "                intelligence = np.random.randint(4, 8)\n",
        "                loyalty = np.random.randint(6, 10)\n",
        "                ambition = np.random.randint(3, 7)\n",
        "                dark_arts = np.random.randint(1, 5)\n",
        "            elif house == \"Ravenclaw\":\n",
        "                # Ravenclaws are intelligent and creative\n",
        "                bravery = np.random.randint(3, 7)\n",
        "                intelligence = np.random.randint(6, 10)\n",
        "                loyalty = np.random.randint(3, 7)\n",
        "                ambition = np.random.randint(3, 7)\n",
        "                dark_arts = np.random.randint(1, 5)\n",
        "            elif house == \"Slytherin\":\n",
        "                # Slytherins are ambitious with dark arts knowledge\n",
        "                bravery = np.random.randint(3, 7)\n",
        "                intelligence = np.random.randint(4, 8)\n",
        "                loyalty = np.random.randint(3, 7)\n",
        "                ambition = np.random.randint(6, 10)\n",
        "                dark_arts = np.random.randint(5, 9)\n",
        "\n",
        "            students.append({\n",
        "                \"House\": house,\n",
        "                \"Bravery\": bravery,\n",
        "                \"Intelligence\": intelligence,\n",
        "                \"Loyalty\": loyalty,\n",
        "                \"Ambition\": ambition,\n",
        "                \"Dark Arts Knowledge\": dark_arts,\n",
        "                \"Quidditch Skills\": np.random.randint(3, 9),\n",
        "                \"Dueling Skills\": np.random.randint(3, 9),\n",
        "                \"Creativity\": np.random.randint(3, 9),\n",
        "                \"Blood Status\": np.random.choice([\"Muggle-born\", \"Half-blood\", \"Pure-blood\"])\n",
        "            })\n",
        "\n",
        "df_new = pd.DataFrame(students)\n",
        "df_new = df_new.sample(frac=1, random_state=42).reset_index(drop=True)\n",
        "\n"
      ],
      "metadata": {
        "id": "b3TPbQwDezve"
      },
      "execution_count": 16,
      "outputs": []
    },
    {
      "cell_type": "markdown",
      "source": [
        "Now we can append it to our original Kaggle dataset"
      ],
      "metadata": {
        "id": "OuaPCtMReBXv"
      }
    },
    {
      "cell_type": "code",
      "source": [
        "df_combined = pd.concat([df, df_new], ignore_index=True)\n",
        "\n",
        "# Shuffle the combined dataset to mix old and new students\n",
        "df_combined = df_combined.sample(frac=1, random_state=42).reset_index(drop=True)"
      ],
      "metadata": {
        "id": "ww8o8YmmeGhz"
      },
      "execution_count": 17,
      "outputs": []
    },
    {
      "cell_type": "markdown",
      "source": [
        "Adding Noise for Realism"
      ],
      "metadata": {
        "id": "XDfrPbJ2JY9I"
      }
    },
    {
      "cell_type": "code",
      "source": [
        "numeric_cols = [\"Bravery\", \"Intelligence\", \"Loyalty\", \"Ambition\", \"Dark Arts Knowledge\",\n",
        "                \"Quidditch Skills\", \"Dueling Skills\", \"Creativity\"]\n",
        "\n",
        "# Add Gaussian noise\n",
        "for col in numeric_cols:\n",
        "    df_combined[col] += np.random.normal(0, 0.5, size=len(df_combined))\n",
        "\n",
        "# Clip values to 1-10\n",
        "df_combined[numeric_cols] = df_combined[numeric_cols].clip(1, 10)\n"
      ],
      "metadata": {
        "id": "WK3uyqcPe1in"
      },
      "execution_count": 18,
      "outputs": []
    },
    {
      "cell_type": "code",
      "source": [
        "\n",
        "print(f\"Combined dataset shape: {df_combined.shape}\")\n",
        "df_combined.head()\n",
        "\n"
      ],
      "metadata": {
        "colab": {
          "base_uri": "https://localhost:8080/",
          "height": 293
        },
        "id": "rbhVn_nue6cd",
        "outputId": "1f6a4361-2b86-43af-e57d-2b74cc59db5a"
      },
      "execution_count": 19,
      "outputs": [
        {
          "output_type": "stream",
          "name": "stdout",
          "text": [
            "Combined dataset shape: (2000, 10)\n"
          ]
        },
        {
          "output_type": "execute_result",
          "data": {
            "text/plain": [
              "  Blood Status   Bravery  Intelligence   Loyalty  Ambition  \\\n",
              "0   Half-blood  3.102068      5.982297  8.292599  2.396270   \n",
              "1   Pure-blood  5.723553      7.034147  2.277929  5.694496   \n",
              "2   Half-blood  6.024276      9.944565  3.099217  1.871083   \n",
              "3  Muggle-born  6.564014      5.325725  8.667095  2.436529   \n",
              "4   Pure-blood  5.696231      3.786471  4.689059  6.403491   \n",
              "\n",
              "   Dark Arts Knowledge  Quidditch Skills  Dueling Skills  Creativity  \\\n",
              "0             1.295937          8.467717        5.749302    2.579018   \n",
              "1             1.000000          2.671105        6.019195    9.344359   \n",
              "2             2.285670          5.828938        3.539346    2.384150   \n",
              "3             2.625548          7.095590        1.000000    5.386336   \n",
              "4             6.144410          4.997145        7.271046    6.041687   \n",
              "\n",
              "        House  \n",
              "0  Hufflepuff  \n",
              "1   Ravenclaw  \n",
              "2   Ravenclaw  \n",
              "3  Hufflepuff  \n",
              "4   Slytherin  "
            ],
            "text/html": [
              "\n",
              "  <div id=\"df-910ab99f-d6fd-4e63-9dcf-06e8a4474b53\" class=\"colab-df-container\">\n",
              "    <div>\n",
              "<style scoped>\n",
              "    .dataframe tbody tr th:only-of-type {\n",
              "        vertical-align: middle;\n",
              "    }\n",
              "\n",
              "    .dataframe tbody tr th {\n",
              "        vertical-align: top;\n",
              "    }\n",
              "\n",
              "    .dataframe thead th {\n",
              "        text-align: right;\n",
              "    }\n",
              "</style>\n",
              "<table border=\"1\" class=\"dataframe\">\n",
              "  <thead>\n",
              "    <tr style=\"text-align: right;\">\n",
              "      <th></th>\n",
              "      <th>Blood Status</th>\n",
              "      <th>Bravery</th>\n",
              "      <th>Intelligence</th>\n",
              "      <th>Loyalty</th>\n",
              "      <th>Ambition</th>\n",
              "      <th>Dark Arts Knowledge</th>\n",
              "      <th>Quidditch Skills</th>\n",
              "      <th>Dueling Skills</th>\n",
              "      <th>Creativity</th>\n",
              "      <th>House</th>\n",
              "    </tr>\n",
              "  </thead>\n",
              "  <tbody>\n",
              "    <tr>\n",
              "      <th>0</th>\n",
              "      <td>Half-blood</td>\n",
              "      <td>3.102068</td>\n",
              "      <td>5.982297</td>\n",
              "      <td>8.292599</td>\n",
              "      <td>2.396270</td>\n",
              "      <td>1.295937</td>\n",
              "      <td>8.467717</td>\n",
              "      <td>5.749302</td>\n",
              "      <td>2.579018</td>\n",
              "      <td>Hufflepuff</td>\n",
              "    </tr>\n",
              "    <tr>\n",
              "      <th>1</th>\n",
              "      <td>Pure-blood</td>\n",
              "      <td>5.723553</td>\n",
              "      <td>7.034147</td>\n",
              "      <td>2.277929</td>\n",
              "      <td>5.694496</td>\n",
              "      <td>1.000000</td>\n",
              "      <td>2.671105</td>\n",
              "      <td>6.019195</td>\n",
              "      <td>9.344359</td>\n",
              "      <td>Ravenclaw</td>\n",
              "    </tr>\n",
              "    <tr>\n",
              "      <th>2</th>\n",
              "      <td>Half-blood</td>\n",
              "      <td>6.024276</td>\n",
              "      <td>9.944565</td>\n",
              "      <td>3.099217</td>\n",
              "      <td>1.871083</td>\n",
              "      <td>2.285670</td>\n",
              "      <td>5.828938</td>\n",
              "      <td>3.539346</td>\n",
              "      <td>2.384150</td>\n",
              "      <td>Ravenclaw</td>\n",
              "    </tr>\n",
              "    <tr>\n",
              "      <th>3</th>\n",
              "      <td>Muggle-born</td>\n",
              "      <td>6.564014</td>\n",
              "      <td>5.325725</td>\n",
              "      <td>8.667095</td>\n",
              "      <td>2.436529</td>\n",
              "      <td>2.625548</td>\n",
              "      <td>7.095590</td>\n",
              "      <td>1.000000</td>\n",
              "      <td>5.386336</td>\n",
              "      <td>Hufflepuff</td>\n",
              "    </tr>\n",
              "    <tr>\n",
              "      <th>4</th>\n",
              "      <td>Pure-blood</td>\n",
              "      <td>5.696231</td>\n",
              "      <td>3.786471</td>\n",
              "      <td>4.689059</td>\n",
              "      <td>6.403491</td>\n",
              "      <td>6.144410</td>\n",
              "      <td>4.997145</td>\n",
              "      <td>7.271046</td>\n",
              "      <td>6.041687</td>\n",
              "      <td>Slytherin</td>\n",
              "    </tr>\n",
              "  </tbody>\n",
              "</table>\n",
              "</div>\n",
              "    <div class=\"colab-df-buttons\">\n",
              "\n",
              "  <div class=\"colab-df-container\">\n",
              "    <button class=\"colab-df-convert\" onclick=\"convertToInteractive('df-910ab99f-d6fd-4e63-9dcf-06e8a4474b53')\"\n",
              "            title=\"Convert this dataframe to an interactive table.\"\n",
              "            style=\"display:none;\">\n",
              "\n",
              "  <svg xmlns=\"http://www.w3.org/2000/svg\" height=\"24px\" viewBox=\"0 -960 960 960\">\n",
              "    <path d=\"M120-120v-720h720v720H120Zm60-500h600v-160H180v160Zm220 220h160v-160H400v160Zm0 220h160v-160H400v160ZM180-400h160v-160H180v160Zm440 0h160v-160H620v160ZM180-180h160v-160H180v160Zm440 0h160v-160H620v160Z\"/>\n",
              "  </svg>\n",
              "    </button>\n",
              "\n",
              "  <style>\n",
              "    .colab-df-container {\n",
              "      display:flex;\n",
              "      gap: 12px;\n",
              "    }\n",
              "\n",
              "    .colab-df-convert {\n",
              "      background-color: #E8F0FE;\n",
              "      border: none;\n",
              "      border-radius: 50%;\n",
              "      cursor: pointer;\n",
              "      display: none;\n",
              "      fill: #1967D2;\n",
              "      height: 32px;\n",
              "      padding: 0 0 0 0;\n",
              "      width: 32px;\n",
              "    }\n",
              "\n",
              "    .colab-df-convert:hover {\n",
              "      background-color: #E2EBFA;\n",
              "      box-shadow: 0px 1px 2px rgba(60, 64, 67, 0.3), 0px 1px 3px 1px rgba(60, 64, 67, 0.15);\n",
              "      fill: #174EA6;\n",
              "    }\n",
              "\n",
              "    .colab-df-buttons div {\n",
              "      margin-bottom: 4px;\n",
              "    }\n",
              "\n",
              "    [theme=dark] .colab-df-convert {\n",
              "      background-color: #3B4455;\n",
              "      fill: #D2E3FC;\n",
              "    }\n",
              "\n",
              "    [theme=dark] .colab-df-convert:hover {\n",
              "      background-color: #434B5C;\n",
              "      box-shadow: 0px 1px 3px 1px rgba(0, 0, 0, 0.15);\n",
              "      filter: drop-shadow(0px 1px 2px rgba(0, 0, 0, 0.3));\n",
              "      fill: #FFFFFF;\n",
              "    }\n",
              "  </style>\n",
              "\n",
              "    <script>\n",
              "      const buttonEl =\n",
              "        document.querySelector('#df-910ab99f-d6fd-4e63-9dcf-06e8a4474b53 button.colab-df-convert');\n",
              "      buttonEl.style.display =\n",
              "        google.colab.kernel.accessAllowed ? 'block' : 'none';\n",
              "\n",
              "      async function convertToInteractive(key) {\n",
              "        const element = document.querySelector('#df-910ab99f-d6fd-4e63-9dcf-06e8a4474b53');\n",
              "        const dataTable =\n",
              "          await google.colab.kernel.invokeFunction('convertToInteractive',\n",
              "                                                    [key], {});\n",
              "        if (!dataTable) return;\n",
              "\n",
              "        const docLinkHtml = 'Like what you see? Visit the ' +\n",
              "          '<a target=\"_blank\" href=https://colab.research.google.com/notebooks/data_table.ipynb>data table notebook</a>'\n",
              "          + ' to learn more about interactive tables.';\n",
              "        element.innerHTML = '';\n",
              "        dataTable['output_type'] = 'display_data';\n",
              "        await google.colab.output.renderOutput(dataTable, element);\n",
              "        const docLink = document.createElement('div');\n",
              "        docLink.innerHTML = docLinkHtml;\n",
              "        element.appendChild(docLink);\n",
              "      }\n",
              "    </script>\n",
              "  </div>\n",
              "\n",
              "\n",
              "    <div id=\"df-ff18f6df-7216-4b57-9b72-d99b24d48007\">\n",
              "      <button class=\"colab-df-quickchart\" onclick=\"quickchart('df-ff18f6df-7216-4b57-9b72-d99b24d48007')\"\n",
              "                title=\"Suggest charts\"\n",
              "                style=\"display:none;\">\n",
              "\n",
              "<svg xmlns=\"http://www.w3.org/2000/svg\" height=\"24px\"viewBox=\"0 0 24 24\"\n",
              "     width=\"24px\">\n",
              "    <g>\n",
              "        <path d=\"M19 3H5c-1.1 0-2 .9-2 2v14c0 1.1.9 2 2 2h14c1.1 0 2-.9 2-2V5c0-1.1-.9-2-2-2zM9 17H7v-7h2v7zm4 0h-2V7h2v10zm4 0h-2v-4h2v4z\"/>\n",
              "    </g>\n",
              "</svg>\n",
              "      </button>\n",
              "\n",
              "<style>\n",
              "  .colab-df-quickchart {\n",
              "      --bg-color: #E8F0FE;\n",
              "      --fill-color: #1967D2;\n",
              "      --hover-bg-color: #E2EBFA;\n",
              "      --hover-fill-color: #174EA6;\n",
              "      --disabled-fill-color: #AAA;\n",
              "      --disabled-bg-color: #DDD;\n",
              "  }\n",
              "\n",
              "  [theme=dark] .colab-df-quickchart {\n",
              "      --bg-color: #3B4455;\n",
              "      --fill-color: #D2E3FC;\n",
              "      --hover-bg-color: #434B5C;\n",
              "      --hover-fill-color: #FFFFFF;\n",
              "      --disabled-bg-color: #3B4455;\n",
              "      --disabled-fill-color: #666;\n",
              "  }\n",
              "\n",
              "  .colab-df-quickchart {\n",
              "    background-color: var(--bg-color);\n",
              "    border: none;\n",
              "    border-radius: 50%;\n",
              "    cursor: pointer;\n",
              "    display: none;\n",
              "    fill: var(--fill-color);\n",
              "    height: 32px;\n",
              "    padding: 0;\n",
              "    width: 32px;\n",
              "  }\n",
              "\n",
              "  .colab-df-quickchart:hover {\n",
              "    background-color: var(--hover-bg-color);\n",
              "    box-shadow: 0 1px 2px rgba(60, 64, 67, 0.3), 0 1px 3px 1px rgba(60, 64, 67, 0.15);\n",
              "    fill: var(--button-hover-fill-color);\n",
              "  }\n",
              "\n",
              "  .colab-df-quickchart-complete:disabled,\n",
              "  .colab-df-quickchart-complete:disabled:hover {\n",
              "    background-color: var(--disabled-bg-color);\n",
              "    fill: var(--disabled-fill-color);\n",
              "    box-shadow: none;\n",
              "  }\n",
              "\n",
              "  .colab-df-spinner {\n",
              "    border: 2px solid var(--fill-color);\n",
              "    border-color: transparent;\n",
              "    border-bottom-color: var(--fill-color);\n",
              "    animation:\n",
              "      spin 1s steps(1) infinite;\n",
              "  }\n",
              "\n",
              "  @keyframes spin {\n",
              "    0% {\n",
              "      border-color: transparent;\n",
              "      border-bottom-color: var(--fill-color);\n",
              "      border-left-color: var(--fill-color);\n",
              "    }\n",
              "    20% {\n",
              "      border-color: transparent;\n",
              "      border-left-color: var(--fill-color);\n",
              "      border-top-color: var(--fill-color);\n",
              "    }\n",
              "    30% {\n",
              "      border-color: transparent;\n",
              "      border-left-color: var(--fill-color);\n",
              "      border-top-color: var(--fill-color);\n",
              "      border-right-color: var(--fill-color);\n",
              "    }\n",
              "    40% {\n",
              "      border-color: transparent;\n",
              "      border-right-color: var(--fill-color);\n",
              "      border-top-color: var(--fill-color);\n",
              "    }\n",
              "    60% {\n",
              "      border-color: transparent;\n",
              "      border-right-color: var(--fill-color);\n",
              "    }\n",
              "    80% {\n",
              "      border-color: transparent;\n",
              "      border-right-color: var(--fill-color);\n",
              "      border-bottom-color: var(--fill-color);\n",
              "    }\n",
              "    90% {\n",
              "      border-color: transparent;\n",
              "      border-bottom-color: var(--fill-color);\n",
              "    }\n",
              "  }\n",
              "</style>\n",
              "\n",
              "      <script>\n",
              "        async function quickchart(key) {\n",
              "          const quickchartButtonEl =\n",
              "            document.querySelector('#' + key + ' button');\n",
              "          quickchartButtonEl.disabled = true;  // To prevent multiple clicks.\n",
              "          quickchartButtonEl.classList.add('colab-df-spinner');\n",
              "          try {\n",
              "            const charts = await google.colab.kernel.invokeFunction(\n",
              "                'suggestCharts', [key], {});\n",
              "          } catch (error) {\n",
              "            console.error('Error during call to suggestCharts:', error);\n",
              "          }\n",
              "          quickchartButtonEl.classList.remove('colab-df-spinner');\n",
              "          quickchartButtonEl.classList.add('colab-df-quickchart-complete');\n",
              "        }\n",
              "        (() => {\n",
              "          let quickchartButtonEl =\n",
              "            document.querySelector('#df-ff18f6df-7216-4b57-9b72-d99b24d48007 button');\n",
              "          quickchartButtonEl.style.display =\n",
              "            google.colab.kernel.accessAllowed ? 'block' : 'none';\n",
              "        })();\n",
              "      </script>\n",
              "    </div>\n",
              "\n",
              "    </div>\n",
              "  </div>\n"
            ],
            "application/vnd.google.colaboratory.intrinsic+json": {
              "type": "dataframe",
              "variable_name": "df_combined",
              "summary": "{\n  \"name\": \"df_combined\",\n  \"rows\": 2000,\n  \"fields\": [\n    {\n      \"column\": \"Blood Status\",\n      \"properties\": {\n        \"dtype\": \"category\",\n        \"num_unique_values\": 3,\n        \"samples\": [\n          \"Half-blood\",\n          \"Pure-blood\",\n          \"Muggle-born\"\n        ],\n        \"semantic_type\": \"\",\n        \"description\": \"\"\n      }\n    },\n    {\n      \"column\": \"Bravery\",\n      \"properties\": {\n        \"dtype\": \"number\",\n        \"std\": 2.2771928954486347,\n        \"min\": 1.0,\n        \"max\": 10.0,\n        \"num_unique_values\": 1909,\n        \"samples\": [\n          5.165823361837918,\n          4.12009325533158,\n          4.6139494040551075\n        ],\n        \"semantic_type\": \"\",\n        \"description\": \"\"\n      }\n    },\n    {\n      \"column\": \"Intelligence\",\n      \"properties\": {\n        \"dtype\": \"number\",\n        \"std\": 2.1894861308005624,\n        \"min\": 1.0,\n        \"max\": 10.0,\n        \"num_unique_values\": 1914,\n        \"samples\": [\n          2.3615546578833664,\n          4.90050419519431,\n          4.396688662236828\n        ],\n        \"semantic_type\": \"\",\n        \"description\": \"\"\n      }\n    },\n    {\n      \"column\": \"Loyalty\",\n      \"properties\": {\n        \"dtype\": \"number\",\n        \"std\": 2.2807536906775603,\n        \"min\": 1.0,\n        \"max\": 10.0,\n        \"num_unique_values\": 1903,\n        \"samples\": [\n          2.3854075400868573,\n          7.9215807770698055,\n          8.074515494796556\n        ],\n        \"semantic_type\": \"\",\n        \"description\": \"\"\n      }\n    },\n    {\n      \"column\": \"Ambition\",\n      \"properties\": {\n        \"dtype\": \"number\",\n        \"std\": 2.2996261478276097,\n        \"min\": 1.0,\n        \"max\": 10.0,\n        \"num_unique_values\": 1907,\n        \"samples\": [\n          1.3041390392059278,\n          4.696699786254533,\n          7.198873176596945\n        ],\n        \"semantic_type\": \"\",\n        \"description\": \"\"\n      }\n    },\n    {\n      \"column\": \"Dark Arts Knowledge\",\n      \"properties\": {\n        \"dtype\": \"number\",\n        \"std\": 2.574900070321931,\n        \"min\": 1.0,\n        \"max\": 10.0,\n        \"num_unique_values\": 1684,\n        \"samples\": [\n          3.0826894891044097,\n          9.244223912574919,\n          5.5936798435871316\n        ],\n        \"semantic_type\": \"\",\n        \"description\": \"\"\n      }\n    },\n    {\n      \"column\": \"Quidditch Skills\",\n      \"properties\": {\n        \"dtype\": \"number\",\n        \"std\": 2.252499788246802,\n        \"min\": 1.0,\n        \"max\": 10.0,\n        \"num_unique_values\": 1875,\n        \"samples\": [\n          7.467522257752989,\n          4.100485151417549,\n          4.557217758690198\n        ],\n        \"semantic_type\": \"\",\n        \"description\": \"\"\n      }\n    },\n    {\n      \"column\": \"Dueling Skills\",\n      \"properties\": {\n        \"dtype\": \"number\",\n        \"std\": 2.381345145062803,\n        \"min\": 1.0,\n        \"max\": 10.0,\n        \"num_unique_values\": 1901,\n        \"samples\": [\n          3.241917019132123,\n          4.343857106399782,\n          2.6643799449752\n        ],\n        \"semantic_type\": \"\",\n        \"description\": \"\"\n      }\n    },\n    {\n      \"column\": \"Creativity\",\n      \"properties\": {\n        \"dtype\": \"number\",\n        \"std\": 2.3030311909538974,\n        \"min\": 1.0,\n        \"max\": 10.0,\n        \"num_unique_values\": 1915,\n        \"samples\": [\n          2.125531024596988,\n          6.534887230202291,\n          4.697377738312132\n        ],\n        \"semantic_type\": \"\",\n        \"description\": \"\"\n      }\n    },\n    {\n      \"column\": \"House\",\n      \"properties\": {\n        \"dtype\": \"category\",\n        \"num_unique_values\": 4,\n        \"samples\": [\n          \"Ravenclaw\",\n          \"Gryffindor\",\n          \"Hufflepuff\"\n        ],\n        \"semantic_type\": \"\",\n        \"description\": \"\"\n      }\n    }\n  ]\n}"
            }
          },
          "metadata": {},
          "execution_count": 19
        }
      ]
    },
    {
      "cell_type": "code",
      "source": [
        "df_combined.groupby(\"House\")[numeric_cols].mean()"
      ],
      "metadata": {
        "colab": {
          "base_uri": "https://localhost:8080/",
          "height": 224
        },
        "id": "maLW6mINKaYF",
        "outputId": "8fb9a18d-a795-4b55-bbce-6eb5d7812670"
      },
      "execution_count": 20,
      "outputs": [
        {
          "output_type": "execute_result",
          "data": {
            "text/plain": [
              "             Bravery  Intelligence   Loyalty  Ambition  Dark Arts Knowledge  \\\n",
              "House                                                                         \n",
              "Gryffindor  8.011046      4.890423  4.320032  4.231592             2.502861   \n",
              "Hufflepuff  4.160550      4.757481  8.019822  4.244945             2.610974   \n",
              "Ravenclaw   4.311630      8.005032  4.272313  4.097890             2.630398   \n",
              "Slytherin   4.269198      4.679358  4.316521  7.988928             7.578285   \n",
              "\n",
              "            Quidditch Skills  Dueling Skills  Creativity  \n",
              "House                                                     \n",
              "Gryffindor          6.360984        7.052959    4.791984  \n",
              "Hufflepuff          4.662656        4.680350    4.731227  \n",
              "Ravenclaw           4.593125        4.762661    7.136435  \n",
              "Slytherin           6.485412        7.022382    4.783860  "
            ],
            "text/html": [
              "\n",
              "  <div id=\"df-425fa3d6-8878-40b0-8667-551c705b25f4\" class=\"colab-df-container\">\n",
              "    <div>\n",
              "<style scoped>\n",
              "    .dataframe tbody tr th:only-of-type {\n",
              "        vertical-align: middle;\n",
              "    }\n",
              "\n",
              "    .dataframe tbody tr th {\n",
              "        vertical-align: top;\n",
              "    }\n",
              "\n",
              "    .dataframe thead th {\n",
              "        text-align: right;\n",
              "    }\n",
              "</style>\n",
              "<table border=\"1\" class=\"dataframe\">\n",
              "  <thead>\n",
              "    <tr style=\"text-align: right;\">\n",
              "      <th></th>\n",
              "      <th>Bravery</th>\n",
              "      <th>Intelligence</th>\n",
              "      <th>Loyalty</th>\n",
              "      <th>Ambition</th>\n",
              "      <th>Dark Arts Knowledge</th>\n",
              "      <th>Quidditch Skills</th>\n",
              "      <th>Dueling Skills</th>\n",
              "      <th>Creativity</th>\n",
              "    </tr>\n",
              "    <tr>\n",
              "      <th>House</th>\n",
              "      <th></th>\n",
              "      <th></th>\n",
              "      <th></th>\n",
              "      <th></th>\n",
              "      <th></th>\n",
              "      <th></th>\n",
              "      <th></th>\n",
              "      <th></th>\n",
              "    </tr>\n",
              "  </thead>\n",
              "  <tbody>\n",
              "    <tr>\n",
              "      <th>Gryffindor</th>\n",
              "      <td>8.011046</td>\n",
              "      <td>4.890423</td>\n",
              "      <td>4.320032</td>\n",
              "      <td>4.231592</td>\n",
              "      <td>2.502861</td>\n",
              "      <td>6.360984</td>\n",
              "      <td>7.052959</td>\n",
              "      <td>4.791984</td>\n",
              "    </tr>\n",
              "    <tr>\n",
              "      <th>Hufflepuff</th>\n",
              "      <td>4.160550</td>\n",
              "      <td>4.757481</td>\n",
              "      <td>8.019822</td>\n",
              "      <td>4.244945</td>\n",
              "      <td>2.610974</td>\n",
              "      <td>4.662656</td>\n",
              "      <td>4.680350</td>\n",
              "      <td>4.731227</td>\n",
              "    </tr>\n",
              "    <tr>\n",
              "      <th>Ravenclaw</th>\n",
              "      <td>4.311630</td>\n",
              "      <td>8.005032</td>\n",
              "      <td>4.272313</td>\n",
              "      <td>4.097890</td>\n",
              "      <td>2.630398</td>\n",
              "      <td>4.593125</td>\n",
              "      <td>4.762661</td>\n",
              "      <td>7.136435</td>\n",
              "    </tr>\n",
              "    <tr>\n",
              "      <th>Slytherin</th>\n",
              "      <td>4.269198</td>\n",
              "      <td>4.679358</td>\n",
              "      <td>4.316521</td>\n",
              "      <td>7.988928</td>\n",
              "      <td>7.578285</td>\n",
              "      <td>6.485412</td>\n",
              "      <td>7.022382</td>\n",
              "      <td>4.783860</td>\n",
              "    </tr>\n",
              "  </tbody>\n",
              "</table>\n",
              "</div>\n",
              "    <div class=\"colab-df-buttons\">\n",
              "\n",
              "  <div class=\"colab-df-container\">\n",
              "    <button class=\"colab-df-convert\" onclick=\"convertToInteractive('df-425fa3d6-8878-40b0-8667-551c705b25f4')\"\n",
              "            title=\"Convert this dataframe to an interactive table.\"\n",
              "            style=\"display:none;\">\n",
              "\n",
              "  <svg xmlns=\"http://www.w3.org/2000/svg\" height=\"24px\" viewBox=\"0 -960 960 960\">\n",
              "    <path d=\"M120-120v-720h720v720H120Zm60-500h600v-160H180v160Zm220 220h160v-160H400v160Zm0 220h160v-160H400v160ZM180-400h160v-160H180v160Zm440 0h160v-160H620v160ZM180-180h160v-160H180v160Zm440 0h160v-160H620v160Z\"/>\n",
              "  </svg>\n",
              "    </button>\n",
              "\n",
              "  <style>\n",
              "    .colab-df-container {\n",
              "      display:flex;\n",
              "      gap: 12px;\n",
              "    }\n",
              "\n",
              "    .colab-df-convert {\n",
              "      background-color: #E8F0FE;\n",
              "      border: none;\n",
              "      border-radius: 50%;\n",
              "      cursor: pointer;\n",
              "      display: none;\n",
              "      fill: #1967D2;\n",
              "      height: 32px;\n",
              "      padding: 0 0 0 0;\n",
              "      width: 32px;\n",
              "    }\n",
              "\n",
              "    .colab-df-convert:hover {\n",
              "      background-color: #E2EBFA;\n",
              "      box-shadow: 0px 1px 2px rgba(60, 64, 67, 0.3), 0px 1px 3px 1px rgba(60, 64, 67, 0.15);\n",
              "      fill: #174EA6;\n",
              "    }\n",
              "\n",
              "    .colab-df-buttons div {\n",
              "      margin-bottom: 4px;\n",
              "    }\n",
              "\n",
              "    [theme=dark] .colab-df-convert {\n",
              "      background-color: #3B4455;\n",
              "      fill: #D2E3FC;\n",
              "    }\n",
              "\n",
              "    [theme=dark] .colab-df-convert:hover {\n",
              "      background-color: #434B5C;\n",
              "      box-shadow: 0px 1px 3px 1px rgba(0, 0, 0, 0.15);\n",
              "      filter: drop-shadow(0px 1px 2px rgba(0, 0, 0, 0.3));\n",
              "      fill: #FFFFFF;\n",
              "    }\n",
              "  </style>\n",
              "\n",
              "    <script>\n",
              "      const buttonEl =\n",
              "        document.querySelector('#df-425fa3d6-8878-40b0-8667-551c705b25f4 button.colab-df-convert');\n",
              "      buttonEl.style.display =\n",
              "        google.colab.kernel.accessAllowed ? 'block' : 'none';\n",
              "\n",
              "      async function convertToInteractive(key) {\n",
              "        const element = document.querySelector('#df-425fa3d6-8878-40b0-8667-551c705b25f4');\n",
              "        const dataTable =\n",
              "          await google.colab.kernel.invokeFunction('convertToInteractive',\n",
              "                                                    [key], {});\n",
              "        if (!dataTable) return;\n",
              "\n",
              "        const docLinkHtml = 'Like what you see? Visit the ' +\n",
              "          '<a target=\"_blank\" href=https://colab.research.google.com/notebooks/data_table.ipynb>data table notebook</a>'\n",
              "          + ' to learn more about interactive tables.';\n",
              "        element.innerHTML = '';\n",
              "        dataTable['output_type'] = 'display_data';\n",
              "        await google.colab.output.renderOutput(dataTable, element);\n",
              "        const docLink = document.createElement('div');\n",
              "        docLink.innerHTML = docLinkHtml;\n",
              "        element.appendChild(docLink);\n",
              "      }\n",
              "    </script>\n",
              "  </div>\n",
              "\n",
              "\n",
              "    <div id=\"df-5880f57b-c818-468d-9813-4a05134bf094\">\n",
              "      <button class=\"colab-df-quickchart\" onclick=\"quickchart('df-5880f57b-c818-468d-9813-4a05134bf094')\"\n",
              "                title=\"Suggest charts\"\n",
              "                style=\"display:none;\">\n",
              "\n",
              "<svg xmlns=\"http://www.w3.org/2000/svg\" height=\"24px\"viewBox=\"0 0 24 24\"\n",
              "     width=\"24px\">\n",
              "    <g>\n",
              "        <path d=\"M19 3H5c-1.1 0-2 .9-2 2v14c0 1.1.9 2 2 2h14c1.1 0 2-.9 2-2V5c0-1.1-.9-2-2-2zM9 17H7v-7h2v7zm4 0h-2V7h2v10zm4 0h-2v-4h2v4z\"/>\n",
              "    </g>\n",
              "</svg>\n",
              "      </button>\n",
              "\n",
              "<style>\n",
              "  .colab-df-quickchart {\n",
              "      --bg-color: #E8F0FE;\n",
              "      --fill-color: #1967D2;\n",
              "      --hover-bg-color: #E2EBFA;\n",
              "      --hover-fill-color: #174EA6;\n",
              "      --disabled-fill-color: #AAA;\n",
              "      --disabled-bg-color: #DDD;\n",
              "  }\n",
              "\n",
              "  [theme=dark] .colab-df-quickchart {\n",
              "      --bg-color: #3B4455;\n",
              "      --fill-color: #D2E3FC;\n",
              "      --hover-bg-color: #434B5C;\n",
              "      --hover-fill-color: #FFFFFF;\n",
              "      --disabled-bg-color: #3B4455;\n",
              "      --disabled-fill-color: #666;\n",
              "  }\n",
              "\n",
              "  .colab-df-quickchart {\n",
              "    background-color: var(--bg-color);\n",
              "    border: none;\n",
              "    border-radius: 50%;\n",
              "    cursor: pointer;\n",
              "    display: none;\n",
              "    fill: var(--fill-color);\n",
              "    height: 32px;\n",
              "    padding: 0;\n",
              "    width: 32px;\n",
              "  }\n",
              "\n",
              "  .colab-df-quickchart:hover {\n",
              "    background-color: var(--hover-bg-color);\n",
              "    box-shadow: 0 1px 2px rgba(60, 64, 67, 0.3), 0 1px 3px 1px rgba(60, 64, 67, 0.15);\n",
              "    fill: var(--button-hover-fill-color);\n",
              "  }\n",
              "\n",
              "  .colab-df-quickchart-complete:disabled,\n",
              "  .colab-df-quickchart-complete:disabled:hover {\n",
              "    background-color: var(--disabled-bg-color);\n",
              "    fill: var(--disabled-fill-color);\n",
              "    box-shadow: none;\n",
              "  }\n",
              "\n",
              "  .colab-df-spinner {\n",
              "    border: 2px solid var(--fill-color);\n",
              "    border-color: transparent;\n",
              "    border-bottom-color: var(--fill-color);\n",
              "    animation:\n",
              "      spin 1s steps(1) infinite;\n",
              "  }\n",
              "\n",
              "  @keyframes spin {\n",
              "    0% {\n",
              "      border-color: transparent;\n",
              "      border-bottom-color: var(--fill-color);\n",
              "      border-left-color: var(--fill-color);\n",
              "    }\n",
              "    20% {\n",
              "      border-color: transparent;\n",
              "      border-left-color: var(--fill-color);\n",
              "      border-top-color: var(--fill-color);\n",
              "    }\n",
              "    30% {\n",
              "      border-color: transparent;\n",
              "      border-left-color: var(--fill-color);\n",
              "      border-top-color: var(--fill-color);\n",
              "      border-right-color: var(--fill-color);\n",
              "    }\n",
              "    40% {\n",
              "      border-color: transparent;\n",
              "      border-right-color: var(--fill-color);\n",
              "      border-top-color: var(--fill-color);\n",
              "    }\n",
              "    60% {\n",
              "      border-color: transparent;\n",
              "      border-right-color: var(--fill-color);\n",
              "    }\n",
              "    80% {\n",
              "      border-color: transparent;\n",
              "      border-right-color: var(--fill-color);\n",
              "      border-bottom-color: var(--fill-color);\n",
              "    }\n",
              "    90% {\n",
              "      border-color: transparent;\n",
              "      border-bottom-color: var(--fill-color);\n",
              "    }\n",
              "  }\n",
              "</style>\n",
              "\n",
              "      <script>\n",
              "        async function quickchart(key) {\n",
              "          const quickchartButtonEl =\n",
              "            document.querySelector('#' + key + ' button');\n",
              "          quickchartButtonEl.disabled = true;  // To prevent multiple clicks.\n",
              "          quickchartButtonEl.classList.add('colab-df-spinner');\n",
              "          try {\n",
              "            const charts = await google.colab.kernel.invokeFunction(\n",
              "                'suggestCharts', [key], {});\n",
              "          } catch (error) {\n",
              "            console.error('Error during call to suggestCharts:', error);\n",
              "          }\n",
              "          quickchartButtonEl.classList.remove('colab-df-spinner');\n",
              "          quickchartButtonEl.classList.add('colab-df-quickchart-complete');\n",
              "        }\n",
              "        (() => {\n",
              "          let quickchartButtonEl =\n",
              "            document.querySelector('#df-5880f57b-c818-468d-9813-4a05134bf094 button');\n",
              "          quickchartButtonEl.style.display =\n",
              "            google.colab.kernel.accessAllowed ? 'block' : 'none';\n",
              "        })();\n",
              "      </script>\n",
              "    </div>\n",
              "\n",
              "    </div>\n",
              "  </div>\n"
            ],
            "application/vnd.google.colaboratory.intrinsic+json": {
              "type": "dataframe",
              "summary": "{\n  \"name\": \"df_combined\",\n  \"rows\": 4,\n  \"fields\": [\n    {\n      \"column\": \"House\",\n      \"properties\": {\n        \"dtype\": \"string\",\n        \"num_unique_values\": 4,\n        \"samples\": [\n          \"Hufflepuff\",\n          \"Slytherin\",\n          \"Gryffindor\"\n        ],\n        \"semantic_type\": \"\",\n        \"description\": \"\"\n      }\n    },\n    {\n      \"column\": \"Bravery\",\n      \"properties\": {\n        \"dtype\": \"number\",\n        \"std\": 1.8830351124069216,\n        \"min\": 4.1605499565522965,\n        \"max\": 8.011045786224868,\n        \"num_unique_values\": 4,\n        \"samples\": [\n          4.1605499565522965,\n          4.269197541179227,\n          8.011045786224868\n        ],\n        \"semantic_type\": \"\",\n        \"description\": \"\"\n      }\n    },\n    {\n      \"column\": \"Intelligence\",\n      \"properties\": {\n        \"dtype\": \"number\",\n        \"std\": 1.6169880764662283,\n        \"min\": 4.679357641400263,\n        \"max\": 8.005031586349121,\n        \"num_unique_values\": 4,\n        \"samples\": [\n          4.757480837131414,\n          4.679357641400263,\n          4.89042297614032\n        ],\n        \"semantic_type\": \"\",\n        \"description\": \"\"\n      }\n    },\n    {\n      \"column\": \"Loyalty\",\n      \"properties\": {\n        \"dtype\": \"number\",\n        \"std\": 1.8585603741577899,\n        \"min\": 4.272313430621363,\n        \"max\": 8.019822493472553,\n        \"num_unique_values\": 4,\n        \"samples\": [\n          8.019822493472553,\n          4.316520644722921,\n          4.320032294811866\n        ],\n        \"semantic_type\": \"\",\n        \"description\": \"\"\n      }\n    },\n    {\n      \"column\": \"Ambition\",\n      \"properties\": {\n        \"dtype\": \"number\",\n        \"std\": 1.8998868646067804,\n        \"min\": 4.097889951208551,\n        \"max\": 7.988928189559222,\n        \"num_unique_values\": 4,\n        \"samples\": [\n          4.244944924585376,\n          7.988928189559222,\n          4.231592416011863\n        ],\n        \"semantic_type\": \"\",\n        \"description\": \"\"\n      }\n    },\n    {\n      \"column\": \"Dark Arts Knowledge\",\n      \"properties\": {\n        \"dtype\": \"number\",\n        \"std\": 2.4990669757344532,\n        \"min\": 2.50286060723279,\n        \"max\": 7.578285017086688,\n        \"num_unique_values\": 4,\n        \"samples\": [\n          2.610973895812346,\n          7.578285017086688,\n          2.50286060723279\n        ],\n        \"semantic_type\": \"\",\n        \"description\": \"\"\n      }\n    },\n    {\n      \"column\": \"Quidditch Skills\",\n      \"properties\": {\n        \"dtype\": \"number\",\n        \"std\": 1.0381534096303833,\n        \"min\": 4.593124819387629,\n        \"max\": 6.485412072357984,\n        \"num_unique_values\": 4,\n        \"samples\": [\n          4.6626557722765485,\n          6.485412072357984,\n          6.360983505608744\n        ],\n        \"semantic_type\": \"\",\n        \"description\": \"\"\n      }\n    },\n    {\n      \"column\": \"Dueling Skills\",\n      \"properties\": {\n        \"dtype\": \"number\",\n        \"std\": 1.337718772178917,\n        \"min\": 4.680350488439981,\n        \"max\": 7.052958675165124,\n        \"num_unique_values\": 4,\n        \"samples\": [\n          4.680350488439981,\n          7.022382347850958,\n          7.052958675165124\n        ],\n        \"semantic_type\": \"\",\n        \"description\": \"\"\n      }\n    },\n    {\n      \"column\": \"Creativity\",\n      \"properties\": {\n        \"dtype\": \"number\",\n        \"std\": 1.1840119783470129,\n        \"min\": 4.7312269121324935,\n        \"max\": 7.136434744117171,\n        \"num_unique_values\": 4,\n        \"samples\": [\n          4.7312269121324935,\n          4.783859653826554,\n          4.791983740259005\n        ],\n        \"semantic_type\": \"\",\n        \"description\": \"\"\n      }\n    }\n  ]\n}"
            }
          },
          "metadata": {},
          "execution_count": 20
        }
      ]
    },
    {
      "cell_type": "markdown",
      "source": [
        "## **Part 3: Training on Realistic Data**"
      ],
      "metadata": {
        "id": "4etANAE8K778"
      }
    },
    {
      "cell_type": "code",
      "source": [
        "# Prepare the realistic dataset\n",
        "X_new = df_combined.drop(\"House\", axis=1)\n",
        "y_new = df_combined[\"House\"]\n",
        "categorical_features = [\"Blood Status\"]\n",
        "\n",
        "#Split the data\n",
        "X_train_new, X_test_new, y_train_new, y_test_new = train_test_split(\n",
        "    X_new, y_new, test_size=0.3, random_state=42, stratify=y_new\n",
        ")\n",
        "\n",
        "# Train a new model on realistic data\n",
        "model_new = CatBoostClassifier(\n",
        "    iterations=500,\n",
        "    depth=6,\n",
        "    learning_rate=0.1,\n",
        "    loss_function=\"MultiClass\",\n",
        "    verbose=100,\n",
        "    random_seed=42\n",
        ")\n",
        "\n",
        "model_new.fit(X_train_new, y_train_new, cat_features=categorical_features)\n"
      ],
      "metadata": {
        "colab": {
          "base_uri": "https://localhost:8080/"
        },
        "id": "abgsJAIfe_i5",
        "outputId": "e6648288-6685-4de9-b682-06cf3d83afee"
      },
      "execution_count": 21,
      "outputs": [
        {
          "output_type": "stream",
          "name": "stdout",
          "text": [
            "0:\tlearn: 1.1994403\ttotal: 10.8ms\tremaining: 5.4s\n",
            "100:\tlearn: 0.1153713\ttotal: 828ms\tremaining: 3.27s\n",
            "200:\tlearn: 0.0681143\ttotal: 2.38s\tremaining: 3.54s\n",
            "300:\tlearn: 0.0452632\ttotal: 3.35s\tremaining: 2.21s\n",
            "400:\tlearn: 0.0326848\ttotal: 4.29s\tremaining: 1.06s\n",
            "499:\tlearn: 0.0254213\ttotal: 5.54s\tremaining: 0us\n"
          ]
        },
        {
          "output_type": "execute_result",
          "data": {
            "text/plain": [
              "<catboost.core.CatBoostClassifier at 0x78459853a0f0>"
            ]
          },
          "metadata": {},
          "execution_count": 21
        }
      ]
    },
    {
      "cell_type": "markdown",
      "source": [
        "### **Results**"
      ],
      "metadata": {
        "id": "QpYmCMFrLVAb"
      }
    },
    {
      "cell_type": "markdown",
      "source": [
        "Predict on realistic test set"
      ],
      "metadata": {
        "id": "sURn_EldLecP"
      }
    },
    {
      "cell_type": "code",
      "source": [
        "# Predict house labels\n",
        "y_pred_new = model_new.predict(X_test_new)\n",
        "\n",
        "# Predict probabilities\n",
        "y_probs_new = model_new.predict_proba(X_test_new)\n"
      ],
      "metadata": {
        "id": "ByH3SovDfUNW"
      },
      "execution_count": 22,
      "outputs": []
    },
    {
      "cell_type": "code",
      "source": [
        "model_new.save_model(\"the_sorting_hat_2.0_model.cbm\")"
      ],
      "metadata": {
        "id": "jfggM9Y1A33r"
      },
      "execution_count": 23,
      "outputs": []
    },
    {
      "cell_type": "code",
      "source": [
        "# Accuracy\n",
        "print(\"Accuracy:\", accuracy_score(y_test_new, y_pred_new))\n",
        "\n",
        "# Detailed metrics\n",
        "print(\"\\nClassification Report:\\n\", classification_report(y_test_new, y_pred_new))\n",
        "\n",
        "cm_new = confusion_matrix(y_test_new, y_pred_new, labels=model.classes_)\n",
        "cm_percent_new = cm_new.astype('float') / cm_new.sum(axis=1)[:, np.newaxis] * 100\n",
        "sns.heatmap(cm_percent_new, annot=True, fmt=\".1f\", cmap=\"Reds\",\n",
        "            xticklabels=model_new.classes_, yticklabels=model_new.classes_)\n",
        "plt.xlabel(\"Predicted\")\n",
        "plt.ylabel(\"Actual\")\n",
        "plt.title(\"Confusion Matrix\")\n",
        "plt.show()\n"
      ],
      "metadata": {
        "colab": {
          "base_uri": "https://localhost:8080/",
          "height": 722
        },
        "id": "owefA2DNfYCh",
        "outputId": "cd61375b-459b-4f02-f7b8-b164182e933e"
      },
      "execution_count": 24,
      "outputs": [
        {
          "output_type": "stream",
          "name": "stdout",
          "text": [
            "Accuracy: 0.94\n",
            "\n",
            "Classification Report:\n",
            "               precision    recall  f1-score   support\n",
            "\n",
            "  Gryffindor       0.94      0.93      0.93       143\n",
            "  Hufflepuff       0.91      0.95      0.93       150\n",
            "   Ravenclaw       0.92      0.89      0.91       152\n",
            "   Slytherin       1.00      0.98      0.99       155\n",
            "\n",
            "    accuracy                           0.94       600\n",
            "   macro avg       0.94      0.94      0.94       600\n",
            "weighted avg       0.94      0.94      0.94       600\n",
            "\n"
          ]
        },
        {
          "output_type": "display_data",
          "data": {
            "text/plain": [
              "<Figure size 640x480 with 2 Axes>"
            ],
            "image/png": "[encoded data removed]"
          },
          "metadata": {}
        }
      ]
    },
    {
      "cell_type": "markdown",
      "source": [
        "Now we have a realistic result!\n",
        "\n",
        "\n"
      ],
      "metadata": {
        "id": "s2_cP9raAJ9A"
      }
    },
    {
      "cell_type": "markdown",
      "source": [
        "## **Part 4: The Sorting Hat in Action**"
      ],
      "metadata": {
        "id": "TVq5bXEMLnpk"
      }
    },
    {
      "cell_type": "code",
      "source": [
        "def sort_student(name, blood_status, bravery, intelligence, loyalty, ambition,\n",
        "                 dark_arts, quidditch, dueling, creativity, model=model_new, threshold=0.15):\n",
        "\n",
        "\n",
        "    # Create student data\n",
        "    student = pd.DataFrame([{\n",
        "        \"Blood Status\": blood_status,\n",
        "        \"Bravery\": bravery,\n",
        "        \"Intelligence\": intelligence,\n",
        "        \"Loyalty\": loyalty,\n",
        "        \"Ambition\": ambition,\n",
        "        \"Dark Arts Knowledge\": dark_arts,\n",
        "        \"Quidditch Skills\": quidditch,\n",
        "        \"Dueling Skills\": dueling,\n",
        "        \"Creativity\": creativity\n",
        "    }])\n",
        "\n",
        "    # Specify categorical columns\n",
        "    cat_features = [\"Blood Status\"]\n",
        "\n",
        "    # Create CatBoost Pool\n",
        "    student_pool = Pool(data=student, cat_features=cat_features)\n",
        "\n",
        "    # Make prediction\n",
        "    predicted_house = model.predict(student_pool).item()\n",
        "    probabilities = model.predict_proba(student_pool)[0]\n",
        "    prob_dict = dict(zip(model.classes_, probabilities))\n",
        "\n",
        "    # Sort probabilities\n",
        "    sorted_probs = sorted(prob_dict.items(), key=lambda x: x[1], reverse=True)\n",
        "    top_house, top_prob = sorted_probs[0]\n",
        "    second_house, second_prob = sorted_probs[1]\n",
        "\n",
        "    # Check if probabilities are close\n",
        "    close_message = \"\"\n",
        "    if top_prob - second_prob < threshold:\n",
        "        close_message = \"You have multiple strong traits that made it difficult to place you in one house, \" \\\n",
        "                        \"but a Sorting Hat never fails! \"\n",
        "\n",
        "    # House emojis and messages\n",
        "    house_emoji = {\"Gryffindor\": \"🦁\", \"Hufflepuff\": \"🦡\", \"Ravenclaw\": \"🦅\", \"Slytherin\": \"🐍\"}\n",
        "    house_messages = {\n",
        "        \"Gryffindor\": [\"Your courage and daring spirit make you a true Gryffindor!\"],\n",
        "        \"Hufflepuff\": [\"Your loyalty and dedication shine bright in Hufflepuff!\"],\n",
        "        \"Ravenclaw\": [\"Your wisdom and creativity belong in Ravenclaw!\"],\n",
        "        \"Slytherin\": [\"Your ambition and cunning mark you as a true Slytherin!\"]\n",
        "    }\n",
        "\n",
        "    # Pick message\n",
        "    selected_message = random.choice(house_messages[predicted_house])\n",
        "\n",
        "    # Traits per house for message alignment\n",
        "    house_traits = {\n",
        "        \"Gryffindor\": [\"Bravery\", \"Ambition\"],\n",
        "        \"Hufflepuff\": [\"Loyalty\", \"Bravery\"],\n",
        "        \"Ravenclaw\": [\"Intelligence\", \"Creativity\"],\n",
        "        \"Slytherin\": [\"Ambition\", \"Dark Arts Knowledge\"]\n",
        "    }\n",
        "    top_traits = house_traits[predicted_house]\n",
        "\n",
        "    # Create personalized message\n",
        "    message = f\"🎓 {name}, welcome to {predicted_house}! {house_emoji[predicted_house]}\\n\\n\"\n",
        "    message += f\"The Sorting Hat has spoken! You are exceptional in {top_traits[0].lower()} and {top_traits[1].lower()}. \"\n",
        "    message += \"But remember, your house placement considers all your traits — bravery, intelligence, loyalty, ambition, dark arts knowledge, and more. \"\n",
        "    message += close_message + selected_message\n",
        "\n",
        "    # Show all house probabilities\n",
        "    message += \"\\n\\n House Probabilities:\"\n",
        "    for house, prob in sorted_probs:\n",
        "        emoji = house_emoji[house]\n",
        "        message += f\"\\n{emoji} {house}: {prob:.1%}\"\n",
        "\n",
        "    message += \"\\n\\n✨ May your journey at Hogwarts be filled with magic and wonder!\"\n",
        "\n",
        "    return message\n"
      ],
      "metadata": {
        "id": "z7ARtYVmfdQ5"
      },
      "execution_count": 25,
      "outputs": []
    },
    {
      "cell_type": "markdown",
      "source": [
        "Now let's test our Sorting Hat on a new student!"
      ],
      "metadata": {
        "id": "brfQyFaiL5sX"
      }
    },
    {
      "cell_type": "code",
      "source": [
        "result = sort_student(\n",
        "    name=\"Emma\",\n",
        "    blood_status=\"Half-blood\",\n",
        "    bravery=8,\n",
        "    intelligence=9,\n",
        "    loyalty=10,\n",
        "    ambition=3,\n",
        "    dark_arts=3,\n",
        "    quidditch=10,\n",
        "    dueling=8,\n",
        "    creativity=9\n",
        ")\n",
        "\n",
        "print(result)"
      ],
      "metadata": {
        "colab": {
          "base_uri": "https://localhost:8080/"
        },
        "id": "T-VJAvgNPAxM",
        "outputId": "302342dc-3e81-4b21-f388-a172a954c2b4"
      },
      "execution_count": 26,
      "outputs": [
        {
          "output_type": "stream",
          "name": "stdout",
          "text": [
            "🎓 Emma, welcome to Ravenclaw! 🦅\n",
            "\n",
            "The Sorting Hat has spoken! You are exceptional in intelligence and creativity. But remember, your house placement considers all your traits — bravery, intelligence, loyalty, ambition, dark arts knowledge, and more. Your wisdom and creativity belong in Ravenclaw!\n",
            "\n",
            " House Probabilities:\n",
            "🦅 Ravenclaw: 54.0%\n",
            "🦁 Gryffindor: 38.0%\n",
            "🦡 Hufflepuff: 6.3%\n",
            "🐍 Slytherin: 1.6%\n",
            "\n",
            "✨ May your journey at Hogwarts be filled with magic and wonder!\n"
          ]
        }
      ]
    },
    {
      "cell_type": "code",
      "source": [
        "result = sort_student(\n",
        "    name=\"Dan\",\n",
        "    blood_status=\"Half-blood\",\n",
        "    bravery=10,\n",
        "    intelligence=8,\n",
        "    loyalty=3,\n",
        "    ambition=3,\n",
        "    dark_arts=3,\n",
        "    quidditch=5,\n",
        "    dueling=8,\n",
        "    creativity=6\n",
        ")\n",
        "\n",
        "print(result)"
      ],
      "metadata": {
        "colab": {
          "base_uri": "https://localhost:8080/"
        },
        "id": "kmIrP_9laYBI",
        "outputId": "dc58c38d-4877-41ca-e089-438ea1a10011"
      },
      "execution_count": 27,
      "outputs": [
        {
          "output_type": "stream",
          "name": "stdout",
          "text": [
            "🎓 Dan, welcome to Gryffindor! 🦁\n",
            "\n",
            "The Sorting Hat has spoken! You are exceptional in bravery and ambition. But remember, your house placement considers all your traits — bravery, intelligence, loyalty, ambition, dark arts knowledge, and more. Your courage and daring spirit make you a true Gryffindor!\n",
            "\n",
            " House Probabilities:\n",
            "🦁 Gryffindor: 96.2%\n",
            "🦅 Ravenclaw: 3.6%\n",
            "🦡 Hufflepuff: 0.1%\n",
            "🐍 Slytherin: 0.1%\n",
            "\n",
            "✨ May your journey at Hogwarts be filled with magic and wonder!\n"
          ]
        }
      ]
    },
    {
      "cell_type": "markdown",
      "source": [
        "## **Conclusion**"
      ],
      "metadata": {
        "id": "G812t_RWM3PH"
      }
    },
    {
      "cell_type": "markdown",
      "source": [
        "We've successfully built a Hogwarts House predictor that learned an important lesson: not all perfect results are actually perfect!\n",
        "Sometimes the messier, more realistic approach leads to a better, more generalizable model.\n",
        "\n",
        "The Sorting Hat taught us that in machine learning, as in magic, the journey of understanding your data is just as important as the destination of high accuracy.\n",
        "\n",
        "*\"It is our choices, Harry, that show what we truly are, far more than our abilities.\"* - And sometimes, that includes choosing realistic data over perfect results!"
      ],
      "metadata": {
        "id": "T02gbrk0M98a"
      }
    },
    {
      "cell_type": "markdown",
      "source": [
        "Happy coding, and may the odds be ever in your favor... I mean, may your house win the House Cup! 🏆"
      ],
      "metadata": {
        "id": "0WmJG6x2NJQZ"
      }
    }
  ]
}