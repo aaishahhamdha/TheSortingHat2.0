{
  "nbformat": 4,
  "nbformat_minor": 0,
  "metadata": {
    "colab": {
      "provenance": []
    },
    "kernelspec": {
      "name": "python3",
      "display_name": "Python 3"
    },
    "language_info": {
      "name": "python"
    }
  },
  "cells": [
    {
      "cell_type": "markdown",
      "source": [
        "# **Hogwarts House Predictor**\n"
      ],
      "metadata": {
        "id": "E-R3fHQoGZyP"
      }
    },
    {
      "cell_type": "markdown",
      "source": [
        "## **Introduction**"
      ],
      "metadata": {
        "id": "_hChFc1WF2Hg"
      }
    },
    {
      "cell_type": "markdown",
      "source": [
        "Ever wondered which Hogwarts house you truly belong to? In this project, we'll build a machine learning model that acts like the Sorting Hat, predicting which house a student should be sorted into based on their magical abilities and personality traits.\n",
        "But here's the twist - we'll discover that not all datasets are created equal, and sometimes \"perfect\" results are actually a red flag! Join me as we explore overfitting, synthetic data generation, and building a more realistic predictor."
      ],
      "metadata": {
        "id": "3VZQ6ARiF4BV"
      }
    },
    {
      "cell_type": "markdown",
      "source": [
        "## **Setup and Installation**"
      ],
      "metadata": {
        "id": "nDMVmKUfF9SR"
      }
    },
    {
      "cell_type": "markdown",
      "source": [
        "First, let's install the required packages and import our libraries:"
      ],
      "metadata": {
        "id": "mqbJth_KGEXK"
      }
    },
    {
      "cell_type": "code",
      "source": [
        "# Install CatBoost - our gradient boosting algorithm of choice\n",
        "!pip install catboost"
      ],
      "metadata": {
        "colab": {
          "base_uri": "https://localhost:8080/"
        },
        "id": "uyl7nII6RJyn",
        "outputId": "9a599367-ddec-45a1-9c94-30440c101c13"
      },
      "execution_count": 1,
      "outputs": [
        {
          "output_type": "stream",
          "name": "stdout",
          "text": [
            "Requirement already satisfied: catboost in /usr/local/lib/python3.12/dist-packages (1.2.8)\n",
            "Requirement already satisfied: graphviz in /usr/local/lib/python3.12/dist-packages (from catboost) (0.21)\n",
            "Requirement already satisfied: matplotlib in /usr/local/lib/python3.12/dist-packages (from catboost) (3.10.0)\n",
            "Requirement already satisfied: numpy<3.0,>=1.16.0 in /usr/local/lib/python3.12/dist-packages (from catboost) (2.0.2)\n",
            "Requirement already satisfied: pandas>=0.24 in /usr/local/lib/python3.12/dist-packages (from catboost) (2.2.2)\n",
            "Requirement already satisfied: scipy in /usr/local/lib/python3.12/dist-packages (from catboost) (1.16.1)\n",
            "Requirement already satisfied: plotly in /usr/local/lib/python3.12/dist-packages (from catboost) (5.24.1)\n",
            "Requirement already satisfied: six in /usr/local/lib/python3.12/dist-packages (from catboost) (1.17.0)\n",
            "Requirement already satisfied: python-dateutil>=2.8.2 in /usr/local/lib/python3.12/dist-packages (from pandas>=0.24->catboost) (2.9.0.post0)\n",
            "Requirement already satisfied: pytz>=2020.1 in /usr/local/lib/python3.12/dist-packages (from pandas>=0.24->catboost) (2025.2)\n",
            "Requirement already satisfied: tzdata>=2022.7 in /usr/local/lib/python3.12/dist-packages (from pandas>=0.24->catboost) (2025.2)\n",
            "Requirement already satisfied: contourpy>=1.0.1 in /usr/local/lib/python3.12/dist-packages (from matplotlib->catboost) (1.3.3)\n",
            "Requirement already satisfied: cycler>=0.10 in /usr/local/lib/python3.12/dist-packages (from matplotlib->catboost) (0.12.1)\n",
            "Requirement already satisfied: fonttools>=4.22.0 in /usr/local/lib/python3.12/dist-packages (from matplotlib->catboost) (4.59.2)\n",
            "Requirement already satisfied: kiwisolver>=1.3.1 in /usr/local/lib/python3.12/dist-packages (from matplotlib->catboost) (1.4.9)\n",
            "Requirement already satisfied: packaging>=20.0 in /usr/local/lib/python3.12/dist-packages (from matplotlib->catboost) (25.0)\n",
            "Requirement already satisfied: pillow>=8 in /usr/local/lib/python3.12/dist-packages (from matplotlib->catboost) (11.3.0)\n",
            "Requirement already satisfied: pyparsing>=2.3.1 in /usr/local/lib/python3.12/dist-packages (from matplotlib->catboost) (3.2.3)\n",
            "Requirement already satisfied: tenacity>=6.2.0 in /usr/local/lib/python3.12/dist-packages (from plotly->catboost) (8.5.0)\n"
          ]
        }
      ]
    },
    {
      "cell_type": "code",
      "source": [
        "# Import necessary libraries\n",
        "import kagglehub\n",
        "from kagglehub import KaggleDatasetAdapter\n",
        "from sklearn.model_selection import train_test_split\n",
        "from catboost import CatBoostClassifier, Pool\n",
        "from sklearn.metrics import accuracy_score, classification_report, confusion_matrix\n",
        "import matplotlib.pyplot as plt\n",
        "import seaborn as sns\n",
        "import pandas as pd\n",
        "import numpy as np\n",
        "import random\n",
        "\n",
        "# Set style for better plots\n",
        "plt.style.use('default')\n",
        "sns.set_palette(\"husl\")"
      ],
      "metadata": {
        "id": "iofZlRKCF_26"
      },
      "execution_count": 2,
      "outputs": []
    },
    {
      "cell_type": "markdown",
      "source": [
        "## **Part 1: The Existing Dataset**"
      ],
      "metadata": {
        "id": "7Zdu5iRAGOjp"
      }
    },
    {
      "cell_type": "markdown",
      "source": [
        "Let's start by downloading the Harry Potter sorting dataset from Kaggle:"
      ],
      "metadata": {
        "id": "bdp5XWa3GVsv"
      }
    },
    {
      "cell_type": "code",
      "source": [
        "# Download dataset\n",
        "path = kagglehub.dataset_download(\"sahityapalacharla/harry-potter-sorting-dataset\")\n",
        "\n",
        "# Load CSV file into Pandas DataFrame\n",
        "df = kagglehub.load_dataset(\n",
        "    KaggleDatasetAdapter.PANDAS,\n",
        "    \"sahityapalacharla/harry-potter-sorting-dataset\",\n",
        "    \"harry_potter_1000_students.csv\"\n",
        ")"
      ],
      "metadata": {
        "colab": {
          "base_uri": "https://localhost:8080/"
        },
        "id": "02KYIkmKGyE4",
        "outputId": "814b985e-bac5-4fa5-8ec8-bd2b0ed935db"
      },
      "execution_count": 3,
      "outputs": [
        {
          "output_type": "stream",
          "name": "stdout",
          "text": [
            "Using Colab cache for faster access to the 'harry-potter-sorting-dataset' dataset.\n"
          ]
        },
        {
          "output_type": "stream",
          "name": "stderr",
          "text": [
            "/tmp/ipython-input-1049650714.py:5: DeprecationWarning: Use dataset_load() instead of load_dataset(). load_dataset() will be removed in a future version.\n",
            "  df = kagglehub.load_dataset(\n"
          ]
        },
        {
          "output_type": "stream",
          "name": "stdout",
          "text": [
            "Using Colab cache for faster access to the 'harry-potter-sorting-dataset' dataset.\n"
          ]
        }
      ]
    },
    {
      "cell_type": "code",
      "source": [
        "print(f\"Shape: {df.shape[0]} students, {df.shape[1]} features\")\n",
        "df.head()"
      ],
      "metadata": {
        "colab": {
          "base_uri": "https://localhost:8080/",
          "height": 224
        },
        "id": "W4VDrdavHSi-",
        "outputId": "cccb2bfc-b841-4605-efc0-e09d35a43854"
      },
      "execution_count": 4,
      "outputs": [
        {
          "output_type": "stream",
          "name": "stdout",
          "text": [
            "Shape: 1000 students, 10 features\n"
          ]
        },
        {
          "output_type": "execute_result",
          "data": {
            "text/plain": [
              "  Blood Status  Bravery  Intelligence  Loyalty  Ambition  Dark Arts Knowledge  \\\n",
              "0   Half-blood        9             4        7         5                    0   \n",
              "1  Muggle-born        6             8        5         7                    5   \n",
              "2   Pure-blood        1             4        7         7                    1   \n",
              "3   Pure-blood        9             1        3         4                    1   \n",
              "4  Muggle-born        5             9        7         3                    3   \n",
              "\n",
              "   Quidditch Skills  Dueling Skills  Creativity       House  \n",
              "0                 8               8           7  Gryffindor  \n",
              "1                 6               4           9   Ravenclaw  \n",
              "2                 4               4           6  Hufflepuff  \n",
              "3                 9              10           1  Gryffindor  \n",
              "4                 6               7           9   Ravenclaw  "
            ],
            "text/html": [
              "\n",
              "  <div id=\"df-8ad6a1fa-c73c-4ceb-80c0-369cb791b16d\" class=\"colab-df-container\">\n",
              "    <div>\n",
              "<style scoped>\n",
              "    .dataframe tbody tr th:only-of-type {\n",
              "        vertical-align: middle;\n",
              "    }\n",
              "\n",
              "    .dataframe tbody tr th {\n",
              "        vertical-align: top;\n",
              "    }\n",
              "\n",
              "    .dataframe thead th {\n",
              "        text-align: right;\n",
              "    }\n",
              "</style>\n",
              "<table border=\"1\" class=\"dataframe\">\n",
              "  <thead>\n",
              "    <tr style=\"text-align: right;\">\n",
              "      <th></th>\n",
              "      <th>Blood Status</th>\n",
              "      <th>Bravery</th>\n",
              "      <th>Intelligence</th>\n",
              "      <th>Loyalty</th>\n",
              "      <th>Ambition</th>\n",
              "      <th>Dark Arts Knowledge</th>\n",
              "      <th>Quidditch Skills</th>\n",
              "      <th>Dueling Skills</th>\n",
              "      <th>Creativity</th>\n",
              "      <th>House</th>\n",
              "    </tr>\n",
              "  </thead>\n",
              "  <tbody>\n",
              "    <tr>\n",
              "      <th>0</th>\n",
              "      <td>Half-blood</td>\n",
              "      <td>9</td>\n",
              "      <td>4</td>\n",
              "      <td>7</td>\n",
              "      <td>5</td>\n",
              "      <td>0</td>\n",
              "      <td>8</td>\n",
              "      <td>8</td>\n",
              "      <td>7</td>\n",
              "      <td>Gryffindor</td>\n",
              "    </tr>\n",
              "    <tr>\n",
              "      <th>1</th>\n",
              "      <td>Muggle-born</td>\n",
              "      <td>6</td>\n",
              "      <td>8</td>\n",
              "      <td>5</td>\n",
              "      <td>7</td>\n",
              "      <td>5</td>\n",
              "      <td>6</td>\n",
              "      <td>4</td>\n",
              "      <td>9</td>\n",
              "      <td>Ravenclaw</td>\n",
              "    </tr>\n",
              "    <tr>\n",
              "      <th>2</th>\n",
              "      <td>Pure-blood</td>\n",
              "      <td>1</td>\n",
              "      <td>4</td>\n",
              "      <td>7</td>\n",
              "      <td>7</td>\n",
              "      <td>1</td>\n",
              "      <td>4</td>\n",
              "      <td>4</td>\n",
              "      <td>6</td>\n",
              "      <td>Hufflepuff</td>\n",
              "    </tr>\n",
              "    <tr>\n",
              "      <th>3</th>\n",
              "      <td>Pure-blood</td>\n",
              "      <td>9</td>\n",
              "      <td>1</td>\n",
              "      <td>3</td>\n",
              "      <td>4</td>\n",
              "      <td>1</td>\n",
              "      <td>9</td>\n",
              "      <td>10</td>\n",
              "      <td>1</td>\n",
              "      <td>Gryffindor</td>\n",
              "    </tr>\n",
              "    <tr>\n",
              "      <th>4</th>\n",
              "      <td>Muggle-born</td>\n",
              "      <td>5</td>\n",
              "      <td>9</td>\n",
              "      <td>7</td>\n",
              "      <td>3</td>\n",
              "      <td>3</td>\n",
              "      <td>6</td>\n",
              "      <td>7</td>\n",
              "      <td>9</td>\n",
              "      <td>Ravenclaw</td>\n",
              "    </tr>\n",
              "  </tbody>\n",
              "</table>\n",
              "</div>\n",
              "    <div class=\"colab-df-buttons\">\n",
              "\n",
              "  <div class=\"colab-df-container\">\n",
              "    <button class=\"colab-df-convert\" onclick=\"convertToInteractive('df-8ad6a1fa-c73c-4ceb-80c0-369cb791b16d')\"\n",
              "            title=\"Convert this dataframe to an interactive table.\"\n",
              "            style=\"display:none;\">\n",
              "\n",
              "  <svg xmlns=\"http://www.w3.org/2000/svg\" height=\"24px\" viewBox=\"0 -960 960 960\">\n",
              "    <path d=\"M120-120v-720h720v720H120Zm60-500h600v-160H180v160Zm220 220h160v-160H400v160Zm0 220h160v-160H400v160ZM180-400h160v-160H180v160Zm440 0h160v-160H620v160ZM180-180h160v-160H180v160Zm440 0h160v-160H620v160Z\"/>\n",
              "  </svg>\n",
              "    </button>\n",
              "\n",
              "  <style>\n",
              "    .colab-df-container {\n",
              "      display:flex;\n",
              "      gap: 12px;\n",
              "    }\n",
              "\n",
              "    .colab-df-convert {\n",
              "      background-color: #E8F0FE;\n",
              "      border: none;\n",
              "      border-radius: 50%;\n",
              "      cursor: pointer;\n",
              "      display: none;\n",
              "      fill: #1967D2;\n",
              "      height: 32px;\n",
              "      padding: 0 0 0 0;\n",
              "      width: 32px;\n",
              "    }\n",
              "\n",
              "    .colab-df-convert:hover {\n",
              "      background-color: #E2EBFA;\n",
              "      box-shadow: 0px 1px 2px rgba(60, 64, 67, 0.3), 0px 1px 3px 1px rgba(60, 64, 67, 0.15);\n",
              "      fill: #174EA6;\n",
              "    }\n",
              "\n",
              "    .colab-df-buttons div {\n",
              "      margin-bottom: 4px;\n",
              "    }\n",
              "\n",
              "    [theme=dark] .colab-df-convert {\n",
              "      background-color: #3B4455;\n",
              "      fill: #D2E3FC;\n",
              "    }\n",
              "\n",
              "    [theme=dark] .colab-df-convert:hover {\n",
              "      background-color: #434B5C;\n",
              "      box-shadow: 0px 1px 3px 1px rgba(0, 0, 0, 0.15);\n",
              "      filter: drop-shadow(0px 1px 2px rgba(0, 0, 0, 0.3));\n",
              "      fill: #FFFFFF;\n",
              "    }\n",
              "  </style>\n",
              "\n",
              "    <script>\n",
              "      const buttonEl =\n",
              "        document.querySelector('#df-8ad6a1fa-c73c-4ceb-80c0-369cb791b16d button.colab-df-convert');\n",
              "      buttonEl.style.display =\n",
              "        google.colab.kernel.accessAllowed ? 'block' : 'none';\n",
              "\n",
              "      async function convertToInteractive(key) {\n",
              "        const element = document.querySelector('#df-8ad6a1fa-c73c-4ceb-80c0-369cb791b16d');\n",
              "        const dataTable =\n",
              "          await google.colab.kernel.invokeFunction('convertToInteractive',\n",
              "                                                    [key], {});\n",
              "        if (!dataTable) return;\n",
              "\n",
              "        const docLinkHtml = 'Like what you see? Visit the ' +\n",
              "          '<a target=\"_blank\" href=https://colab.research.google.com/notebooks/data_table.ipynb>data table notebook</a>'\n",
              "          + ' to learn more about interactive tables.';\n",
              "        element.innerHTML = '';\n",
              "        dataTable['output_type'] = 'display_data';\n",
              "        await google.colab.output.renderOutput(dataTable, element);\n",
              "        const docLink = document.createElement('div');\n",
              "        docLink.innerHTML = docLinkHtml;\n",
              "        element.appendChild(docLink);\n",
              "      }\n",
              "    </script>\n",
              "  </div>\n",
              "\n",
              "\n",
              "    <div id=\"df-71cd8fee-0241-4748-8fa6-69d8d61175ac\">\n",
              "      <button class=\"colab-df-quickchart\" onclick=\"quickchart('df-71cd8fee-0241-4748-8fa6-69d8d61175ac')\"\n",
              "                title=\"Suggest charts\"\n",
              "                style=\"display:none;\">\n",
              "\n",
              "<svg xmlns=\"http://www.w3.org/2000/svg\" height=\"24px\"viewBox=\"0 0 24 24\"\n",
              "     width=\"24px\">\n",
              "    <g>\n",
              "        <path d=\"M19 3H5c-1.1 0-2 .9-2 2v14c0 1.1.9 2 2 2h14c1.1 0 2-.9 2-2V5c0-1.1-.9-2-2-2zM9 17H7v-7h2v7zm4 0h-2V7h2v10zm4 0h-2v-4h2v4z\"/>\n",
              "    </g>\n",
              "</svg>\n",
              "      </button>\n",
              "\n",
              "<style>\n",
              "  .colab-df-quickchart {\n",
              "      --bg-color: #E8F0FE;\n",
              "      --fill-color: #1967D2;\n",
              "      --hover-bg-color: #E2EBFA;\n",
              "      --hover-fill-color: #174EA6;\n",
              "      --disabled-fill-color: #AAA;\n",
              "      --disabled-bg-color: #DDD;\n",
              "  }\n",
              "\n",
              "  [theme=dark] .colab-df-quickchart {\n",
              "      --bg-color: #3B4455;\n",
              "      --fill-color: #D2E3FC;\n",
              "      --hover-bg-color: #434B5C;\n",
              "      --hover-fill-color: #FFFFFF;\n",
              "      --disabled-bg-color: #3B4455;\n",
              "      --disabled-fill-color: #666;\n",
              "  }\n",
              "\n",
              "  .colab-df-quickchart {\n",
              "    background-color: var(--bg-color);\n",
              "    border: none;\n",
              "    border-radius: 50%;\n",
              "    cursor: pointer;\n",
              "    display: none;\n",
              "    fill: var(--fill-color);\n",
              "    height: 32px;\n",
              "    padding: 0;\n",
              "    width: 32px;\n",
              "  }\n",
              "\n",
              "  .colab-df-quickchart:hover {\n",
              "    background-color: var(--hover-bg-color);\n",
              "    box-shadow: 0 1px 2px rgba(60, 64, 67, 0.3), 0 1px 3px 1px rgba(60, 64, 67, 0.15);\n",
              "    fill: var(--button-hover-fill-color);\n",
              "  }\n",
              "\n",
              "  .colab-df-quickchart-complete:disabled,\n",
              "  .colab-df-quickchart-complete:disabled:hover {\n",
              "    background-color: var(--disabled-bg-color);\n",
              "    fill: var(--disabled-fill-color);\n",
              "    box-shadow: none;\n",
              "  }\n",
              "\n",
              "  .colab-df-spinner {\n",
              "    border: 2px solid var(--fill-color);\n",
              "    border-color: transparent;\n",
              "    border-bottom-color: var(--fill-color);\n",
              "    animation:\n",
              "      spin 1s steps(1) infinite;\n",
              "  }\n",
              "\n",
              "  @keyframes spin {\n",
              "    0% {\n",
              "      border-color: transparent;\n",
              "      border-bottom-color: var(--fill-color);\n",
              "      border-left-color: var(--fill-color);\n",
              "    }\n",
              "    20% {\n",
              "      border-color: transparent;\n",
              "      border-left-color: var(--fill-color);\n",
              "      border-top-color: var(--fill-color);\n",
              "    }\n",
              "    30% {\n",
              "      border-color: transparent;\n",
              "      border-left-color: var(--fill-color);\n",
              "      border-top-color: var(--fill-color);\n",
              "      border-right-color: var(--fill-color);\n",
              "    }\n",
              "    40% {\n",
              "      border-color: transparent;\n",
              "      border-right-color: var(--fill-color);\n",
              "      border-top-color: var(--fill-color);\n",
              "    }\n",
              "    60% {\n",
              "      border-color: transparent;\n",
              "      border-right-color: var(--fill-color);\n",
              "    }\n",
              "    80% {\n",
              "      border-color: transparent;\n",
              "      border-right-color: var(--fill-color);\n",
              "      border-bottom-color: var(--fill-color);\n",
              "    }\n",
              "    90% {\n",
              "      border-color: transparent;\n",
              "      border-bottom-color: var(--fill-color);\n",
              "    }\n",
              "  }\n",
              "</style>\n",
              "\n",
              "      <script>\n",
              "        async function quickchart(key) {\n",
              "          const quickchartButtonEl =\n",
              "            document.querySelector('#' + key + ' button');\n",
              "          quickchartButtonEl.disabled = true;  // To prevent multiple clicks.\n",
              "          quickchartButtonEl.classList.add('colab-df-spinner');\n",
              "          try {\n",
              "            const charts = await google.colab.kernel.invokeFunction(\n",
              "                'suggestCharts', [key], {});\n",
              "          } catch (error) {\n",
              "            console.error('Error during call to suggestCharts:', error);\n",
              "          }\n",
              "          quickchartButtonEl.classList.remove('colab-df-spinner');\n",
              "          quickchartButtonEl.classList.add('colab-df-quickchart-complete');\n",
              "        }\n",
              "        (() => {\n",
              "          let quickchartButtonEl =\n",
              "            document.querySelector('#df-71cd8fee-0241-4748-8fa6-69d8d61175ac button');\n",
              "          quickchartButtonEl.style.display =\n",
              "            google.colab.kernel.accessAllowed ? 'block' : 'none';\n",
              "        })();\n",
              "      </script>\n",
              "    </div>\n",
              "\n",
              "    </div>\n",
              "  </div>\n"
            ],
            "application/vnd.google.colaboratory.intrinsic+json": {
              "type": "dataframe",
              "variable_name": "df",
              "summary": "{\n  \"name\": \"df\",\n  \"rows\": 1000,\n  \"fields\": [\n    {\n      \"column\": \"Blood Status\",\n      \"properties\": {\n        \"dtype\": \"category\",\n        \"num_unique_values\": 3,\n        \"samples\": [\n          \"Half-blood\",\n          \"Muggle-born\",\n          \"Pure-blood\"\n        ],\n        \"semantic_type\": \"\",\n        \"description\": \"\"\n      }\n    },\n    {\n      \"column\": \"Bravery\",\n      \"properties\": {\n        \"dtype\": \"number\",\n        \"std\": 2,\n        \"min\": 1,\n        \"max\": 10,\n        \"num_unique_values\": 10,\n        \"samples\": [\n          10,\n          6,\n          2\n        ],\n        \"semantic_type\": \"\",\n        \"description\": \"\"\n      }\n    },\n    {\n      \"column\": \"Intelligence\",\n      \"properties\": {\n        \"dtype\": \"number\",\n        \"std\": 2,\n        \"min\": 1,\n        \"max\": 10,\n        \"num_unique_values\": 10,\n        \"samples\": [\n          7,\n          8,\n          2\n        ],\n        \"semantic_type\": \"\",\n        \"description\": \"\"\n      }\n    },\n    {\n      \"column\": \"Loyalty\",\n      \"properties\": {\n        \"dtype\": \"number\",\n        \"std\": 2,\n        \"min\": 1,\n        \"max\": 10,\n        \"num_unique_values\": 10,\n        \"samples\": [\n          10,\n          5,\n          4\n        ],\n        \"semantic_type\": \"\",\n        \"description\": \"\"\n      }\n    },\n    {\n      \"column\": \"Ambition\",\n      \"properties\": {\n        \"dtype\": \"number\",\n        \"std\": 2,\n        \"min\": 1,\n        \"max\": 10,\n        \"num_unique_values\": 10,\n        \"samples\": [\n          6,\n          7,\n          2\n        ],\n        \"semantic_type\": \"\",\n        \"description\": \"\"\n      }\n    },\n    {\n      \"column\": \"Dark Arts Knowledge\",\n      \"properties\": {\n        \"dtype\": \"number\",\n        \"std\": 3,\n        \"min\": 0,\n        \"max\": 10,\n        \"num_unique_values\": 10,\n        \"samples\": [\n          7,\n          5,\n          2\n        ],\n        \"semantic_type\": \"\",\n        \"description\": \"\"\n      }\n    },\n    {\n      \"column\": \"Quidditch Skills\",\n      \"properties\": {\n        \"dtype\": \"number\",\n        \"std\": 2,\n        \"min\": 0,\n        \"max\": 10,\n        \"num_unique_values\": 11,\n        \"samples\": [\n          7,\n          8,\n          0\n        ],\n        \"semantic_type\": \"\",\n        \"description\": \"\"\n      }\n    },\n    {\n      \"column\": \"Dueling Skills\",\n      \"properties\": {\n        \"dtype\": \"number\",\n        \"std\": 2,\n        \"min\": 1,\n        \"max\": 10,\n        \"num_unique_values\": 10,\n        \"samples\": [\n          1,\n          4,\n          3\n        ],\n        \"semantic_type\": \"\",\n        \"description\": \"\"\n      }\n    },\n    {\n      \"column\": \"Creativity\",\n      \"properties\": {\n        \"dtype\": \"number\",\n        \"std\": 2,\n        \"min\": 1,\n        \"max\": 10,\n        \"num_unique_values\": 10,\n        \"samples\": [\n          10,\n          9,\n          2\n        ],\n        \"semantic_type\": \"\",\n        \"description\": \"\"\n      }\n    },\n    {\n      \"column\": \"House\",\n      \"properties\": {\n        \"dtype\": \"category\",\n        \"num_unique_values\": 4,\n        \"samples\": [\n          \"Ravenclaw\",\n          \"Slytherin\",\n          \"Gryffindor\"\n        ],\n        \"semantic_type\": \"\",\n        \"description\": \"\"\n      }\n    }\n  ]\n}"
            }
          },
          "metadata": {},
          "execution_count": 4
        }
      ]
    },
    {
      "cell_type": "markdown",
      "source": [
        "### **Preparing the Data**"
      ],
      "metadata": {
        "id": "SXEWMNsrGiTA"
      }
    },
    {
      "cell_type": "markdown",
      "source": [
        " Define Features/Target"
      ],
      "metadata": {
        "id": "qNxBBgfl3e7R"
      }
    },
    {
      "cell_type": "code",
      "source": [
        "X = df.drop(\"House\", axis=1)\n",
        "y = df[\"House\"]"
      ],
      "metadata": {
        "id": "CA3SFn1_2RXG"
      },
      "execution_count": 5,
      "outputs": []
    },
    {
      "cell_type": "markdown",
      "source": [
        "Categorical features (CatBoost handles these directly)"
      ],
      "metadata": {
        "id": "hZ_g3Asr3mAY"
      }
    },
    {
      "cell_type": "code",
      "source": [
        "categorical_features = [\"Blood Status\"]"
      ],
      "metadata": {
        "id": "YDXG4Apl3a55"
      },
      "execution_count": 6,
      "outputs": []
    },
    {
      "cell_type": "code",
      "source": [
        "print(\"Features:\", list(X.columns))\n",
        "print(\"Target classes:\", list(y.unique()))"
      ],
      "metadata": {
        "colab": {
          "base_uri": "https://localhost:8080/"
        },
        "id": "UuUkAKOXGpAt",
        "outputId": "17c247f1-da05-477e-cb74-829700dd8a73"
      },
      "execution_count": 7,
      "outputs": [
        {
          "output_type": "stream",
          "name": "stdout",
          "text": [
            "Features: ['Blood Status', 'Bravery', 'Intelligence', 'Loyalty', 'Ambition', 'Dark Arts Knowledge', 'Quidditch Skills', 'Dueling Skills', 'Creativity']\n",
            "Target classes: ['Gryffindor', 'Ravenclaw', 'Hufflepuff', 'Slytherin']\n"
          ]
        }
      ]
    },
    {
      "cell_type": "markdown",
      "source": [
        "### **Training the First Model**"
      ],
      "metadata": {
        "id": "6uz3dFLjGyE8"
      }
    },
    {
      "cell_type": "markdown",
      "source": [
        "Train-test split"
      ],
      "metadata": {
        "id": "XSzKfFqX3tRz"
      }
    },
    {
      "cell_type": "code",
      "source": [
        "X_train, X_test, y_train, y_test= train_test_split(\n",
        "    X,y, test_size=0.3,random_state=42,stratify=y)"
      ],
      "metadata": {
        "id": "Tp05YgtO3uBq"
      },
      "execution_count": 8,
      "outputs": []
    },
    {
      "cell_type": "markdown",
      "source": [
        "Train CatBoost Model"
      ],
      "metadata": {
        "id": "C6wLHnHR4v-I"
      }
    },
    {
      "cell_type": "code",
      "source": [
        "model = CatBoostClassifier(\n",
        "    iterations=500,\n",
        "    depth=6,\n",
        "    learning_rate=0.1,\n",
        "    loss_function=\"MultiClass\",\n",
        "    verbose=100,\n",
        "    random_seed=42\n",
        ")"
      ],
      "metadata": {
        "id": "bmYBJeFW5OEE"
      },
      "execution_count": 9,
      "outputs": []
    },
    {
      "cell_type": "markdown",
      "source": [
        "Fit the model"
      ],
      "metadata": {
        "id": "esIYcWq-7sAQ"
      }
    },
    {
      "cell_type": "code",
      "source": [
        "model.fit(X_train, y_train, cat_features=categorical_features)"
      ],
      "metadata": {
        "colab": {
          "base_uri": "https://localhost:8080/"
        },
        "id": "nyIXumOo7tsf",
        "outputId": "f6e62b74-0f31-438f-f54f-3eba4a284b6c"
      },
      "execution_count": 10,
      "outputs": [
        {
          "output_type": "stream",
          "name": "stdout",
          "text": [
            "0:\tlearn: 1.1809873\ttotal: 72.7ms\tremaining: 36.3s\n",
            "100:\tlearn: 0.0152041\ttotal: 1.35s\tremaining: 5.33s\n",
            "200:\tlearn: 0.0066131\ttotal: 2.71s\tremaining: 4.03s\n",
            "300:\tlearn: 0.0041338\ttotal: 3.99s\tremaining: 2.64s\n",
            "400:\tlearn: 0.0029836\ttotal: 4.96s\tremaining: 1.23s\n",
            "499:\tlearn: 0.0023407\ttotal: 6.12s\tremaining: 0us\n"
          ]
        },
        {
          "output_type": "execute_result",
          "data": {
            "text/plain": [
              "<catboost.core.CatBoostClassifier at 0x7d8fd32c9bb0>"
            ]
          },
          "metadata": {},
          "execution_count": 10
        }
      ]
    },
    {
      "cell_type": "markdown",
      "source": [
        "### **Evaluate The Model**"
      ],
      "metadata": {
        "id": "Sy7775zJ70_6"
      }
    },
    {
      "cell_type": "code",
      "source": [
        "y_pred = model.predict(X_test)"
      ],
      "metadata": {
        "id": "KF7SfFN4YqQa"
      },
      "execution_count": 11,
      "outputs": []
    },
    {
      "cell_type": "code",
      "source": [
        "print(\"\\n Accuracy:\", accuracy_score(y_test, y_pred))\n",
        "print(\"\\n Classification Report:\\n\", classification_report(y_test, y_pred))"
      ],
      "metadata": {
        "colab": {
          "base_uri": "https://localhost:8080/"
        },
        "id": "kY9c_pGeZHFd",
        "outputId": "8049abd6-c8be-4d0d-ad46-82c0389e50f8"
      },
      "execution_count": 12,
      "outputs": [
        {
          "output_type": "stream",
          "name": "stdout",
          "text": [
            "\n",
            " Accuracy: 1.0\n",
            "\n",
            " Classification Report:\n",
            "               precision    recall  f1-score   support\n",
            "\n",
            "  Gryffindor       1.00      1.00      1.00        68\n",
            "  Hufflepuff       1.00      1.00      1.00        75\n",
            "   Ravenclaw       1.00      1.00      1.00        77\n",
            "   Slytherin       1.00      1.00      1.00        80\n",
            "\n",
            "    accuracy                           1.00       300\n",
            "   macro avg       1.00      1.00      1.00       300\n",
            "weighted avg       1.00      1.00      1.00       300\n",
            "\n"
          ]
        }
      ]
    },
    {
      "cell_type": "markdown",
      "source": [
        "Confusion Matrix"
      ],
      "metadata": {
        "id": "e8fk3Ctm7tN_"
      }
    },
    {
      "cell_type": "code",
      "source": [
        "cm = confusion_matrix(y_test, y_pred, labels=model.classes_)\n",
        "cm_percent = cm.astype('float') / cm.sum(axis=1)[:, np.newaxis] * 100\n",
        "\n",
        "plt.figure(figsize=(6, 5))\n",
        "sns.heatmap(cm_percent, annot=True, fmt=\".1f\", cmap=\"Blues\",\n",
        "            xticklabels=model.classes_, yticklabels=model.classes_)\n",
        "plt.title(\"Confusion Matrix\")\n",
        "plt.xlabel(\"Predicted\")\n",
        "plt.ylabel(\"Actual\")\n",
        "plt.show()"
      ],
      "metadata": {
        "colab": {
          "base_uri": "https://localhost:8080/",
          "height": 487
        },
        "id": "KiTf4OYHZYqP",
        "outputId": "5a0eef55-2b67-4eac-b0ac-3001337d8f37"
      },
      "execution_count": 13,
      "outputs": [
        {
          "output_type": "display_data",
          "data": {
            "text/plain": [
              "<Figure size 600x500 with 2 Axes>"
            ],
            "image/png": "[encoded data removed]"
          },
          "metadata": {}
        }
      ]
    },
    {
      "cell_type": "markdown",
      "source": [
        "Wait a minute... 100% accuracy?\n",
        "This looks suspicious! Let's investigate why our model performed too well:"
      ],
      "metadata": {
        "id": "LdEliIDUcWps"
      }
    },
    {
      "cell_type": "markdown",
      "source": [
        "**Analyze feature importance**"
      ],
      "metadata": {
        "id": "QkIPzTJVHWUR"
      }
    },
    {
      "cell_type": "code",
      "source": [
        "feature_importances = model.get_feature_importance()\n",
        "features = X.columns\n",
        "\n",
        "plt.figure(figsize=(8, 5))\n",
        "sns.barplot(\n",
        "    x=feature_importances,\n",
        "    y=features,\n",
        "    hue=features,\n",
        "    palette=\"viridis\",\n",
        "    legend=False\n",
        ")\n",
        "plt.title(\"Feature Importances from CatBoost\")\n",
        "plt.show()"
      ],
      "metadata": {
        "colab": {
          "base_uri": "https://localhost:8080/",
          "height": 468
        },
        "id": "1EnF70sQZugC",
        "outputId": "345b4151-9118-4809-9a75-cca78fece831"
      },
      "execution_count": 14,
      "outputs": [
        {
          "output_type": "display_data",
          "data": {
            "text/plain": [
              "<Figure size 800x500 with 1 Axes>"
            ],
            "image/png": "[encoded data removed]"
          },
          "metadata": {}
        }
      ]
    },
    {
      "cell_type": "markdown",
      "source": [
        "Check house-wise feature patterns"
      ],
      "metadata": {
        "id": "vcbJlKSiHebw"
      }
    },
    {
      "cell_type": "code",
      "source": [
        "df.groupby(\"House\")[df.select_dtypes(include=\"number\").columns].mean()"
      ],
      "metadata": {
        "colab": {
          "base_uri": "https://localhost:8080/",
          "height": 206
        },
        "id": "uuZrBj5XavGi",
        "outputId": "1ed5c947-5dbc-4834-ed70-9be91246c075"
      },
      "execution_count": 15,
      "outputs": [
        {
          "output_type": "execute_result",
          "data": {
            "text/plain": [
              "             Bravery  Intelligence   Loyalty  Ambition  Dark Arts Knowledge  \\\n",
              "House                                                                         \n",
              "Gryffindor  8.615044      4.318584  3.977876  3.880531             2.194690   \n",
              "Hufflepuff  3.844622      4.171315  8.509960  4.011952             2.470120   \n",
              "Ravenclaw   4.124031      8.546512  3.922481  3.844961             2.573643   \n",
              "Slytherin   3.962264      3.973585  4.083019  8.528302             8.528302   \n",
              "\n",
              "            Quidditch Skills  Dueling Skills  Creativity  \n",
              "House                                                     \n",
              "Gryffindor          7.460177        8.761062    4.084071  \n",
              "Hufflepuff          3.673307        3.860558    4.027888  \n",
              "Ravenclaw           3.604651        4.023256    8.635659  \n",
              "Slytherin           7.252830        8.437736    3.947170  "
            ],
            "text/html": [
              "\n",
              "  <div id=\"df-1a1a0c3b-300b-44fc-a7c0-00cd84f8a86b\" class=\"colab-df-container\">\n",
              "    <div>\n",
              "<style scoped>\n",
              "    .dataframe tbody tr th:only-of-type {\n",
              "        vertical-align: middle;\n",
              "    }\n",
              "\n",
              "    .dataframe tbody tr th {\n",
              "        vertical-align: top;\n",
              "    }\n",
              "\n",
              "    .dataframe thead th {\n",
              "        text-align: right;\n",
              "    }\n",
              "</style>\n",
              "<table border=\"1\" class=\"dataframe\">\n",
              "  <thead>\n",
              "    <tr style=\"text-align: right;\">\n",
              "      <th></th>\n",
              "      <th>Bravery</th>\n",
              "      <th>Intelligence</th>\n",
              "      <th>Loyalty</th>\n",
              "      <th>Ambition</th>\n",
              "      <th>Dark Arts Knowledge</th>\n",
              "      <th>Quidditch Skills</th>\n",
              "      <th>Dueling Skills</th>\n",
              "      <th>Creativity</th>\n",
              "    </tr>\n",
              "    <tr>\n",
              "      <th>House</th>\n",
              "      <th></th>\n",
              "      <th></th>\n",
              "      <th></th>\n",
              "      <th></th>\n",
              "      <th></th>\n",
              "      <th></th>\n",
              "      <th></th>\n",
              "      <th></th>\n",
              "    </tr>\n",
              "  </thead>\n",
              "  <tbody>\n",
              "    <tr>\n",
              "      <th>Gryffindor</th>\n",
              "      <td>8.615044</td>\n",
              "      <td>4.318584</td>\n",
              "      <td>3.977876</td>\n",
              "      <td>3.880531</td>\n",
              "      <td>2.194690</td>\n",
              "      <td>7.460177</td>\n",
              "      <td>8.761062</td>\n",
              "      <td>4.084071</td>\n",
              "    </tr>\n",
              "    <tr>\n",
              "      <th>Hufflepuff</th>\n",
              "      <td>3.844622</td>\n",
              "      <td>4.171315</td>\n",
              "      <td>8.509960</td>\n",
              "      <td>4.011952</td>\n",
              "      <td>2.470120</td>\n",
              "      <td>3.673307</td>\n",
              "      <td>3.860558</td>\n",
              "      <td>4.027888</td>\n",
              "    </tr>\n",
              "    <tr>\n",
              "      <th>Ravenclaw</th>\n",
              "      <td>4.124031</td>\n",
              "      <td>8.546512</td>\n",
              "      <td>3.922481</td>\n",
              "      <td>3.844961</td>\n",
              "      <td>2.573643</td>\n",
              "      <td>3.604651</td>\n",
              "      <td>4.023256</td>\n",
              "      <td>8.635659</td>\n",
              "    </tr>\n",
              "    <tr>\n",
              "      <th>Slytherin</th>\n",
              "      <td>3.962264</td>\n",
              "      <td>3.973585</td>\n",
              "      <td>4.083019</td>\n",
              "      <td>8.528302</td>\n",
              "      <td>8.528302</td>\n",
              "      <td>7.252830</td>\n",
              "      <td>8.437736</td>\n",
              "      <td>3.947170</td>\n",
              "    </tr>\n",
              "  </tbody>\n",
              "</table>\n",
              "</div>\n",
              "    <div class=\"colab-df-buttons\">\n",
              "\n",
              "  <div class=\"colab-df-container\">\n",
              "    <button class=\"colab-df-convert\" onclick=\"convertToInteractive('df-1a1a0c3b-300b-44fc-a7c0-00cd84f8a86b')\"\n",
              "            title=\"Convert this dataframe to an interactive table.\"\n",
              "            style=\"display:none;\">\n",
              "\n",
              "  <svg xmlns=\"http://www.w3.org/2000/svg\" height=\"24px\" viewBox=\"0 -960 960 960\">\n",
              "    <path d=\"M120-120v-720h720v720H120Zm60-500h600v-160H180v160Zm220 220h160v-160H400v160Zm0 220h160v-160H400v160ZM180-400h160v-160H180v160Zm440 0h160v-160H620v160ZM180-180h160v-160H180v160Zm440 0h160v-160H620v160Z\"/>\n",
              "  </svg>\n",
              "    </button>\n",
              "\n",
              "  <style>\n",
              "    .colab-df-container {\n",
              "      display:flex;\n",
              "      gap: 12px;\n",
              "    }\n",
              "\n",
              "    .colab-df-convert {\n",
              "      background-color: #E8F0FE;\n",
              "      border: none;\n",
              "      border-radius: 50%;\n",
              "      cursor: pointer;\n",
              "      display: none;\n",
              "      fill: #1967D2;\n",
              "      height: 32px;\n",
              "      padding: 0 0 0 0;\n",
              "      width: 32px;\n",
              "    }\n",
              "\n",
              "    .colab-df-convert:hover {\n",
              "      background-color: #E2EBFA;\n",
              "      box-shadow: 0px 1px 2px rgba(60, 64, 67, 0.3), 0px 1px 3px 1px rgba(60, 64, 67, 0.15);\n",
              "      fill: #174EA6;\n",
              "    }\n",
              "\n",
              "    .colab-df-buttons div {\n",
              "      margin-bottom: 4px;\n",
              "    }\n",
              "\n",
              "    [theme=dark] .colab-df-convert {\n",
              "      background-color: #3B4455;\n",
              "      fill: #D2E3FC;\n",
              "    }\n",
              "\n",
              "    [theme=dark] .colab-df-convert:hover {\n",
              "      background-color: #434B5C;\n",
              "      box-shadow: 0px 1px 3px 1px rgba(0, 0, 0, 0.15);\n",
              "      filter: drop-shadow(0px 1px 2px rgba(0, 0, 0, 0.3));\n",
              "      fill: #FFFFFF;\n",
              "    }\n",
              "  </style>\n",
              "\n",
              "    <script>\n",
              "      const buttonEl =\n",
              "        document.querySelector('#df-1a1a0c3b-300b-44fc-a7c0-00cd84f8a86b button.colab-df-convert');\n",
              "      buttonEl.style.display =\n",
              "        google.colab.kernel.accessAllowed ? 'block' : 'none';\n",
              "\n",
              "      async function convertToInteractive(key) {\n",
              "        const element = document.querySelector('#df-1a1a0c3b-300b-44fc-a7c0-00cd84f8a86b');\n",
              "        const dataTable =\n",
              "          await google.colab.kernel.invokeFunction('convertToInteractive',\n",
              "                                                    [key], {});\n",
              "        if (!dataTable) return;\n",
              "\n",
              "        const docLinkHtml = 'Like what you see? Visit the ' +\n",
              "          '<a target=\"_blank\" href=https://colab.research.google.com/notebooks/data_table.ipynb>data table notebook</a>'\n",
              "          + ' to learn more about interactive tables.';\n",
              "        element.innerHTML = '';\n",
              "        dataTable['output_type'] = 'display_data';\n",
              "        await google.colab.output.renderOutput(dataTable, element);\n",
              "        const docLink = document.createElement('div');\n",
              "        docLink.innerHTML = docLinkHtml;\n",
              "        element.appendChild(docLink);\n",
              "      }\n",
              "    </script>\n",
              "  </div>\n",
              "\n",
              "\n",
              "    <div id=\"df-caad681f-91ae-4619-932c-95fd7fceaab5\">\n",
              "      <button class=\"colab-df-quickchart\" onclick=\"quickchart('df-caad681f-91ae-4619-932c-95fd7fceaab5')\"\n",
              "                title=\"Suggest charts\"\n",
              "                style=\"display:none;\">\n",
              "\n",
              "<svg xmlns=\"http://www.w3.org/2000/svg\" height=\"24px\"viewBox=\"0 0 24 24\"\n",
              "     width=\"24px\">\n",
              "    <g>\n",
              "        <path d=\"M19 3H5c-1.1 0-2 .9-2 2v14c0 1.1.9 2 2 2h14c1.1 0 2-.9 2-2V5c0-1.1-.9-2-2-2zM9 17H7v-7h2v7zm4 0h-2V7h2v10zm4 0h-2v-4h2v4z\"/>\n",
              "    </g>\n",
              "</svg>\n",
              "      </button>\n",
              "\n",
              "<style>\n",
              "  .colab-df-quickchart {\n",
              "      --bg-color: #E8F0FE;\n",
              "      --fill-color: #1967D2;\n",
              "      --hover-bg-color: #E2EBFA;\n",
              "      --hover-fill-color: #174EA6;\n",
              "      --disabled-fill-color: #AAA;\n",
              "      --disabled-bg-color: #DDD;\n",
              "  }\n",
              "\n",
              "  [theme=dark] .colab-df-quickchart {\n",
              "      --bg-color: #3B4455;\n",
              "      --fill-color: #D2E3FC;\n",
              "      --hover-bg-color: #434B5C;\n",
              "      --hover-fill-color: #FFFFFF;\n",
              "      --disabled-bg-color: #3B4455;\n",
              "      --disabled-fill-color: #666;\n",
              "  }\n",
              "\n",
              "  .colab-df-quickchart {\n",
              "    background-color: var(--bg-color);\n",
              "    border: none;\n",
              "    border-radius: 50%;\n",
              "    cursor: pointer;\n",
              "    display: none;\n",
              "    fill: var(--fill-color);\n",
              "    height: 32px;\n",
              "    padding: 0;\n",
              "    width: 32px;\n",
              "  }\n",
              "\n",
              "  .colab-df-quickchart:hover {\n",
              "    background-color: var(--hover-bg-color);\n",
              "    box-shadow: 0 1px 2px rgba(60, 64, 67, 0.3), 0 1px 3px 1px rgba(60, 64, 67, 0.15);\n",
              "    fill: var(--button-hover-fill-color);\n",
              "  }\n",
              "\n",
              "  .colab-df-quickchart-complete:disabled,\n",
              "  .colab-df-quickchart-complete:disabled:hover {\n",
              "    background-color: var(--disabled-bg-color);\n",
              "    fill: var(--disabled-fill-color);\n",
              "    box-shadow: none;\n",
              "  }\n",
              "\n",
              "  .colab-df-spinner {\n",
              "    border: 2px solid var(--fill-color);\n",
              "    border-color: transparent;\n",
              "    border-bottom-color: var(--fill-color);\n",
              "    animation:\n",
              "      spin 1s steps(1) infinite;\n",
              "  }\n",
              "\n",
              "  @keyframes spin {\n",
              "    0% {\n",
              "      border-color: transparent;\n",
              "      border-bottom-color: var(--fill-color);\n",
              "      border-left-color: var(--fill-color);\n",
              "    }\n",
              "    20% {\n",
              "      border-color: transparent;\n",
              "      border-left-color: var(--fill-color);\n",
              "      border-top-color: var(--fill-color);\n",
              "    }\n",
              "    30% {\n",
              "      border-color: transparent;\n",
              "      border-left-color: var(--fill-color);\n",
              "      border-top-color: var(--fill-color);\n",
              "      border-right-color: var(--fill-color);\n",
              "    }\n",
              "    40% {\n",
              "      border-color: transparent;\n",
              "      border-right-color: var(--fill-color);\n",
              "      border-top-color: var(--fill-color);\n",
              "    }\n",
              "    60% {\n",
              "      border-color: transparent;\n",
              "      border-right-color: var(--fill-color);\n",
              "    }\n",
              "    80% {\n",
              "      border-color: transparent;\n",
              "      border-right-color: var(--fill-color);\n",
              "      border-bottom-color: var(--fill-color);\n",
              "    }\n",
              "    90% {\n",
              "      border-color: transparent;\n",
              "      border-bottom-color: var(--fill-color);\n",
              "    }\n",
              "  }\n",
              "</style>\n",
              "\n",
              "      <script>\n",
              "        async function quickchart(key) {\n",
              "          const quickchartButtonEl =\n",
              "            document.querySelector('#' + key + ' button');\n",
              "          quickchartButtonEl.disabled = true;  // To prevent multiple clicks.\n",
              "          quickchartButtonEl.classList.add('colab-df-spinner');\n",
              "          try {\n",
              "            const charts = await google.colab.kernel.invokeFunction(\n",
              "                'suggestCharts', [key], {});\n",
              "          } catch (error) {\n",
              "            console.error('Error during call to suggestCharts:', error);\n",
              "          }\n",
              "          quickchartButtonEl.classList.remove('colab-df-spinner');\n",
              "          quickchartButtonEl.classList.add('colab-df-quickchart-complete');\n",
              "        }\n",
              "        (() => {\n",
              "          let quickchartButtonEl =\n",
              "            document.querySelector('#df-caad681f-91ae-4619-932c-95fd7fceaab5 button');\n",
              "          quickchartButtonEl.style.display =\n",
              "            google.colab.kernel.accessAllowed ? 'block' : 'none';\n",
              "        })();\n",
              "      </script>\n",
              "    </div>\n",
              "\n",
              "    </div>\n",
              "  </div>\n"
            ],
            "application/vnd.google.colaboratory.intrinsic+json": {
              "type": "dataframe",
              "summary": "{\n  \"name\": \"df\",\n  \"rows\": 4,\n  \"fields\": [\n    {\n      \"column\": \"House\",\n      \"properties\": {\n        \"dtype\": \"string\",\n        \"num_unique_values\": 4,\n        \"samples\": [\n          \"Hufflepuff\",\n          \"Slytherin\",\n          \"Gryffindor\"\n        ],\n        \"semantic_type\": \"\",\n        \"description\": \"\"\n      }\n    },\n    {\n      \"column\": \"Bravery\",\n      \"properties\": {\n        \"dtype\": \"number\",\n        \"std\": 2.321863001675,\n        \"min\": 3.8446215139442232,\n        \"max\": 8.61504424778761,\n        \"num_unique_values\": 4,\n        \"samples\": [\n          3.8446215139442232,\n          3.9622641509433962,\n          8.61504424778761\n        ],\n        \"semantic_type\": \"\",\n        \"description\": \"\"\n      }\n    },\n    {\n      \"column\": \"Intelligence\",\n      \"properties\": {\n        \"dtype\": \"number\",\n        \"std\": 2.2005527298334355,\n        \"min\": 3.973584905660377,\n        \"max\": 8.546511627906977,\n        \"num_unique_values\": 4,\n        \"samples\": [\n          4.171314741035856,\n          3.973584905660377,\n          4.31858407079646\n        ],\n        \"semantic_type\": \"\",\n        \"description\": \"\"\n      }\n    },\n    {\n      \"column\": \"Loyalty\",\n      \"properties\": {\n        \"dtype\": \"number\",\n        \"std\": 2.2587323099229715,\n        \"min\": 3.9224806201550386,\n        \"max\": 8.50996015936255,\n        \"num_unique_values\": 4,\n        \"samples\": [\n          8.50996015936255,\n          4.083018867924529,\n          3.97787610619469\n        ],\n        \"semantic_type\": \"\",\n        \"description\": \"\"\n      }\n    },\n    {\n      \"column\": \"Ambition\",\n      \"properties\": {\n        \"dtype\": \"number\",\n        \"std\": 2.309027417307726,\n        \"min\": 3.8449612403100777,\n        \"max\": 8.528301886792454,\n        \"num_unique_values\": 4,\n        \"samples\": [\n          4.01195219123506,\n          8.528301886792454,\n          3.8805309734513274\n        ],\n        \"semantic_type\": \"\",\n        \"description\": \"\"\n      }\n    },\n    {\n      \"column\": \"Dark Arts Knowledge\",\n      \"properties\": {\n        \"dtype\": \"number\",\n        \"std\": 3.061921391028074,\n        \"min\": 2.1946902654867255,\n        \"max\": 8.528301886792454,\n        \"num_unique_values\": 4,\n        \"samples\": [\n          2.4701195219123506,\n          8.528301886792454,\n          2.1946902654867255\n        ],\n        \"semantic_type\": \"\",\n        \"description\": \"\"\n      }\n    },\n    {\n      \"column\": \"Quidditch Skills\",\n      \"properties\": {\n        \"dtype\": \"number\",\n        \"std\": 2.148165299374458,\n        \"min\": 3.604651162790698,\n        \"max\": 7.460176991150442,\n        \"num_unique_values\": 4,\n        \"samples\": [\n          3.6733067729083664,\n          7.252830188679245,\n          7.460176991150442\n        ],\n        \"semantic_type\": \"\",\n        \"description\": \"\"\n      }\n    },\n    {\n      \"column\": \"Dueling Skills\",\n      \"properties\": {\n        \"dtype\": \"number\",\n        \"std\": 2.693061326953125,\n        \"min\": 3.860557768924303,\n        \"max\": 8.761061946902656,\n        \"num_unique_values\": 4,\n        \"samples\": [\n          3.860557768924303,\n          8.437735849056605,\n          8.761061946902656\n        ],\n        \"semantic_type\": \"\",\n        \"description\": \"\"\n      }\n    },\n    {\n      \"column\": \"Creativity\",\n      \"properties\": {\n        \"dtype\": \"number\",\n        \"std\": 2.3086584667990233,\n        \"min\": 3.9471698113207547,\n        \"max\": 8.635658914728682,\n        \"num_unique_values\": 4,\n        \"samples\": [\n          4.027888446215139,\n          3.9471698113207547,\n          4.084070796460177\n        ],\n        \"semantic_type\": \"\",\n        \"description\": \"\"\n      }\n    }\n  ]\n}"
            }
          },
          "metadata": {},
          "execution_count": 15
        }
      ]
    },
    {
      "cell_type": "markdown",
      "source": [
        "\n",
        "### **The Revelation: What the Model Really Learned**\n",
        "The feature importance analysis has uncovered the smoking gun! Here’s the truth behind the Sorting Hat predictions:\n",
        "\n",
        "**The “Lookup Table” Pattern**\n",
        "\n",
        "| Trait               | Importance | What it Means                     |\n",
        "| ------------------- | ---------- | --------------------------------- |\n",
        "| Dark Arts Knowledge | \\~28       | If high → must be **Slytherin**   |\n",
        "| Creativity          | \\~18       | If high → likely **Ravenclaw**    |\n",
        "| Loyalty             | \\~14       | If high → probably **Hufflepuff** |\n",
        "| Bravery             | \\~7        | If high → Gryffindor              |\n",
        "\n",
        "\n",
        "**House-wise Feature Patterns**\n",
        "\n",
        "| House      | Dominant Traits                           |\n",
        "| ---------- | ----------------------------------------- |\n",
        "| Gryffindor | Bravery (8.6), Dueling Skills (8.8)       |\n",
        "| Hufflepuff | Loyalty (8.5)                             |\n",
        "| Ravenclaw  | Intelligence (8.5), Creativity (8.6)      |\n",
        "| Slytherin  | Ambition (8.5), Dark Arts Knowledge (8.5) |\n",
        "\n",
        "\n",
        "**The Problem**\n",
        "The dataset is **too cleanly separated**. Each house has a single dominant “signature” trait with zero overlap. The model **didn’t learn complex patterns** , it memorized a simple lookup table:\n",
        "\n",
        "   \n",
        "    IF Dark Arts Knowledge > 7 → Slytherin\n",
        "    ELIF Creativity > 7 → Ravenclaw\n",
        "    ELIF Loyalty > 7 → Hufflepuff\n",
        "    ELSE → Gryffindor\n",
        "   \n",
        "\n",
        "\n",
        "Reality Check: This isn’t realistic! In the real world - or even in the Harry Potter universe - people have **complex, overlapping personalities**. A brave Ravenclaw or a creative Slytherin should be possible!\n"
      ],
      "metadata": {
        "id": "ZuHKkVVdcnWx"
      }
    },
    {
      "cell_type": "markdown",
      "source": [
        "## **Part 2: Creating a Realistic Dataset**"
      ],
      "metadata": {
        "id": "C0u67gM8-ECx"
      }
    },
    {
      "cell_type": "markdown",
      "source": [
        "Let’s create 1000 new students with random values, making them realistic but varied so the model doesn’t just memorize patterns"
      ],
      "metadata": {
        "id": "FKJDdWp_dpLV"
      }
    },
    {
      "cell_type": "code",
      "source": [
        "n_students = 1000\n",
        "houses = [\"Gryffindor\", \"Hufflepuff\", \"Ravenclaw\", \"Slytherin\"]\n",
        "students = []\n",
        "\n",
        "for house in houses:\n",
        "        for _ in range(n_students // 4):\n",
        "            if house == \"Gryffindor\":\n",
        "                # Gryffindors tend to be brave but can have other strong traits too\n",
        "                bravery = np.random.randint(6, 10)\n",
        "                intelligence = np.random.randint(4, 8)\n",
        "                loyalty = np.random.randint(3, 7)\n",
        "                ambition = np.random.randint(3, 7)\n",
        "                dark_arts = np.random.randint(1, 5)\n",
        "            elif house == \"Hufflepuff\":\n",
        "                # Hufflepuffs are loyal but not exclusively so\n",
        "                bravery = np.random.randint(3, 7)\n",
        "                intelligence = np.random.randint(4, 8)\n",
        "                loyalty = np.random.randint(6, 10)\n",
        "                ambition = np.random.randint(3, 7)\n",
        "                dark_arts = np.random.randint(1, 5)\n",
        "            elif house == \"Ravenclaw\":\n",
        "                # Ravenclaws are intelligent and creative\n",
        "                bravery = np.random.randint(3, 7)\n",
        "                intelligence = np.random.randint(6, 10)\n",
        "                loyalty = np.random.randint(3, 7)\n",
        "                ambition = np.random.randint(3, 7)\n",
        "                dark_arts = np.random.randint(1, 5)\n",
        "            elif house == \"Slytherin\":\n",
        "                # Slytherins are ambitious with dark arts knowledge\n",
        "                bravery = np.random.randint(3, 7)\n",
        "                intelligence = np.random.randint(4, 8)\n",
        "                loyalty = np.random.randint(3, 7)\n",
        "                ambition = np.random.randint(6, 10)\n",
        "                dark_arts = np.random.randint(5, 9)\n",
        "\n",
        "            students.append({\n",
        "                \"House\": house,\n",
        "                \"Bravery\": bravery,\n",
        "                \"Intelligence\": intelligence,\n",
        "                \"Loyalty\": loyalty,\n",
        "                \"Ambition\": ambition,\n",
        "                \"Dark Arts Knowledge\": dark_arts,\n",
        "                \"Quidditch Skills\": np.random.randint(3, 9),\n",
        "                \"Dueling Skills\": np.random.randint(3, 9),\n",
        "                \"Creativity\": np.random.randint(3, 9),\n",
        "                \"Blood Status\": np.random.choice([\"Muggle-born\", \"Half-blood\", \"Pure-blood\"])\n",
        "            })\n",
        "\n",
        "df_new = pd.DataFrame(students)\n",
        "df_new = df_new.sample(frac=1, random_state=42).reset_index(drop=True)\n",
        "\n"
      ],
      "metadata": {
        "id": "b3TPbQwDezve"
      },
      "execution_count": 16,
      "outputs": []
    },
    {
      "cell_type": "markdown",
      "source": [
        "Now we can append it to our original Kaggle dataset"
      ],
      "metadata": {
        "id": "OuaPCtMReBXv"
      }
    },
    {
      "cell_type": "code",
      "source": [
        "df_combined = pd.concat([df, df_new], ignore_index=True)\n",
        "\n",
        "# Shuffle the combined dataset to mix old and new students\n",
        "df_combined = df_combined.sample(frac=1, random_state=42).reset_index(drop=True)"
      ],
      "metadata": {
        "id": "ww8o8YmmeGhz"
      },
      "execution_count": 17,
      "outputs": []
    },
    {
      "cell_type": "markdown",
      "source": [
        "Adding Noise for Realism"
      ],
      "metadata": {
        "id": "XDfrPbJ2JY9I"
      }
    },
    {
      "cell_type": "code",
      "source": [
        "numeric_cols = [\"Bravery\", \"Intelligence\", \"Loyalty\", \"Ambition\", \"Dark Arts Knowledge\",\n",
        "                \"Quidditch Skills\", \"Dueling Skills\", \"Creativity\"]\n",
        "\n",
        "# Add Gaussian noise\n",
        "for col in numeric_cols:\n",
        "    df_combined[col] += np.random.normal(0, 0.5, size=len(df_combined))\n",
        "\n",
        "# Clip values to 1-10\n",
        "df_combined[numeric_cols] = df_combined[numeric_cols].clip(1, 10)\n"
      ],
      "metadata": {
        "id": "WK3uyqcPe1in"
      },
      "execution_count": 18,
      "outputs": []
    },
    {
      "cell_type": "code",
      "source": [
        "\n",
        "print(f\"Combined dataset shape: {df_combined.shape}\")\n",
        "df_combined.head()\n",
        "\n"
      ],
      "metadata": {
        "colab": {
          "base_uri": "https://localhost:8080/",
          "height": 224
        },
        "id": "rbhVn_nue6cd",
        "outputId": "9028705c-1a76-4abf-b24e-bd98d13b8157"
      },
      "execution_count": 19,
      "outputs": [
        {
          "output_type": "stream",
          "name": "stdout",
          "text": [
            "Combined dataset shape: (2000, 10)\n"
          ]
        },
        {
          "output_type": "execute_result",
          "data": {
            "text/plain": [
              "  Blood Status   Bravery  Intelligence    Loyalty  Ambition  \\\n",
              "0   Half-blood  4.951516      6.496279   8.079922  3.003170   \n",
              "1   Pure-blood  6.089425      6.459825   2.288046  5.646857   \n",
              "2  Muggle-born  5.503146      6.303798   5.692137  2.447359   \n",
              "3  Muggle-born  5.910979      4.882041  10.000000  2.850105   \n",
              "4   Half-blood  3.376133      4.022795   3.657450  5.711036   \n",
              "\n",
              "   Dark Arts Knowledge  Quidditch Skills  Dueling Skills  Creativity  \\\n",
              "0             1.000000          5.643071        6.059278    8.770122   \n",
              "1             1.000000          2.061428        6.129046    8.781246   \n",
              "2             3.218745          3.788976        5.694673    2.951987   \n",
              "3             2.201956          7.226824        1.013613    6.868090   \n",
              "4             8.211117          4.299449        5.531662    6.042867   \n",
              "\n",
              "        House  \n",
              "0  Hufflepuff  \n",
              "1   Ravenclaw  \n",
              "2   Ravenclaw  \n",
              "3  Hufflepuff  \n",
              "4   Slytherin  "
            ],
            "text/html": [
              "\n",
              "  <div id=\"df-62f2c065-3a3d-45a8-8cd8-238dc239e8a0\" class=\"colab-df-container\">\n",
              "    <div>\n",
              "<style scoped>\n",
              "    .dataframe tbody tr th:only-of-type {\n",
              "        vertical-align: middle;\n",
              "    }\n",
              "\n",
              "    .dataframe tbody tr th {\n",
              "        vertical-align: top;\n",
              "    }\n",
              "\n",
              "    .dataframe thead th {\n",
              "        text-align: right;\n",
              "    }\n",
              "</style>\n",
              "<table border=\"1\" class=\"dataframe\">\n",
              "  <thead>\n",
              "    <tr style=\"text-align: right;\">\n",
              "      <th></th>\n",
              "      <th>Blood Status</th>\n",
              "      <th>Bravery</th>\n",
              "      <th>Intelligence</th>\n",
              "      <th>Loyalty</th>\n",
              "      <th>Ambition</th>\n",
              "      <th>Dark Arts Knowledge</th>\n",
              "      <th>Quidditch Skills</th>\n",
              "      <th>Dueling Skills</th>\n",
              "      <th>Creativity</th>\n",
              "      <th>House</th>\n",
              "    </tr>\n",
              "  </thead>\n",
              "  <tbody>\n",
              "    <tr>\n",
              "      <th>0</th>\n",
              "      <td>Half-blood</td>\n",
              "      <td>4.951516</td>\n",
              "      <td>6.496279</td>\n",
              "      <td>8.079922</td>\n",
              "      <td>3.003170</td>\n",
              "      <td>1.000000</td>\n",
              "      <td>5.643071</td>\n",
              "      <td>6.059278</td>\n",
              "      <td>8.770122</td>\n",
              "      <td>Hufflepuff</td>\n",
              "    </tr>\n",
              "    <tr>\n",
              "      <th>1</th>\n",
              "      <td>Pure-blood</td>\n",
              "      <td>6.089425</td>\n",
              "      <td>6.459825</td>\n",
              "      <td>2.288046</td>\n",
              "      <td>5.646857</td>\n",
              "      <td>1.000000</td>\n",
              "      <td>2.061428</td>\n",
              "      <td>6.129046</td>\n",
              "      <td>8.781246</td>\n",
              "      <td>Ravenclaw</td>\n",
              "    </tr>\n",
              "    <tr>\n",
              "      <th>2</th>\n",
              "      <td>Muggle-born</td>\n",
              "      <td>5.503146</td>\n",
              "      <td>6.303798</td>\n",
              "      <td>5.692137</td>\n",
              "      <td>2.447359</td>\n",
              "      <td>3.218745</td>\n",
              "      <td>3.788976</td>\n",
              "      <td>5.694673</td>\n",
              "      <td>2.951987</td>\n",
              "      <td>Ravenclaw</td>\n",
              "    </tr>\n",
              "    <tr>\n",
              "      <th>3</th>\n",
              "      <td>Muggle-born</td>\n",
              "      <td>5.910979</td>\n",
              "      <td>4.882041</td>\n",
              "      <td>10.000000</td>\n",
              "      <td>2.850105</td>\n",
              "      <td>2.201956</td>\n",
              "      <td>7.226824</td>\n",
              "      <td>1.013613</td>\n",
              "      <td>6.868090</td>\n",
              "      <td>Hufflepuff</td>\n",
              "    </tr>\n",
              "    <tr>\n",
              "      <th>4</th>\n",
              "      <td>Half-blood</td>\n",
              "      <td>3.376133</td>\n",
              "      <td>4.022795</td>\n",
              "      <td>3.657450</td>\n",
              "      <td>5.711036</td>\n",
              "      <td>8.211117</td>\n",
              "      <td>4.299449</td>\n",
              "      <td>5.531662</td>\n",
              "      <td>6.042867</td>\n",
              "      <td>Slytherin</td>\n",
              "    </tr>\n",
              "  </tbody>\n",
              "</table>\n",
              "</div>\n",
              "    <div class=\"colab-df-buttons\">\n",
              "\n",
              "  <div class=\"colab-df-container\">\n",
              "    <button class=\"colab-df-convert\" onclick=\"convertToInteractive('df-62f2c065-3a3d-45a8-8cd8-238dc239e8a0')\"\n",
              "            title=\"Convert this dataframe to an interactive table.\"\n",
              "            style=\"display:none;\">\n",
              "\n",
              "  <svg xmlns=\"http://www.w3.org/2000/svg\" height=\"24px\" viewBox=\"0 -960 960 960\">\n",
              "    <path d=\"M120-120v-720h720v720H120Zm60-500h600v-160H180v160Zm220 220h160v-160H400v160Zm0 220h160v-160H400v160ZM180-400h160v-160H180v160Zm440 0h160v-160H620v160ZM180-180h160v-160H180v160Zm440 0h160v-160H620v160Z\"/>\n",
              "  </svg>\n",
              "    </button>\n",
              "\n",
              "  <style>\n",
              "    .colab-df-container {\n",
              "      display:flex;\n",
              "      gap: 12px;\n",
              "    }\n",
              "\n",
              "    .colab-df-convert {\n",
              "      background-color: #E8F0FE;\n",
              "      border: none;\n",
              "      border-radius: 50%;\n",
              "      cursor: pointer;\n",
              "      display: none;\n",
              "      fill: #1967D2;\n",
              "      height: 32px;\n",
              "      padding: 0 0 0 0;\n",
              "      width: 32px;\n",
              "    }\n",
              "\n",
              "    .colab-df-convert:hover {\n",
              "      background-color: #E2EBFA;\n",
              "      box-shadow: 0px 1px 2px rgba(60, 64, 67, 0.3), 0px 1px 3px 1px rgba(60, 64, 67, 0.15);\n",
              "      fill: #174EA6;\n",
              "    }\n",
              "\n",
              "    .colab-df-buttons div {\n",
              "      margin-bottom: 4px;\n",
              "    }\n",
              "\n",
              "    [theme=dark] .colab-df-convert {\n",
              "      background-color: #3B4455;\n",
              "      fill: #D2E3FC;\n",
              "    }\n",
              "\n",
              "    [theme=dark] .colab-df-convert:hover {\n",
              "      background-color: #434B5C;\n",
              "      box-shadow: 0px 1px 3px 1px rgba(0, 0, 0, 0.15);\n",
              "      filter: drop-shadow(0px 1px 2px rgba(0, 0, 0, 0.3));\n",
              "      fill: #FFFFFF;\n",
              "    }\n",
              "  </style>\n",
              "\n",
              "    <script>\n",
              "      const buttonEl =\n",
              "        document.querySelector('#df-62f2c065-3a3d-45a8-8cd8-238dc239e8a0 button.colab-df-convert');\n",
              "      buttonEl.style.display =\n",
              "        google.colab.kernel.accessAllowed ? 'block' : 'none';\n",
              "\n",
              "      async function convertToInteractive(key) {\n",
              "        const element = document.querySelector('#df-62f2c065-3a3d-45a8-8cd8-238dc239e8a0');\n",
              "        const dataTable =\n",
              "          await google.colab.kernel.invokeFunction('convertToInteractive',\n",
              "                                                    [key], {});\n",
              "        if (!dataTable) return;\n",
              "\n",
              "        const docLinkHtml = 'Like what you see? Visit the ' +\n",
              "          '<a target=\"_blank\" href=https://colab.research.google.com/notebooks/data_table.ipynb>data table notebook</a>'\n",
              "          + ' to learn more about interactive tables.';\n",
              "        element.innerHTML = '';\n",
              "        dataTable['output_type'] = 'display_data';\n",
              "        await google.colab.output.renderOutput(dataTable, element);\n",
              "        const docLink = document.createElement('div');\n",
              "        docLink.innerHTML = docLinkHtml;\n",
              "        element.appendChild(docLink);\n",
              "      }\n",
              "    </script>\n",
              "  </div>\n",
              "\n",
              "\n",
              "    <div id=\"df-ea73324b-ec0d-4993-b7b1-494e523482cb\">\n",
              "      <button class=\"colab-df-quickchart\" onclick=\"quickchart('df-ea73324b-ec0d-4993-b7b1-494e523482cb')\"\n",
              "                title=\"Suggest charts\"\n",
              "                style=\"display:none;\">\n",
              "\n",
              "<svg xmlns=\"http://www.w3.org/2000/svg\" height=\"24px\"viewBox=\"0 0 24 24\"\n",
              "     width=\"24px\">\n",
              "    <g>\n",
              "        <path d=\"M19 3H5c-1.1 0-2 .9-2 2v14c0 1.1.9 2 2 2h14c1.1 0 2-.9 2-2V5c0-1.1-.9-2-2-2zM9 17H7v-7h2v7zm4 0h-2V7h2v10zm4 0h-2v-4h2v4z\"/>\n",
              "    </g>\n",
              "</svg>\n",
              "      </button>\n",
              "\n",
              "<style>\n",
              "  .colab-df-quickchart {\n",
              "      --bg-color: #E8F0FE;\n",
              "      --fill-color: #1967D2;\n",
              "      --hover-bg-color: #E2EBFA;\n",
              "      --hover-fill-color: #174EA6;\n",
              "      --disabled-fill-color: #AAA;\n",
              "      --disabled-bg-color: #DDD;\n",
              "  }\n",
              "\n",
              "  [theme=dark] .colab-df-quickchart {\n",
              "      --bg-color: #3B4455;\n",
              "      --fill-color: #D2E3FC;\n",
              "      --hover-bg-color: #434B5C;\n",
              "      --hover-fill-color: #FFFFFF;\n",
              "      --disabled-bg-color: #3B4455;\n",
              "      --disabled-fill-color: #666;\n",
              "  }\n",
              "\n",
              "  .colab-df-quickchart {\n",
              "    background-color: var(--bg-color);\n",
              "    border: none;\n",
              "    border-radius: 50%;\n",
              "    cursor: pointer;\n",
              "    display: none;\n",
              "    fill: var(--fill-color);\n",
              "    height: 32px;\n",
              "    padding: 0;\n",
              "    width: 32px;\n",
              "  }\n",
              "\n",
              "  .colab-df-quickchart:hover {\n",
              "    background-color: var(--hover-bg-color);\n",
              "    box-shadow: 0 1px 2px rgba(60, 64, 67, 0.3), 0 1px 3px 1px rgba(60, 64, 67, 0.15);\n",
              "    fill: var(--button-hover-fill-color);\n",
              "  }\n",
              "\n",
              "  .colab-df-quickchart-complete:disabled,\n",
              "  .colab-df-quickchart-complete:disabled:hover {\n",
              "    background-color: var(--disabled-bg-color);\n",
              "    fill: var(--disabled-fill-color);\n",
              "    box-shadow: none;\n",
              "  }\n",
              "\n",
              "  .colab-df-spinner {\n",
              "    border: 2px solid var(--fill-color);\n",
              "    border-color: transparent;\n",
              "    border-bottom-color: var(--fill-color);\n",
              "    animation:\n",
              "      spin 1s steps(1) infinite;\n",
              "  }\n",
              "\n",
              "  @keyframes spin {\n",
              "    0% {\n",
              "      border-color: transparent;\n",
              "      border-bottom-color: var(--fill-color);\n",
              "      border-left-color: var(--fill-color);\n",
              "    }\n",
              "    20% {\n",
              "      border-color: transparent;\n",
              "      border-left-color: var(--fill-color);\n",
              "      border-top-color: var(--fill-color);\n",
              "    }\n",
              "    30% {\n",
              "      border-color: transparent;\n",
              "      border-left-color: var(--fill-color);\n",
              "      border-top-color: var(--fill-color);\n",
              "      border-right-color: var(--fill-color);\n",
              "    }\n",
              "    40% {\n",
              "      border-color: transparent;\n",
              "      border-right-color: var(--fill-color);\n",
              "      border-top-color: var(--fill-color);\n",
              "    }\n",
              "    60% {\n",
              "      border-color: transparent;\n",
              "      border-right-color: var(--fill-color);\n",
              "    }\n",
              "    80% {\n",
              "      border-color: transparent;\n",
              "      border-right-color: var(--fill-color);\n",
              "      border-bottom-color: var(--fill-color);\n",
              "    }\n",
              "    90% {\n",
              "      border-color: transparent;\n",
              "      border-bottom-color: var(--fill-color);\n",
              "    }\n",
              "  }\n",
              "</style>\n",
              "\n",
              "      <script>\n",
              "        async function quickchart(key) {\n",
              "          const quickchartButtonEl =\n",
              "            document.querySelector('#' + key + ' button');\n",
              "          quickchartButtonEl.disabled = true;  // To prevent multiple clicks.\n",
              "          quickchartButtonEl.classList.add('colab-df-spinner');\n",
              "          try {\n",
              "            const charts = await google.colab.kernel.invokeFunction(\n",
              "                'suggestCharts', [key], {});\n",
              "          } catch (error) {\n",
              "            console.error('Error during call to suggestCharts:', error);\n",
              "          }\n",
              "          quickchartButtonEl.classList.remove('colab-df-spinner');\n",
              "          quickchartButtonEl.classList.add('colab-df-quickchart-complete');\n",
              "        }\n",
              "        (() => {\n",
              "          let quickchartButtonEl =\n",
              "            document.querySelector('#df-ea73324b-ec0d-4993-b7b1-494e523482cb button');\n",
              "          quickchartButtonEl.style.display =\n",
              "            google.colab.kernel.accessAllowed ? 'block' : 'none';\n",
              "        })();\n",
              "      </script>\n",
              "    </div>\n",
              "\n",
              "    </div>\n",
              "  </div>\n"
            ],
            "application/vnd.google.colaboratory.intrinsic+json": {
              "type": "dataframe",
              "variable_name": "df_combined",
              "summary": "{\n  \"name\": \"df_combined\",\n  \"rows\": 2000,\n  \"fields\": [\n    {\n      \"column\": \"Blood Status\",\n      \"properties\": {\n        \"dtype\": \"category\",\n        \"num_unique_values\": 3,\n        \"samples\": [\n          \"Half-blood\",\n          \"Pure-blood\",\n          \"Muggle-born\"\n        ],\n        \"semantic_type\": \"\",\n        \"description\": \"\"\n      }\n    },\n    {\n      \"column\": \"Bravery\",\n      \"properties\": {\n        \"dtype\": \"number\",\n        \"std\": 2.296926143302902,\n        \"min\": 1.0,\n        \"max\": 10.0,\n        \"num_unique_values\": 1909,\n        \"samples\": [\n          5.690762740696821,\n          2.0254151239524103,\n          4.72376200422264\n        ],\n        \"semantic_type\": \"\",\n        \"description\": \"\"\n      }\n    },\n    {\n      \"column\": \"Intelligence\",\n      \"properties\": {\n        \"dtype\": \"number\",\n        \"std\": 2.1819243969245927,\n        \"min\": 1.0,\n        \"max\": 10.0,\n        \"num_unique_values\": 1911,\n        \"samples\": [\n          7.159230702179052,\n          6.214039281444381,\n          4.344032510793692\n        ],\n        \"semantic_type\": \"\",\n        \"description\": \"\"\n      }\n    },\n    {\n      \"column\": \"Loyalty\",\n      \"properties\": {\n        \"dtype\": \"number\",\n        \"std\": 2.273597404603445,\n        \"min\": 1.0,\n        \"max\": 10.0,\n        \"num_unique_values\": 1903,\n        \"samples\": [\n          4.374036978223719,\n          6.631055171646193,\n          5.084321931331011\n        ],\n        \"semantic_type\": \"\",\n        \"description\": \"\"\n      }\n    },\n    {\n      \"column\": \"Ambition\",\n      \"properties\": {\n        \"dtype\": \"number\",\n        \"std\": 2.2968346656419096,\n        \"min\": 1.0,\n        \"max\": 10.0,\n        \"num_unique_values\": 1922,\n        \"samples\": [\n          6.14067276815134,\n          3.534755594420044,\n          5.8354756069821105\n        ],\n        \"semantic_type\": \"\",\n        \"description\": \"\"\n      }\n    },\n    {\n      \"column\": \"Dark Arts Knowledge\",\n      \"properties\": {\n        \"dtype\": \"number\",\n        \"std\": 2.569147923300742,\n        \"min\": 1.0,\n        \"max\": 10.0,\n        \"num_unique_values\": 1678,\n        \"samples\": [\n          2.6163247363244335,\n          4.290478312347172,\n          1.8841265002595449\n        ],\n        \"semantic_type\": \"\",\n        \"description\": \"\"\n      }\n    },\n    {\n      \"column\": \"Quidditch Skills\",\n      \"properties\": {\n        \"dtype\": \"number\",\n        \"std\": 2.249967923360383,\n        \"min\": 1.0,\n        \"max\": 10.0,\n        \"num_unique_values\": 1879,\n        \"samples\": [\n          6.585785469731662,\n          5.0478019763147985,\n          5.834796666247546\n        ],\n        \"semantic_type\": \"\",\n        \"description\": \"\"\n      }\n    },\n    {\n      \"column\": \"Dueling Skills\",\n      \"properties\": {\n        \"dtype\": \"number\",\n        \"std\": 2.3837842300991956,\n        \"min\": 1.0,\n        \"max\": 10.0,\n        \"num_unique_values\": 1890,\n        \"samples\": [\n          6.414939442142435,\n          8.786221102688168,\n          6.710182149708651\n        ],\n        \"semantic_type\": \"\",\n        \"description\": \"\"\n      }\n    },\n    {\n      \"column\": \"Creativity\",\n      \"properties\": {\n        \"dtype\": \"number\",\n        \"std\": 2.288648141449508,\n        \"min\": 1.0,\n        \"max\": 10.0,\n        \"num_unique_values\": 1903,\n        \"samples\": [\n          7.393916887438269,\n          2.2578423067135582,\n          6.750723393597823\n        ],\n        \"semantic_type\": \"\",\n        \"description\": \"\"\n      }\n    },\n    {\n      \"column\": \"House\",\n      \"properties\": {\n        \"dtype\": \"category\",\n        \"num_unique_values\": 4,\n        \"samples\": [\n          \"Ravenclaw\",\n          \"Gryffindor\",\n          \"Hufflepuff\"\n        ],\n        \"semantic_type\": \"\",\n        \"description\": \"\"\n      }\n    }\n  ]\n}"
            }
          },
          "metadata": {},
          "execution_count": 19
        }
      ]
    },
    {
      "cell_type": "markdown",
      "source": [
        "## **Part 3: Training on Realistic Data**"
      ],
      "metadata": {
        "id": "4etANAE8K778"
      }
    },
    {
      "cell_type": "code",
      "source": [
        "# Prepare the realistic dataset\n",
        "X_new = df_combined.drop(\"House\", axis=1)\n",
        "y_new = df_combined[\"House\"]\n",
        "categorical_features = [\"Blood Status\"]\n",
        "\n",
        "#Split the data\n",
        "X_train_new, X_test_new, y_train_new, y_test_new = train_test_split(\n",
        "    X_new, y_new, test_size=0.3, random_state=42, stratify=y_new\n",
        ")\n",
        "\n",
        "# Train a new model on realistic data\n",
        "model_new = CatBoostClassifier(\n",
        "    iterations=500,\n",
        "    depth=6,\n",
        "    learning_rate=0.1,\n",
        "    loss_function=\"MultiClass\",\n",
        "    verbose=100,\n",
        "    random_seed=42\n",
        ")\n",
        "\n",
        "model_new.fit(X_train_new, y_train_new, cat_features=categorical_features)\n"
      ],
      "metadata": {
        "colab": {
          "base_uri": "https://localhost:8080/"
        },
        "id": "abgsJAIfe_i5",
        "outputId": "dc744df9-7e53-46e1-86e3-f2b9883faa6b"
      },
      "execution_count": 20,
      "outputs": [
        {
          "output_type": "stream",
          "name": "stdout",
          "text": [
            "0:\tlearn: 1.1980433\ttotal: 43.7ms\tremaining: 21.8s\n",
            "100:\tlearn: 0.1201021\ttotal: 7.46s\tremaining: 29.5s\n",
            "200:\tlearn: 0.0695173\ttotal: 10.4s\tremaining: 15.5s\n",
            "300:\tlearn: 0.0473206\ttotal: 11.6s\tremaining: 7.66s\n",
            "400:\tlearn: 0.0331309\ttotal: 12.8s\tremaining: 3.15s\n",
            "499:\tlearn: 0.0255624\ttotal: 13.9s\tremaining: 0us\n"
          ]
        },
        {
          "output_type": "execute_result",
          "data": {
            "text/plain": [
              "<catboost.core.CatBoostClassifier at 0x7d8fd04962a0>"
            ]
          },
          "metadata": {},
          "execution_count": 20
        }
      ]
    },
    {
      "cell_type": "markdown",
      "source": [
        "### **Results**"
      ],
      "metadata": {
        "id": "QpYmCMFrLVAb"
      }
    },
    {
      "cell_type": "markdown",
      "source": [
        "Predict on realistic test set"
      ],
      "metadata": {
        "id": "sURn_EldLecP"
      }
    },
    {
      "cell_type": "code",
      "source": [
        "# Predict house labels\n",
        "y_pred_new = model_new.predict(X_test_new)\n",
        "\n",
        "# Predict probabilities\n",
        "y_probs_new = model_new.predict_proba(X_test_new)\n"
      ],
      "metadata": {
        "id": "ByH3SovDfUNW"
      },
      "execution_count": 21,
      "outputs": []
    },
    {
      "cell_type": "code",
      "source": [
        "model_new.save_model(\"the_sorting_hat_2.0_model.cbm\")"
      ],
      "metadata": {
        "id": "jfggM9Y1A33r"
      },
      "execution_count": 22,
      "outputs": []
    },
    {
      "cell_type": "code",
      "source": [
        "# Accuracy\n",
        "print(\"Accuracy:\", accuracy_score(y_test_new, y_pred_new))\n",
        "\n",
        "# Detailed metrics\n",
        "print(\"\\nClassification Report:\\n\", classification_report(y_test_new, y_pred_new))\n",
        "\n",
        "cm_new = confusion_matrix(y_test_new, y_pred_new, labels=model.classes_)\n",
        "cm_percent_new = cm_new.astype('float') / cm_new.sum(axis=1)[:, np.newaxis] * 100\n",
        "sns.heatmap(cm_percent_new, annot=True, fmt=\".1f\", cmap=\"Reds\",\n",
        "            xticklabels=model_new.classes_, yticklabels=model_new.classes_)\n",
        "plt.xlabel(\"Predicted\")\n",
        "plt.ylabel(\"Actual\")\n",
        "plt.title(\"Confusion Matrix\")\n",
        "plt.show()\n"
      ],
      "metadata": {
        "colab": {
          "base_uri": "https://localhost:8080/",
          "height": 722
        },
        "id": "owefA2DNfYCh",
        "outputId": "9245e043-f4db-4f7e-baa1-fc0711035204"
      },
      "execution_count": 23,
      "outputs": [
        {
          "output_type": "stream",
          "name": "stdout",
          "text": [
            "Accuracy: 0.945\n",
            "\n",
            "Classification Report:\n",
            "               precision    recall  f1-score   support\n",
            "\n",
            "  Gryffindor       0.97      0.92      0.94       143\n",
            "  Hufflepuff       0.91      0.98      0.95       150\n",
            "   Ravenclaw       0.92      0.89      0.91       152\n",
            "   Slytherin       0.97      0.99      0.98       155\n",
            "\n",
            "    accuracy                           0.94       600\n",
            "   macro avg       0.95      0.94      0.94       600\n",
            "weighted avg       0.95      0.94      0.94       600\n",
            "\n"
          ]
        },
        {
          "output_type": "display_data",
          "data": {
            "text/plain": [
              "<Figure size 640x480 with 2 Axes>"
            ],
            "image/png": "[encoded data removed]"
          },
          "metadata": {}
        }
      ]
    },
    {
      "cell_type": "markdown",
      "source": [
        "Now we have a realistic result!\n",
        "\n",
        "\n"
      ],
      "metadata": {
        "id": "s2_cP9raAJ9A"
      }
    },
    {
      "cell_type": "markdown",
      "source": [
        "## **Part 4: The Sorting Hat in Action**"
      ],
      "metadata": {
        "id": "TVq5bXEMLnpk"
      }
    },
    {
      "cell_type": "code",
      "source": [
        "def sort_student(name, blood_status, bravery, intelligence, loyalty, ambition,\n",
        "                 dark_arts, quidditch, dueling, creativity, model=model_new, threshold=0.15):\n",
        "\n",
        "\n",
        "    # Create student data\n",
        "    student = pd.DataFrame([{\n",
        "        \"Blood Status\": blood_status,\n",
        "        \"Bravery\": bravery,\n",
        "        \"Intelligence\": intelligence,\n",
        "        \"Loyalty\": loyalty,\n",
        "        \"Ambition\": ambition,\n",
        "        \"Dark Arts Knowledge\": dark_arts,\n",
        "        \"Quidditch Skills\": quidditch,\n",
        "        \"Dueling Skills\": dueling,\n",
        "        \"Creativity\": creativity\n",
        "    }])\n",
        "\n",
        "    # Specify categorical columns\n",
        "    cat_features = [\"Blood Status\"]\n",
        "\n",
        "    # Create CatBoost Pool\n",
        "    student_pool = Pool(data=student, cat_features=cat_features)\n",
        "\n",
        "    # Make prediction\n",
        "    predicted_house = model.predict(student_pool).item()\n",
        "    probabilities = model.predict_proba(student_pool)[0]\n",
        "    prob_dict = dict(zip(model.classes_, probabilities))\n",
        "\n",
        "    # Sort probabilities\n",
        "    sorted_probs = sorted(prob_dict.items(), key=lambda x: x[1], reverse=True)\n",
        "\n",
        "    # Create personalized message\n",
        "    message = f\"🎓 {name}, welcome to {predicted_house}!\\n\\n\"\n",
        "    message += f\"The Sorting Hat has spoken!\"\n",
        "\n",
        "    # Show all house probabilities\n",
        "    message += \"\\n\\n House Probabilities:\"\n",
        "    for house, prob in sorted_probs:\n",
        "        message += f\"\\n{house}: {prob:.1%}\"\n",
        "\n",
        "    message += \"\\n\\n✨ May your journey at Hogwarts be filled with magic and wonder!\"\n",
        "\n",
        "    return message\n"
      ],
      "metadata": {
        "id": "z7ARtYVmfdQ5"
      },
      "execution_count": 24,
      "outputs": []
    },
    {
      "cell_type": "markdown",
      "source": [
        "Now let's test our Sorting Hat on a new student!"
      ],
      "metadata": {
        "id": "brfQyFaiL5sX"
      }
    },
    {
      "cell_type": "code",
      "source": [
        "result = sort_student(\n",
        "    name=\"Emma\",\n",
        "    blood_status=\"Half-blood\",\n",
        "    bravery=8,\n",
        "    intelligence=9,\n",
        "    loyalty=10,\n",
        "    ambition=3,\n",
        "    dark_arts=3,\n",
        "    quidditch=10,\n",
        "    dueling=8,\n",
        "    creativity=9\n",
        ")\n",
        "\n",
        "print(result)"
      ],
      "metadata": {
        "colab": {
          "base_uri": "https://localhost:8080/"
        },
        "id": "T-VJAvgNPAxM",
        "outputId": "c968d350-57c0-4767-e08f-57158a6b1942"
      },
      "execution_count": 25,
      "outputs": [
        {
          "output_type": "stream",
          "name": "stdout",
          "text": [
            "🎓 Emma, welcome to Ravenclaw!\n",
            "\n",
            "The Sorting Hat has spoken!\n",
            "\n",
            " House Probabilities:\n",
            "Ravenclaw: 58.4%\n",
            "Gryffindor: 22.4%\n",
            "Hufflepuff: 15.0%\n",
            "Slytherin: 4.3%\n",
            "\n",
            "✨ May your journey at Hogwarts be filled with magic and wonder!\n"
          ]
        }
      ]
    },
    {
      "cell_type": "code",
      "source": [
        "result = sort_student(\n",
        "    name=\"Dan\",\n",
        "    blood_status=\"Half-blood\",\n",
        "    bravery=10,\n",
        "    intelligence=8,\n",
        "    loyalty=3,\n",
        "    ambition=3,\n",
        "    dark_arts=3,\n",
        "    quidditch=5,\n",
        "    dueling=8,\n",
        "    creativity=6\n",
        ")\n",
        "\n",
        "print(result)"
      ],
      "metadata": {
        "colab": {
          "base_uri": "https://localhost:8080/"
        },
        "id": "kmIrP_9laYBI",
        "outputId": "4c262dc7-968f-4700-8e44-3089b3fa77d9"
      },
      "execution_count": 26,
      "outputs": [
        {
          "output_type": "stream",
          "name": "stdout",
          "text": [
            "🎓 Dan, welcome to Gryffindor!\n",
            "\n",
            "The Sorting Hat has spoken!\n",
            "\n",
            " House Probabilities:\n",
            "Gryffindor: 94.7%\n",
            "Ravenclaw: 5.3%\n",
            "Slytherin: 0.0%\n",
            "Hufflepuff: 0.0%\n",
            "\n",
            "✨ May your journey at Hogwarts be filled with magic and wonder!\n"
          ]
        }
      ]
    },
    {
      "cell_type": "markdown",
      "source": [
        "## **Conclusion**"
      ],
      "metadata": {
        "id": "G812t_RWM3PH"
      }
    },
    {
      "cell_type": "markdown",
      "source": [
        "We've successfully built a Hogwarts House predictor that learned an important lesson: not all perfect results are actually perfect!\n",
        "Sometimes the messier, more realistic approach leads to a better, more generalizable model.\n",
        "\n",
        "The Sorting Hat taught us that in machine learning, as in magic, the journey of understanding your data is just as important as the destination of high accuracy.\n",
        "\n",
        "*\"It is our choices, Harry, that show what we truly are, far more than our abilities.\"* - And sometimes, that includes choosing realistic data over perfect results!"
      ],
      "metadata": {
        "id": "T02gbrk0M98a"
      }
    },
    {
      "cell_type": "markdown",
      "source": [
        "Happy coding, and may the odds be ever in your favor... I mean, may your house win the House Cup! 🏆"
      ],
      "metadata": {
        "id": "0WmJG6x2NJQZ"
      }
    }
  ]
}